{
 "cells": [
  {
   "cell_type": "markdown",
   "metadata": {},
   "source": [
    "# EDA and Feature Engineering"
   ]
  },
  {
   "cell_type": "markdown",
   "metadata": {},
   "source": [
    "## Import Libraries and Dataframes"
   ]
  },
  {
   "cell_type": "code",
   "execution_count": 1,
   "metadata": {},
   "outputs": [],
   "source": [
    "import pandas as pd\n",
    "import matplotlib.pyplot as plt\n",
    "import seaborn as sns\n",
    "from nltk.tokenize import RegexpTokenizer\n",
    "from nltk.stem import WordNetLemmatizer"
   ]
  },
  {
   "cell_type": "code",
   "execution_count": 2,
   "metadata": {},
   "outputs": [
    {
     "data": {
      "text/html": [
       "<div>\n",
       "<style scoped>\n",
       "    .dataframe tbody tr th:only-of-type {\n",
       "        vertical-align: middle;\n",
       "    }\n",
       "\n",
       "    .dataframe tbody tr th {\n",
       "        vertical-align: top;\n",
       "    }\n",
       "\n",
       "    .dataframe thead th {\n",
       "        text-align: right;\n",
       "    }\n",
       "</style>\n",
       "<table border=\"1\" class=\"dataframe\">\n",
       "  <thead>\n",
       "    <tr style=\"text-align: right;\">\n",
       "      <th></th>\n",
       "      <th>Unnamed: 0</th>\n",
       "      <th>Unnamed: 0.1</th>\n",
       "      <th>Unnamed: 0.1.1</th>\n",
       "      <th>doi</th>\n",
       "      <th>year</th>\n",
       "      <th>month</th>\n",
       "      <th>day</th>\n",
       "      <th>volume</th>\n",
       "      <th>issue</th>\n",
       "      <th>journal</th>\n",
       "      <th>title</th>\n",
       "      <th>text</th>\n",
       "      <th>abstract</th>\n",
       "      <th>keywords</th>\n",
       "      <th>publisher</th>\n",
       "      <th>retraction_binary</th>\n",
       "      <th>unpacked_keywords</th>\n",
       "      <th>clean_text</th>\n",
       "      <th>clean_text_lem</th>\n",
       "    </tr>\n",
       "  </thead>\n",
       "  <tbody>\n",
       "    <tr>\n",
       "      <th>0</th>\n",
       "      <td>0</td>\n",
       "      <td>0</td>\n",
       "      <td>0</td>\n",
       "      <td>10.1208/s12249-016-0596-x</td>\n",
       "      <td>2016.0</td>\n",
       "      <td>8.0</td>\n",
       "      <td>10.0</td>\n",
       "      <td>18.0</td>\n",
       "      <td>5.0</td>\n",
       "      <td>AAPS PharmSciTech</td>\n",
       "      <td>Study of the Transformations of Micro/Nano-cry...</td>\n",
       "      <td>‘Polymorphism’ generally referred as the abili...</td>\n",
       "      <td>This study elucidates the physical properties ...</td>\n",
       "      <td>['monoclinic', 'nano-sized crystals', 'orthorh...</td>\n",
       "      <td>Springer International Publishing</td>\n",
       "      <td>1</td>\n",
       "      <td>['monoclinic', 'nano-sized', 'crystals', 'orth...</td>\n",
       "      <td>Polymorphism generally referred as the ability...</td>\n",
       "      <td>Polymorphism generally referred a the ability ...</td>\n",
       "    </tr>\n",
       "    <tr>\n",
       "      <th>1</th>\n",
       "      <td>1</td>\n",
       "      <td>1</td>\n",
       "      <td>1</td>\n",
       "      <td>10.1021/acscentsci.9b00224</td>\n",
       "      <td>2019.0</td>\n",
       "      <td>5.0</td>\n",
       "      <td>9.0</td>\n",
       "      <td>5.0</td>\n",
       "      <td>6.0</td>\n",
       "      <td>ACS central science</td>\n",
       "      <td>Targeted Protein Internalization and Degradati...</td>\n",
       "      <td>Traditional\\ndrug development efforts are focu...</td>\n",
       "      <td>Targeted</td>\n",
       "      <td>[]</td>\n",
       "      <td>American Chemical Society</td>\n",
       "      <td>1</td>\n",
       "      <td>[]</td>\n",
       "      <td>Traditional drug development efforts are focus...</td>\n",
       "      <td>Traditional drug development effort are focuse...</td>\n",
       "    </tr>\n",
       "    <tr>\n",
       "      <th>2</th>\n",
       "      <td>2</td>\n",
       "      <td>2</td>\n",
       "      <td>2</td>\n",
       "      <td>10.1021/acsomega.8b00488</td>\n",
       "      <td>2018.0</td>\n",
       "      <td>6.0</td>\n",
       "      <td>27.0</td>\n",
       "      <td>3.0</td>\n",
       "      <td>6.0</td>\n",
       "      <td>ACS omega</td>\n",
       "      <td>Regulating the Microstructure of Intumescent F...</td>\n",
       "      <td>Intumescent flame retardants\\nare now being us...</td>\n",
       "      <td>A compatibilizer</td>\n",
       "      <td>[]</td>\n",
       "      <td>American Chemical Society</td>\n",
       "      <td>1</td>\n",
       "      <td>[]</td>\n",
       "      <td>Intumescent flame retardants are now being use...</td>\n",
       "      <td>Intumescent flame retardant are now being used...</td>\n",
       "    </tr>\n",
       "    <tr>\n",
       "      <th>3</th>\n",
       "      <td>3</td>\n",
       "      <td>3</td>\n",
       "      <td>3</td>\n",
       "      <td>10.1021/acsomega.8b00153</td>\n",
       "      <td>2018.0</td>\n",
       "      <td>6.0</td>\n",
       "      <td>25.0</td>\n",
       "      <td>3.0</td>\n",
       "      <td>6.0</td>\n",
       "      <td>ACS omega</td>\n",
       "      <td>Solid-to-Solid Crystallization of Organic Thin...</td>\n",
       "      <td>Crystal growth process is basic and essential ...</td>\n",
       "      <td>The solid-to-solid crystallization processes o...</td>\n",
       "      <td>[]</td>\n",
       "      <td>American Chemical Society</td>\n",
       "      <td>1</td>\n",
       "      <td>[]</td>\n",
       "      <td>Crystal growth process is basic and essential ...</td>\n",
       "      <td>Crystal growth process is basic and essential ...</td>\n",
       "    </tr>\n",
       "    <tr>\n",
       "      <th>4</th>\n",
       "      <td>4</td>\n",
       "      <td>4</td>\n",
       "      <td>4</td>\n",
       "      <td>10.1107/S1600536811022574</td>\n",
       "      <td>2011.0</td>\n",
       "      <td>6.0</td>\n",
       "      <td>18.0</td>\n",
       "      <td>67.0</td>\n",
       "      <td>NaN</td>\n",
       "      <td>Acta crystallographica. Section E, Structure r...</td>\n",
       "      <td>Oxonium picrate.</td>\n",
       "      <td>For general background to organic salts of pic...</td>\n",
       "      <td>The title compound, H3O+·C6H2N3O7</td>\n",
       "      <td>[]</td>\n",
       "      <td>International Union of Crystallography</td>\n",
       "      <td>1</td>\n",
       "      <td>[]</td>\n",
       "      <td>For general background to organic salts of pic...</td>\n",
       "      <td>For general background to organic salt of picr...</td>\n",
       "    </tr>\n",
       "  </tbody>\n",
       "</table>\n",
       "</div>"
      ],
      "text/plain": [
       "   Unnamed: 0  Unnamed: 0.1  Unnamed: 0.1.1                         doi  \\\n",
       "0           0             0               0   10.1208/s12249-016-0596-x   \n",
       "1           1             1               1  10.1021/acscentsci.9b00224   \n",
       "2           2             2               2    10.1021/acsomega.8b00488   \n",
       "3           3             3               3    10.1021/acsomega.8b00153   \n",
       "4           4             4               4   10.1107/S1600536811022574   \n",
       "\n",
       "     year  month   day  volume  issue  \\\n",
       "0  2016.0    8.0  10.0    18.0    5.0   \n",
       "1  2019.0    5.0   9.0     5.0    6.0   \n",
       "2  2018.0    6.0  27.0     3.0    6.0   \n",
       "3  2018.0    6.0  25.0     3.0    6.0   \n",
       "4  2011.0    6.0  18.0    67.0    NaN   \n",
       "\n",
       "                                             journal  \\\n",
       "0                                  AAPS PharmSciTech   \n",
       "1                                ACS central science   \n",
       "2                                          ACS omega   \n",
       "3                                          ACS omega   \n",
       "4  Acta crystallographica. Section E, Structure r...   \n",
       "\n",
       "                                               title  \\\n",
       "0  Study of the Transformations of Micro/Nano-cry...   \n",
       "1  Targeted Protein Internalization and Degradati...   \n",
       "2  Regulating the Microstructure of Intumescent F...   \n",
       "3  Solid-to-Solid Crystallization of Organic Thin...   \n",
       "4                                   Oxonium picrate.   \n",
       "\n",
       "                                                text  \\\n",
       "0  ‘Polymorphism’ generally referred as the abili...   \n",
       "1  Traditional\\ndrug development efforts are focu...   \n",
       "2  Intumescent flame retardants\\nare now being us...   \n",
       "3  Crystal growth process is basic and essential ...   \n",
       "4  For general background to organic salts of pic...   \n",
       "\n",
       "                                            abstract  \\\n",
       "0  This study elucidates the physical properties ...   \n",
       "1                                           Targeted   \n",
       "2                                   A compatibilizer   \n",
       "3  The solid-to-solid crystallization processes o...   \n",
       "4                  The title compound, H3O+·C6H2N3O7   \n",
       "\n",
       "                                            keywords  \\\n",
       "0  ['monoclinic', 'nano-sized crystals', 'orthorh...   \n",
       "1                                                 []   \n",
       "2                                                 []   \n",
       "3                                                 []   \n",
       "4                                                 []   \n",
       "\n",
       "                                publisher  retraction_binary  \\\n",
       "0       Springer International Publishing                  1   \n",
       "1               American Chemical Society                  1   \n",
       "2               American Chemical Society                  1   \n",
       "3               American Chemical Society                  1   \n",
       "4  International Union of Crystallography                  1   \n",
       "\n",
       "                                   unpacked_keywords  \\\n",
       "0  ['monoclinic', 'nano-sized', 'crystals', 'orth...   \n",
       "1                                                 []   \n",
       "2                                                 []   \n",
       "3                                                 []   \n",
       "4                                                 []   \n",
       "\n",
       "                                          clean_text  \\\n",
       "0  Polymorphism generally referred as the ability...   \n",
       "1  Traditional drug development efforts are focus...   \n",
       "2  Intumescent flame retardants are now being use...   \n",
       "3  Crystal growth process is basic and essential ...   \n",
       "4  For general background to organic salts of pic...   \n",
       "\n",
       "                                      clean_text_lem  \n",
       "0  Polymorphism generally referred a the ability ...  \n",
       "1  Traditional drug development effort are focuse...  \n",
       "2  Intumescent flame retardant are now being used...  \n",
       "3  Crystal growth process is basic and essential ...  \n",
       "4  For general background to organic salt of picr...  "
      ]
     },
     "execution_count": 2,
     "metadata": {},
     "output_type": "execute_result"
    }
   ],
   "source": [
    "total = pd.read_csv('./total_data_cleaned.csv')\n",
    "total.head()"
   ]
  },
  {
   "cell_type": "code",
   "execution_count": 3,
   "metadata": {},
   "outputs": [],
   "source": [
    "total = total.drop(columns=['Unnamed: 0', 'Unnamed: 0.1', 'Unnamed: 0.1.1'])"
   ]
  },
  {
   "cell_type": "code",
   "execution_count": 5,
   "metadata": {},
   "outputs": [
    {
     "data": {
      "text/plain": [
       "Index(['doi', 'year', 'month', 'day', 'volume', 'issue', 'journal', 'title',\n",
       "       'text', 'abstract', 'keywords', 'publisher', 'retraction_binary',\n",
       "       'unpacked_keywords', 'clean_text', 'clean_text_lem'],\n",
       "      dtype='object')"
      ]
     },
     "execution_count": 5,
     "metadata": {},
     "output_type": "execute_result"
    }
   ],
   "source": [
    "total.columns"
   ]
  },
  {
   "cell_type": "code",
   "execution_count": 14,
   "metadata": {},
   "outputs": [],
   "source": [
    "no_retract = pd.read_csv('./no_retraction_data_cleaned.csv')\n",
    "no_retract = no_retract.drop(columns=['Unnamed: 0', 'Unnamed: 0.1', 'Unnamed: 0.1.1'])"
   ]
  },
  {
   "cell_type": "code",
   "execution_count": 15,
   "metadata": {},
   "outputs": [],
   "source": [
    "retract = pd.read_csv('./retraction_data_cleaned.csv')\n",
    "retract = retract.drop(columns=['Unnamed: 0', 'Unnamed: 0.1', 'Unnamed: 0.1.1'])"
   ]
  },
  {
   "cell_type": "code",
   "execution_count": 345,
   "metadata": {},
   "outputs": [],
   "source": [
    "total['year'] = total['year'].astype(str)\n",
    "total['month'] = total['month'].astype(str)\n",
    "total['day'] = total['day'].astype(str)\n",
    "total['volume'] = total['volume'].astype(str)\n",
    "total['issue'] = total['issue'].astype(str)\n",
    "\n",
    "retract['year'] = retract['year'].astype(str)\n",
    "retract['month'] = retract['month'].astype(str)\n",
    "retract['day'] = retract['day'].astype(str)\n",
    "retract['volume'] = retract['volume'].astype(str)\n",
    "retract['issue'] = retract['issue'].astype(str)\n",
    "\n",
    "no_retract['year'] = no_retract['year'].astype(str)\n",
    "no_retract['month'] = no_retract['month'].astype(str)\n",
    "no_retract['day'] = no_retract['day'].astype(str)\n",
    "no_retract['volume'] = no_retract['volume'].astype(str)\n",
    "no_retract['issue'] = no_retract['issue'].astype(str)"
   ]
  },
  {
   "cell_type": "code",
   "execution_count": 346,
   "metadata": {},
   "outputs": [
    {
     "data": {
      "text/plain": [
       "Int64Index([  45,  183,  186,  217,  286,  346,  462,  698,  744,  783,\n",
       "            ...\n",
       "            4788, 4805, 4811, 4823, 4847, 4848, 4850, 4862, 4893, 4960],\n",
       "           dtype='int64', length=240)"
      ]
     },
     "execution_count": 346,
     "metadata": {},
     "output_type": "execute_result"
    }
   ],
   "source": [
    "total.loc[total['abstract'].isnull()==True].index"
   ]
  },
  {
   "cell_type": "code",
   "execution_count": 12,
   "metadata": {},
   "outputs": [
    {
     "name": "stdout",
     "output_type": "stream",
     "text": [
      "<class 'pandas.core.frame.DataFrame'>\n",
      "RangeIndex: 4964 entries, 0 to 4963\n",
      "Data columns (total 16 columns):\n",
      " #   Column             Non-Null Count  Dtype  \n",
      "---  ------             --------------  -----  \n",
      " 0   doi                4964 non-null   object \n",
      " 1   year               4368 non-null   float64\n",
      " 2   month              4368 non-null   float64\n",
      " 3   day                4368 non-null   float64\n",
      " 4   volume             4602 non-null   float64\n",
      " 5   issue              2695 non-null   float64\n",
      " 6   journal            4964 non-null   object \n",
      " 7   title              4964 non-null   object \n",
      " 8   text               4964 non-null   object \n",
      " 9   abstract           4724 non-null   object \n",
      " 10  keywords           4964 non-null   object \n",
      " 11  publisher          4952 non-null   object \n",
      " 12  retraction_binary  4964 non-null   int64  \n",
      " 13  unpacked_keywords  4964 non-null   object \n",
      " 14  clean_text         4964 non-null   object \n",
      " 15  clean_text_lem     4964 non-null   object \n",
      "dtypes: float64(5), int64(1), object(10)\n",
      "memory usage: 620.6+ KB\n"
     ]
    }
   ],
   "source": [
    "total.info()"
   ]
  },
  {
   "cell_type": "markdown",
   "metadata": {},
   "source": [
    "## Feature Engineering"
   ]
  },
  {
   "cell_type": "markdown",
   "metadata": {},
   "source": [
    "### Unpacking Keywords"
   ]
  },
  {
   "cell_type": "markdown",
   "metadata": {},
   "source": [
    "#### Retraction"
   ]
  },
  {
   "cell_type": "code",
   "execution_count": 8,
   "metadata": {},
   "outputs": [],
   "source": [
    "#https://stackoverflow.com/questions/40950791/remove-quotes-from-string-in-python\n",
    "keywords_list = []\n",
    "count = 0\n",
    "for i in retract['keywords']:\n",
    "    if i == []:\n",
    "        pass\n",
    "    else:\n",
    "        for j in i.split():\n",
    "            keywords_list.append(j.replace(\"'\",'').replace('[','').replace(',','').replace(']','').replace('(','').replace(')','').replace('\\\\n', '').replace('\\\\n','').lower())"
   ]
  },
  {
   "cell_type": "code",
   "execution_count": 9,
   "metadata": {},
   "outputs": [
    {
     "data": {
      "text/plain": [
       "            663\n",
       "cell        186\n",
       "antibody    116\n",
       "cancer      112\n",
       "response     89\n",
       "disease      84\n",
       "health       79\n",
       "factor       71\n",
       "theory       67\n",
       "gene         66\n",
       "hiv          61\n",
       "dtype: int64"
      ]
     },
     "execution_count": 9,
     "metadata": {},
     "output_type": "execute_result"
    }
   ],
   "source": [
    "#cells -> cell\n",
    "lemmatizer = WordNetLemmatizer()\n",
    "ls_keywords = []\n",
    "for i in keywords_list:\n",
    "    ls_keywords.append(lemmatizer.lemmatize(i))\n",
    "pd.Series(ls_keywords).value_counts().head(11)"
   ]
  },
  {
   "cell_type": "markdown",
   "metadata": {},
   "source": [
    "#### No Retractions"
   ]
  },
  {
   "cell_type": "code",
   "execution_count": 10,
   "metadata": {},
   "outputs": [],
   "source": [
    "keywords_list = []\n",
    "count = 0\n",
    "for i in no_retract['keywords']:\n",
    "    if i == []:\n",
    "        pass\n",
    "    else:\n",
    "        for j in i.split():\n",
    "            keywords_list.append(j.replace(\"'\",'').replace('[','').replace(',','').replace(']','').replace('(','').replace(')','').replace('\\\\n', '').replace('\\\\n','').lower())"
   ]
  },
  {
   "cell_type": "code",
   "execution_count": 11,
   "metadata": {},
   "outputs": [
    {
     "data": {
      "text/plain": [
       "              839\n",
       "health        535\n",
       "cell          492\n",
       "mental        397\n",
       "protein       268\n",
       "response      261\n",
       "assessment    252\n",
       "theory        250\n",
       "disease       248\n",
       "disorder      245\n",
       "heat          238\n",
       "dtype: int64"
      ]
     },
     "execution_count": 11,
     "metadata": {},
     "output_type": "execute_result"
    }
   ],
   "source": [
    "lemmatizer = WordNetLemmatizer()\n",
    "ls_keywords = []\n",
    "for i in keywords_list:\n",
    "    ls_keywords.append(lemmatizer.lemmatize(i))\n",
    "pd.Series(ls_keywords).value_counts().head(11)"
   ]
  },
  {
   "cell_type": "markdown",
   "metadata": {},
   "source": [
    "### Word Count"
   ]
  },
  {
   "cell_type": "code",
   "execution_count": 12,
   "metadata": {},
   "outputs": [],
   "source": [
    "list_words = []\n",
    "for i in range(0, len(total['clean_text'])):\n",
    "    list_words.append(len(total['clean_text'][i].split()))\n",
    "total['num_words'] = list_words "
   ]
  },
  {
   "cell_type": "markdown",
   "metadata": {},
   "source": [
    "### Character Length"
   ]
  },
  {
   "cell_type": "code",
   "execution_count": 13,
   "metadata": {},
   "outputs": [],
   "source": [
    "list_words = []\n",
    "for i in range(0, len(total['clean_text'])):\n",
    "    list_words.append(len(total['clean_text'][i]))\n",
    "total['character_length'] = list_words "
   ]
  },
  {
   "cell_type": "markdown",
   "metadata": {},
   "source": [
    "### Animal Studies"
   ]
  },
  {
   "cell_type": "code",
   "execution_count": 268,
   "metadata": {},
   "outputs": [
    {
     "data": {
      "text/plain": [
       "(4964, 16)"
      ]
     },
     "execution_count": 268,
     "metadata": {},
     "output_type": "execute_result"
    }
   ],
   "source": [
    "total.shape"
   ]
  },
  {
   "cell_type": "code",
   "execution_count": 274,
   "metadata": {},
   "outputs": [],
   "source": [
    "animal_terms = ['IACUC', 'mouse', 'mice', 'rats', 'rat', 'hamster', 'hamsters', 'pigs', 'rabbits', 'rabbit', \n",
    "                'cat', 'cats', 'dog', 'dogs', 'ungulate', 'ungulates', 'pig', 'horse', 'donkey', 'goat',\n",
    "               'bovine', 'porcine', 'murine','chicken']\n",
    "\n",
    "#http://vetmed.tamu.edu/media/2005639/vadnais%20protein%20therapeutics%202017.pdf\n",
    "#https://www.ncbi.nlm.nih.gov/books/NBK218261/"
   ]
  },
  {
   "cell_type": "code",
   "execution_count": null,
   "metadata": {},
   "outputs": [],
   "source": [
    "list_articles = []\n",
    "iacuc = []\n",
    "for i in range(0, len(total['clean_text'])):\n",
    "    count = 0\n",
    "    for j in total['clean_text'][i].split():\n",
    "        for k in animal_terms:\n",
    "            if j == k:\n",
    "                if i not in list_articles:\n",
    "                    list_articles.append(i)\n",
    "                    iacuc.append(1)\n",
    "                    count = 1\n",
    "            else:\n",
    "                pass\n",
    "    if count == 0:\n",
    "        iacuc.append(0)\n",
    "    else:\n",
    "        pass\n",
    "        \n",
    "print(list_articles)            \n",
    "print(len(list_articles))\n",
    "print(len(iacuc))"
   ]
  },
  {
   "cell_type": "code",
   "execution_count": 276,
   "metadata": {},
   "outputs": [],
   "source": [
    "total['animal_binary'] = iacuc"
   ]
  },
  {
   "cell_type": "code",
   "execution_count": 280,
   "metadata": {},
   "outputs": [
    {
     "name": "stdout",
     "output_type": "stream",
     "text": [
      "1874\n",
      "0\n",
      "[[], [], [], [], []]\n"
     ]
    }
   ],
   "source": [
    "list_articles = []\n",
    "list_words = []\n",
    "for i in range(0, len(total['clean_text'])):\n",
    "    count = 0\n",
    "    iacuc = []\n",
    "    for j in total['clean_text'][i].split():\n",
    "        for k in animal_terms:\n",
    "            if j == k:\n",
    "                if i not in list_articles:\n",
    "                    if j not in iacuc:\n",
    "                        list_articles.append(i)\n",
    "                        iacuc.append(k)\n",
    "                        count = 1\n",
    "            else:\n",
    "                pass\n",
    "    if count == 0:\n",
    "        list_words.append([])\n",
    "    else:\n",
    "        list_words.append(iacuc)\n",
    "                    \n",
    "print(len(list_articles))\n",
    "print(len(iacuc))\n",
    "print(list_words[0:5])"
   ]
  },
  {
   "cell_type": "code",
   "execution_count": 283,
   "metadata": {},
   "outputs": [
    {
     "name": "stdout",
     "output_type": "stream",
     "text": [
      "4964\n",
      "[[], ['rabbit'], ['bovine'], [], []]\n"
     ]
    }
   ],
   "source": [
    "print(len(list_words))\n",
    "print(list_words[20:25])"
   ]
  },
  {
   "cell_type": "code",
   "execution_count": 305,
   "metadata": {},
   "outputs": [],
   "source": [
    "total['animal_words'] = list_words"
   ]
  },
  {
   "cell_type": "code",
   "execution_count": 306,
   "metadata": {},
   "outputs": [
    {
     "data": {
      "text/plain": [
       "[]           0.493819\n",
       "[mice]       0.147690\n",
       "[mouse]      0.085231\n",
       "[bovine]     0.082628\n",
       "[rats]       0.048796\n",
       "[rat]        0.037736\n",
       "[rabbit]     0.025374\n",
       "[murine]     0.023422\n",
       "[dogs]       0.013012\n",
       "[goat]       0.009109\n",
       "[chicken]    0.006506\n",
       "[rabbits]    0.005205\n",
       "[pigs]       0.004554\n",
       "[horse]      0.003904\n",
       "[dog]        0.002602\n",
       "[pig]        0.002602\n",
       "[cat]        0.002602\n",
       "[cats]       0.001952\n",
       "[porcine]    0.001952\n",
       "[hamster]    0.000651\n",
       "[IACUC]      0.000651\n",
       "Name: animal_words, dtype: float64"
      ]
     },
     "execution_count": 306,
     "metadata": {},
     "output_type": "execute_result"
    }
   ],
   "source": [
    "total['animal_words'][:1537].value_counts(normalize=True)"
   ]
  },
  {
   "cell_type": "code",
   "execution_count": 292,
   "metadata": {},
   "outputs": [
    {
     "data": {
      "text/plain": [
       "[]             0.680187\n",
       "[mice]         0.102422\n",
       "[mouse]        0.047272\n",
       "[bovine]       0.037350\n",
       "[rats]         0.030931\n",
       "[rabbits]      0.016924\n",
       "[murine]       0.016924\n",
       "[rat]          0.016633\n",
       "[dogs]         0.007879\n",
       "[rabbit]       0.006711\n",
       "[pigs]         0.005836\n",
       "[cat]          0.004961\n",
       "[chicken]      0.004669\n",
       "[pig]          0.004085\n",
       "[goat]         0.004085\n",
       "[dog]          0.003502\n",
       "[porcine]      0.003502\n",
       "[horse]        0.002918\n",
       "[IACUC]        0.001167\n",
       "[hamster]      0.000875\n",
       "[hamsters]     0.000584\n",
       "[ungulates]    0.000292\n",
       "[cats]         0.000292\n",
       "Name: animal_words, dtype: float64"
      ]
     },
     "execution_count": 292,
     "metadata": {},
     "output_type": "execute_result"
    }
   ],
   "source": [
    "total['animal_words'][1537:].value_counts(normalize=True)"
   ]
  },
  {
   "cell_type": "markdown",
   "metadata": {},
   "source": [
    "### Human Studies"
   ]
  },
  {
   "cell_type": "code",
   "execution_count": 321,
   "metadata": {},
   "outputs": [
    {
     "data": {
      "text/plain": [
       "(4964, 19)"
      ]
     },
     "execution_count": 321,
     "metadata": {},
     "output_type": "execute_result"
    }
   ],
   "source": [
    "total.shape"
   ]
  },
  {
   "cell_type": "code",
   "execution_count": null,
   "metadata": {},
   "outputs": [],
   "source": [
    "list_articles = []\n",
    "irb = []\n",
    "for i in range(0, len(total['clean_text'])):\n",
    "    count = 0\n",
    "    word_count = 0\n",
    "    for j in total['clean_text'][i].split():\n",
    "        if j == 'IRB' or j == 'case':\n",
    "            if j =='IRB':\n",
    "                if i not in list_articles:\n",
    "                    list_articles.append(i)\n",
    "                    irb.append(1)\n",
    "                    count = 1\n",
    "            else:\n",
    "                try:\n",
    "                    if total['clean_text'][i].split()[word_count+1] == 'study':\n",
    "                        if i not in list_articles:\n",
    "                            list_articles.append(i)\n",
    "                            irb.append(1)\n",
    "                            count = 1\n",
    "                            print(f\"{j} {total['clean_text'][i].split()[word_count+1]}\")\n",
    "                    else:\n",
    "                        pass\n",
    "                except:\n",
    "                    pass            \n",
    "        else:\n",
    "            pass\n",
    "        word_count += 1\n",
    "    if count == 0:\n",
    "        irb.append(0)\n",
    "    else:\n",
    "        pass\n",
    "        \n",
    "print(list_articles)            \n",
    "print(len(list_articles))\n",
    "print(len(irb))"
   ]
  },
  {
   "cell_type": "code",
   "execution_count": 331,
   "metadata": {},
   "outputs": [
    {
     "data": {
      "text/plain": [
       "0    0.956409\n",
       "1    0.043591\n",
       "Name: irb_binary, dtype: float64"
      ]
     },
     "execution_count": 331,
     "metadata": {},
     "output_type": "execute_result"
    }
   ],
   "source": [
    "total['irb_binary'] = irb\n",
    "total['irb_binary'][:1537].value_counts(normalize=True)"
   ]
  },
  {
   "cell_type": "code",
   "execution_count": 332,
   "metadata": {},
   "outputs": [
    {
     "data": {
      "text/plain": [
       "0    0.950686\n",
       "1    0.049314\n",
       "Name: irb_binary, dtype: float64"
      ]
     },
     "execution_count": 332,
     "metadata": {},
     "output_type": "execute_result"
    }
   ],
   "source": [
    "total['irb_binary'][1537:].value_counts(normalize=True)"
   ]
  },
  {
   "cell_type": "markdown",
   "metadata": {},
   "source": [
    "### Regulatory Binary"
   ]
  },
  {
   "cell_type": "code",
   "execution_count": 353,
   "metadata": {},
   "outputs": [
    {
     "data": {
      "text/plain": [
       "4964"
      ]
     },
     "execution_count": 353,
     "metadata": {},
     "output_type": "execute_result"
    }
   ],
   "source": [
    "regulatory = []\n",
    "for i in range(0, len(total['irb_binary'])):\n",
    "    if total['irb_binary'][i] == 1 or total['animal_binary'][i] == 1:\n",
    "        if total['irb_binary'][i] == 1 and total['animal_binary'][i] == 1:\n",
    "            regulatory.append(2)\n",
    "        else:\n",
    "            regulatory.append(1)\n",
    "    else:\n",
    "        regulatory.append(0)\n",
    "len(regulatory)"
   ]
  },
  {
   "cell_type": "code",
   "execution_count": 360,
   "metadata": {},
   "outputs": [
    {
     "data": {
      "text/plain": [
       "1    0.488614\n",
       "0    0.480807\n",
       "2    0.030579\n",
       "Name: regulatory, dtype: float64"
      ]
     },
     "execution_count": 360,
     "metadata": {},
     "output_type": "execute_result"
    }
   ],
   "source": [
    "total['reg_binary'] = regulatory\n",
    "total = total.rename(columns={'reg_binary':'regulatory'})\n",
    "total['regulatory'][:1537].value_counts(normalize=True)"
   ]
  },
  {
   "cell_type": "code",
   "execution_count": 361,
   "metadata": {},
   "outputs": [
    {
     "data": {
      "text/plain": [
       "0    0.642836\n",
       "1    0.345200\n",
       "2    0.011964\n",
       "Name: regulatory, dtype: float64"
      ]
     },
     "execution_count": 361,
     "metadata": {},
     "output_type": "execute_result"
    }
   ],
   "source": [
    "total['regulatory'][1537:].value_counts(normalize=True)"
   ]
  },
  {
   "cell_type": "markdown",
   "metadata": {},
   "source": [
    "### Review Binary"
   ]
  },
  {
   "cell_type": "code",
   "execution_count": null,
   "metadata": {},
   "outputs": [],
   "source": [
    "list_articles = []\n",
    "review = []\n",
    "for i in range(0, len(total['clean_text'])):\n",
    "    count = 0\n",
    "    word_count = 0\n",
    "    for j in total['clean_text'][i].split():\n",
    "        if j == 'review':\n",
    "            if total['clean_text'][i].split()[word_count-1] == 'this':\n",
    "                if i not in list_articles:\n",
    "                    list_articles.append(i)\n",
    "                    review.append(1)\n",
    "                    count = 1\n",
    "                    print(f\"{total['clean_text'][i].split()[word_count-1]} {j}\") \n",
    "        else:\n",
    "            pass\n",
    "        word_count += 1\n",
    "    if count == 0:\n",
    "        review.append(0)\n",
    "    else:\n",
    "        pass\n",
    "        \n",
    "print(list_articles)            \n",
    "print(len(list_articles))\n",
    "print(len(review))"
   ]
  },
  {
   "cell_type": "code",
   "execution_count": 343,
   "metadata": {},
   "outputs": [
    {
     "data": {
      "text/plain": [
       "0    0.960963\n",
       "1    0.039037\n",
       "Name: review_binary, dtype: float64"
      ]
     },
     "execution_count": 343,
     "metadata": {},
     "output_type": "execute_result"
    }
   ],
   "source": [
    "total['review_binary'] = review\n",
    "total['review_binary'][:1537].value_counts(normalize=True)"
   ]
  },
  {
   "cell_type": "code",
   "execution_count": 344,
   "metadata": {},
   "outputs": [
    {
     "data": {
      "text/plain": [
       "0    0.941348\n",
       "1    0.058652\n",
       "Name: review_binary, dtype: float64"
      ]
     },
     "execution_count": 344,
     "metadata": {},
     "output_type": "execute_result"
    }
   ],
   "source": [
    "total['review_binary'][1537:].value_counts(normalize=True)"
   ]
  },
  {
   "cell_type": "markdown",
   "metadata": {},
   "source": [
    "## EDA"
   ]
  },
  {
   "cell_type": "markdown",
   "metadata": {},
   "source": [
    "### Correlation Coefficient Heatmap"
   ]
  },
  {
   "cell_type": "code",
   "execution_count": 362,
   "metadata": {},
   "outputs": [
    {
     "data": {
      "image/png": "[encoded data removed]",
      "text/plain": [
       "<Figure size 360x360 with 2 Axes>"
      ]
     },
     "metadata": {
      "needs_background": "light"
     },
     "output_type": "display_data"
    }
   ],
   "source": [
    "plt.figure(figsize=(5,5))\n",
    "sns.heatmap(total.corr(), annot=True);"
   ]
  },
  {
   "cell_type": "markdown",
   "metadata": {},
   "source": [
    "### Character Length"
   ]
  },
  {
   "cell_type": "code",
   "execution_count": 15,
   "metadata": {},
   "outputs": [],
   "source": [
    "list_words = []\n",
    "for i in range(0, len(retract['clean_text'])):\n",
    "    list_words.append(len(retract['clean_text'][i]))\n",
    "retract['character_length'] = list_words \n",
    "\n",
    "list_words = []\n",
    "for i in range(0, len(no_retract['clean_text'])):\n",
    "    list_words.append(len(no_retract['clean_text'][i]))\n",
    "no_retract['character_length'] = list_words "
   ]
  },
  {
   "cell_type": "code",
   "execution_count": 16,
   "metadata": {},
   "outputs": [
    {
     "data": {
      "text/plain": [
       "count    1.537000e+03\n",
       "mean     6.305490e+04\n",
       "std      1.593842e+05\n",
       "min      3.500000e+01\n",
       "25%      1.940000e+04\n",
       "50%      3.272200e+04\n",
       "75%      5.515200e+04\n",
       "max      1.425053e+06\n",
       "Name: character_length, dtype: float64"
      ]
     },
     "execution_count": 16,
     "metadata": {},
     "output_type": "execute_result"
    }
   ],
   "source": [
    "retract['character_length'].describe()"
   ]
  },
  {
   "cell_type": "code",
   "execution_count": 17,
   "metadata": {},
   "outputs": [
    {
     "data": {
      "text/plain": [
       "count    3.427000e+03\n",
       "mean     5.884175e+04\n",
       "std      9.544910e+04\n",
       "min      4.000000e+00\n",
       "25%      1.464800e+04\n",
       "50%      3.168400e+04\n",
       "75%      5.892150e+04\n",
       "max      1.293566e+06\n",
       "Name: character_length, dtype: float64"
      ]
     },
     "execution_count": 17,
     "metadata": {},
     "output_type": "execute_result"
    }
   ],
   "source": [
    "no_retract['character_length'].describe()"
   ]
  },
  {
   "cell_type": "code",
   "execution_count": 18,
   "metadata": {},
   "outputs": [
    {
     "data": {
      "image/png": "[encoded data removed]",
      "text/plain": [
       "<Figure size 1440x720 with 1 Axes>"
      ]
     },
     "metadata": {
      "needs_background": "light"
     },
     "output_type": "display_data"
    }
   ],
   "source": [
    "plt.figure(figsize=(20,10))\n",
    "sns.distplot(no_retract['character_length'], hist=False, kde_kws={\"linewidth\":3});\n",
    "sns.distplot(retract['character_length'], hist=False, kde_kws={\"linewidth\":3});"
   ]
  },
  {
   "cell_type": "markdown",
   "metadata": {},
   "source": [
    "### Word Count"
   ]
  },
  {
   "cell_type": "code",
   "execution_count": 19,
   "metadata": {},
   "outputs": [],
   "source": [
    "list_words = []\n",
    "for i in range(0, len(retract['clean_text'])):\n",
    "    list_words.append(len(retract['clean_text'][i].split()))\n",
    "retract['num_words'] = list_words\n",
    "\n",
    "list_words = []\n",
    "for i in range(0, len(no_retract['clean_text'])):\n",
    "    list_words.append(len(no_retract['clean_text'][i].split()))\n",
    "no_retract['num_words'] = list_words "
   ]
  },
  {
   "cell_type": "code",
   "execution_count": 20,
   "metadata": {},
   "outputs": [
    {
     "data": {
      "text/plain": [
       "count      1537.000000\n",
       "mean      10076.668185\n",
       "std       25532.727862\n",
       "min           6.000000\n",
       "25%        3042.000000\n",
       "50%        5152.000000\n",
       "75%        8917.000000\n",
       "max      230174.000000\n",
       "Name: num_words, dtype: float64"
      ]
     },
     "execution_count": 20,
     "metadata": {},
     "output_type": "execute_result"
    }
   ],
   "source": [
    "retract['num_words'].describe()"
   ]
  },
  {
   "cell_type": "code",
   "execution_count": 21,
   "metadata": {},
   "outputs": [
    {
     "data": {
      "text/plain": [
       "count      3427.000000\n",
       "mean       9352.321564\n",
       "std       15301.982690\n",
       "min           1.000000\n",
       "25%        2290.500000\n",
       "50%        4984.000000\n",
       "75%        9272.500000\n",
       "max      205479.000000\n",
       "Name: num_words, dtype: float64"
      ]
     },
     "execution_count": 21,
     "metadata": {},
     "output_type": "execute_result"
    }
   ],
   "source": [
    "no_retract['num_words'].describe()"
   ]
  },
  {
   "cell_type": "code",
   "execution_count": 22,
   "metadata": {},
   "outputs": [
    {
     "data": {
      "image/png": "[encoded data removed]",
      "text/plain": [
       "<Figure size 1440x720 with 1 Axes>"
      ]
     },
     "metadata": {
      "needs_background": "light"
     },
     "output_type": "display_data"
    }
   ],
   "source": [
    "plt.figure(figsize=(20,10))\n",
    "sns.distplot(no_retract['num_words'], hist=False, kde_kws={\"linewidth\":3});\n",
    "sns.distplot(retract['num_words'], hist=False, kde_kws={\"linewidth\":3});"
   ]
  },
  {
   "cell_type": "markdown",
   "metadata": {},
   "source": [
    "### Keywords Barplots"
   ]
  },
  {
   "cell_type": "code",
   "execution_count": 23,
   "metadata": {},
   "outputs": [
    {
     "data": {
      "image/png": "[encoded data removed]",
      "text/plain": [
       "<Figure size 432x288 with 1 Axes>"
      ]
     },
     "metadata": {
      "needs_background": "light"
     },
     "output_type": "display_data"
    }
   ],
   "source": [
    "sns.barplot(y=['cell', 'antibody', 'cancer', 'response', 'disease', 'health', 'factor', 'theory', 'gene', 'hiv'],\n",
    "           x = [186, 116, 112, 89, 84, 79, 71, 67, 66, 61], orient='h');"
   ]
  },
  {
   "cell_type": "code",
   "execution_count": 24,
   "metadata": {},
   "outputs": [
    {
     "data": {
      "image/png": "[encoded data removed]",
      "text/plain": [
       "<Figure size 432x288 with 1 Axes>"
      ]
     },
     "metadata": {
      "needs_background": "light"
     },
     "output_type": "display_data"
    }
   ],
   "source": [
    "sns.barplot(y=['health', 'cell', 'mental', 'protein', 'response', 'assessment', 'theory', 'disease', 'disorder', 'heat'],\n",
    "           x = [535, 492, 397, 268, 261, 252, 250, 248, 245, 238], orient='h');"
   ]
  },
  {
   "cell_type": "markdown",
   "metadata": {},
   "source": [
    "### Year Barplots"
   ]
  },
  {
   "cell_type": "code",
   "execution_count": 30,
   "metadata": {},
   "outputs": [
    {
     "data": {
      "image/png": "[encoded data removed]",
      "text/plain": [
       "<Figure size 432x288 with 1 Axes>"
      ]
     },
     "metadata": {
      "needs_background": "light"
     },
     "output_type": "display_data"
    }
   ],
   "source": [
    "sns.countplot(y= retract['year'], orient='h');"
   ]
  },
  {
   "cell_type": "code",
   "execution_count": 31,
   "metadata": {},
   "outputs": [
    {
     "data": {
      "image/png": "[encoded data removed]",
      "text/plain": [
       "<Figure size 432x288 with 1 Axes>"
      ]
     },
     "metadata": {
      "needs_background": "light"
     },
     "output_type": "display_data"
    }
   ],
   "source": [
    "sns.countplot(y =no_retract['year'], orient='h');\n",
    "#Because of URL set up"
   ]
  },
  {
   "cell_type": "markdown",
   "metadata": {},
   "source": [
    "### Month Barplots"
   ]
  },
  {
   "cell_type": "code",
   "execution_count": 34,
   "metadata": {},
   "outputs": [
    {
     "data": {
      "image/png": "[encoded data removed]",
      "text/plain": [
       "<Figure size 432x288 with 1 Axes>"
      ]
     },
     "metadata": {
      "needs_background": "light"
     },
     "output_type": "display_data"
    }
   ],
   "source": [
    "sns.countplot(y=retract['month'], orient='h');"
   ]
  },
  {
   "cell_type": "code",
   "execution_count": 35,
   "metadata": {},
   "outputs": [
    {
     "data": {
      "image/png": "[encoded data removed]",
      "text/plain": [
       "<Figure size 432x288 with 1 Axes>"
      ]
     },
     "metadata": {
      "needs_background": "light"
     },
     "output_type": "display_data"
    }
   ],
   "source": [
    "sns.countplot(y=no_retract['month'], orient='h');\n",
    "#Because of URL set up"
   ]
  },
  {
   "cell_type": "markdown",
   "metadata": {},
   "source": [
    "### Day Barplots"
   ]
  },
  {
   "cell_type": "code",
   "execution_count": 36,
   "metadata": {},
   "outputs": [
    {
     "data": {
      "image/png": "[encoded data removed]",
      "text/plain": [
       "<Figure size 720x720 with 1 Axes>"
      ]
     },
     "metadata": {
      "needs_background": "light"
     },
     "output_type": "display_data"
    }
   ],
   "source": [
    "plt.figure(figsize=(10,10))\n",
    "sns.countplot(y=retract['day'], orient='h');"
   ]
  },
  {
   "cell_type": "code",
   "execution_count": 37,
   "metadata": {},
   "outputs": [
    {
     "data": {
      "image/png": "[encoded data removed]",
      "text/plain": [
       "<Figure size 720x720 with 1 Axes>"
      ]
     },
     "metadata": {
      "needs_background": "light"
     },
     "output_type": "display_data"
    }
   ],
   "source": [
    "plt.figure(figsize=(10,10))\n",
    "sns.countplot(y=no_retract['day'], orient='h');"
   ]
  },
  {
   "cell_type": "markdown",
   "metadata": {},
   "source": [
    "### Volume Barplots"
   ]
  },
  {
   "cell_type": "code",
   "execution_count": 39,
   "metadata": {},
   "outputs": [
    {
     "data": {
      "text/plain": [
       "9.0     105\n",
       "7.0     103\n",
       "8.0      89\n",
       "10.0     77\n",
       "5.0      58\n",
       "11.0     56\n",
       "12.0     51\n",
       "6.0      50\n",
       "3.0      43\n",
       "nan      34\n",
       "4.0      33\n",
       "Name: volume, dtype: int64"
      ]
     },
     "execution_count": 39,
     "metadata": {},
     "output_type": "execute_result"
    }
   ],
   "source": [
    "retract['volume'].value_counts().head(11)"
   ]
  },
  {
   "cell_type": "code",
   "execution_count": 40,
   "metadata": {},
   "outputs": [
    {
     "data": {
      "image/png": "[encoded data removed]",
      "text/plain": [
       "<Figure size 432x288 with 1 Axes>"
      ]
     },
     "metadata": {
      "needs_background": "light"
     },
     "output_type": "display_data"
    }
   ],
   "source": [
    "sns.barplot(y=['9', '7', '8', '10', '5', '11', '12', '6', '3', '4', 'nan'],\n",
    "           x = [105, 103, 89, 77, 58, 56, 51, 50, 43, 33, 34], orient='h');"
   ]
  },
  {
   "cell_type": "code",
   "execution_count": 41,
   "metadata": {},
   "outputs": [
    {
     "data": {
      "text/plain": [
       "nan       328\n",
       "2020.0    270\n",
       "12.0      186\n",
       "7.0       161\n",
       "6.0       156\n",
       "11.0      149\n",
       "8.0       144\n",
       "10.0      143\n",
       "13.0      143\n",
       "9.0       135\n",
       "14.0      117\n",
       "Name: volume, dtype: int64"
      ]
     },
     "execution_count": 41,
     "metadata": {},
     "output_type": "execute_result"
    }
   ],
   "source": [
    "no_retract['volume'].value_counts().head(11)"
   ]
  },
  {
   "cell_type": "code",
   "execution_count": 42,
   "metadata": {},
   "outputs": [
    {
     "data": {
      "image/png": "[encoded data removed]",
      "text/plain": [
       "<Figure size 432x288 with 1 Axes>"
      ]
     },
     "metadata": {
      "needs_background": "light"
     },
     "output_type": "display_data"
    }
   ],
   "source": [
    "sns.barplot(y=['2020', '12', '7', '6', '11', '8', '10', '13', '9', '14', 'nan'],\n",
    "           x = [270, 186, 161, 156, 149, 144, 143, 143, 135, 117, 328], orient='h');"
   ]
  },
  {
   "cell_type": "code",
   "execution_count": 238,
   "metadata": {},
   "outputs": [
    {
     "data": {
      "text/html": [
       "<div>\n",
       "<style scoped>\n",
       "    .dataframe tbody tr th:only-of-type {\n",
       "        vertical-align: middle;\n",
       "    }\n",
       "\n",
       "    .dataframe tbody tr th {\n",
       "        vertical-align: top;\n",
       "    }\n",
       "\n",
       "    .dataframe thead th {\n",
       "        text-align: right;\n",
       "    }\n",
       "</style>\n",
       "<table border=\"1\" class=\"dataframe\">\n",
       "  <thead>\n",
       "    <tr style=\"text-align: right;\">\n",
       "      <th></th>\n",
       "      <th>doi</th>\n",
       "      <th>year</th>\n",
       "      <th>month</th>\n",
       "      <th>day</th>\n",
       "      <th>volume</th>\n",
       "      <th>issue</th>\n",
       "      <th>journal</th>\n",
       "      <th>title</th>\n",
       "      <th>text</th>\n",
       "      <th>abstract</th>\n",
       "      <th>keywords</th>\n",
       "      <th>publisher</th>\n",
       "      <th>retraction_binary</th>\n",
       "      <th>clean_text</th>\n",
       "    </tr>\n",
       "  </thead>\n",
       "  <tbody>\n",
       "    <tr>\n",
       "      <th>69</th>\n",
       "      <td>10.1155/2020/3407907</td>\n",
       "      <td>2020.0</td>\n",
       "      <td>1.0</td>\n",
       "      <td>7.0</td>\n",
       "      <td>2020.0</td>\n",
       "      <td>NaN</td>\n",
       "      <td>Advances in bioinformatics</td>\n",
       "      <td>Data Analysis and Classification of Autism Spe...</td>\n",
       "      <td>Autism spectrum disorder (ASD) is a condition ...</td>\n",
       "      <td>Autism spectrum disorder (ASD) is an early dev...</td>\n",
       "      <td>[]</td>\n",
       "      <td>Hindawi</td>\n",
       "      <td>0</td>\n",
       "      <td>Autism spectrum disorder (ASD) is a condition ...</td>\n",
       "    </tr>\n",
       "    <tr>\n",
       "      <th>70</th>\n",
       "      <td>10.1155/2019/6815105</td>\n",
       "      <td>2019.0</td>\n",
       "      <td>7.0</td>\n",
       "      <td>1.0</td>\n",
       "      <td>2019.0</td>\n",
       "      <td>NaN</td>\n",
       "      <td>Advances in bioinformatics</td>\n",
       "      <td>Peptide-Protein Interaction Studies of Antimic...</td>\n",
       "      <td>Middle East Respiratory Syndrome-Coronavirus (...</td>\n",
       "      <td>There is no effective therapeutic or vaccine f...</td>\n",
       "      <td>[]</td>\n",
       "      <td>Hindawi</td>\n",
       "      <td>0</td>\n",
       "      <td>Middle East Respiratory Syndrome-Coronavirus (...</td>\n",
       "    </tr>\n",
       "    <tr>\n",
       "      <th>71</th>\n",
       "      <td>10.4103/abr.abr_173_19</td>\n",
       "      <td>2020.0</td>\n",
       "      <td>4.0</td>\n",
       "      <td>22.0</td>\n",
       "      <td>9.0</td>\n",
       "      <td>NaN</td>\n",
       "      <td>Advanced biomedical research</td>\n",
       "      <td>Effects of &lt;i&gt;Cyperus rotundus&lt;/i&gt; Extract on ...</td>\n",
       "      <td>Alzheimer's disease (AD) is one of the most co...</td>\n",
       "      <td>Background:</td>\n",
       "      <td>['\\nCyperus rotundus\\n', '\\nneuronal different...</td>\n",
       "      <td>Wolters Kluwer - Medknow</td>\n",
       "      <td>0</td>\n",
       "      <td>Alzheimer's disease (AD) is one of the most co...</td>\n",
       "    </tr>\n",
       "    <tr>\n",
       "      <th>72</th>\n",
       "      <td>10.4103/abr.abr_169_19</td>\n",
       "      <td>2020.0</td>\n",
       "      <td>4.0</td>\n",
       "      <td>22.0</td>\n",
       "      <td>9.0</td>\n",
       "      <td>NaN</td>\n",
       "      <td>Advanced biomedical research</td>\n",
       "      <td>Molecular Epidemiology of Anellovirus Infectio...</td>\n",
       "      <td>Anelloviridae is a viral family which is consi...</td>\n",
       "      <td>Background:</td>\n",
       "      <td>['\\nAnellovirus\\n', '\\nviral infection\\n', '\\n...</td>\n",
       "      <td>Wolters Kluwer - Medknow</td>\n",
       "      <td>0</td>\n",
       "      <td>Anelloviridae is a viral family which is consi...</td>\n",
       "    </tr>\n",
       "    <tr>\n",
       "      <th>73</th>\n",
       "      <td>10.5709/acp-0296-6</td>\n",
       "      <td>2020.0</td>\n",
       "      <td>9.0</td>\n",
       "      <td>3.0</td>\n",
       "      <td>16.0</td>\n",
       "      <td>3.0</td>\n",
       "      <td>Advances in cognitive psychology</td>\n",
       "      <td>Competition Shadow: Anchoring to Fear Versus H...</td>\n",
       "      <td>Innovation is an innately uncertain phenomenon...</td>\n",
       "      <td>We studied the effect of two inconsistent emot...</td>\n",
       "      <td>['fear', 'hope', 'rival estimation', 'trait an...</td>\n",
       "      <td>University of Economics and Human Sciences in ...</td>\n",
       "      <td>0</td>\n",
       "      <td>Innovation is an innately uncertain phenomenon...</td>\n",
       "    </tr>\n",
       "    <tr>\n",
       "      <th>74</th>\n",
       "      <td>10.5709/acp-0295-7</td>\n",
       "      <td>2020.0</td>\n",
       "      <td>8.0</td>\n",
       "      <td>24.0</td>\n",
       "      <td>16.0</td>\n",
       "      <td>3.0</td>\n",
       "      <td>Advances in cognitive psychology</td>\n",
       "      <td>An Investigation on How Inhibition in Cognitiv...</td>\n",
       "      <td>Fluid reasoning—also referred to as fluid inte...</td>\n",
       "      <td>This article reports an investigation of how i...</td>\n",
       "      <td>['fluid reasoning', 'prepotent response inhibi...</td>\n",
       "      <td>University of Economics and Human Sciences in ...</td>\n",
       "      <td>0</td>\n",
       "      <td>Fluid reasoning—also referred to as fluid inte...</td>\n",
       "    </tr>\n",
       "    <tr>\n",
       "      <th>75</th>\n",
       "      <td>10.1155/2020/8768074</td>\n",
       "      <td>2020.0</td>\n",
       "      <td>9.0</td>\n",
       "      <td>9.0</td>\n",
       "      <td>2020.0</td>\n",
       "      <td>NaN</td>\n",
       "      <td>Advances in hematology</td>\n",
       "      <td>Assessing the Performance of Extended Half-Lif...</td>\n",
       "      <td>The one-stage assay is the most common method...</td>\n",
       "      <td>Background</td>\n",
       "      <td>[]</td>\n",
       "      <td>Hindawi</td>\n",
       "      <td>0</td>\n",
       "      <td>The one-stage assay is the most common method ...</td>\n",
       "    </tr>\n",
       "    <tr>\n",
       "      <th>76</th>\n",
       "      <td>10.1155/2020/7341018</td>\n",
       "      <td>2020.0</td>\n",
       "      <td>8.0</td>\n",
       "      <td>26.0</td>\n",
       "      <td>2020.0</td>\n",
       "      <td>NaN</td>\n",
       "      <td>Advances in hematology</td>\n",
       "      <td>Alopecia and Iron Deficiency: An Interventiona...</td>\n",
       "      <td>The aim was to study the demographic and labo...</td>\n",
       "      <td>Background</td>\n",
       "      <td>[]</td>\n",
       "      <td>Hindawi</td>\n",
       "      <td>0</td>\n",
       "      <td>The aim was to study the demographic and labor...</td>\n",
       "    </tr>\n",
       "    <tr>\n",
       "      <th>77</th>\n",
       "      <td>10.22114/ajem.v0i0.292</td>\n",
       "      <td>2019.0</td>\n",
       "      <td>12.0</td>\n",
       "      <td>15.0</td>\n",
       "      <td>4.0</td>\n",
       "      <td>2.0</td>\n",
       "      <td>Advanced journal of emergency medicine</td>\n",
       "      <td>Development and Implementation of Integrated R...</td>\n",
       "      <td>Road traffic injuries (RTIs) are a large and g...</td>\n",
       "      <td>Road traffic accidents stand as one of the lea...</td>\n",
       "      <td>['Accidents, Traffic', 'India', 'Surveillance'...</td>\n",
       "      <td>Tehran University of Medical Sciences</td>\n",
       "      <td>0</td>\n",
       "      <td>Road traffic injuries (RTIs) are a large and g...</td>\n",
       "    </tr>\n",
       "    <tr>\n",
       "      <th>78</th>\n",
       "      <td>10.22114/ajem.v0i0.344</td>\n",
       "      <td>2020.0</td>\n",
       "      <td>2.0</td>\n",
       "      <td>17.0</td>\n",
       "      <td>4.0</td>\n",
       "      <td>2.0</td>\n",
       "      <td>Advanced journal of emergency medicine</td>\n",
       "      <td>Sample Size Calculation Guide - Part 7: How to...</td>\n",
       "      <td>In the previous educational articles, we expla...</td>\n",
       "      <td>NaN</td>\n",
       "      <td>[]</td>\n",
       "      <td>Tehran University of Medical Sciences</td>\n",
       "      <td>0</td>\n",
       "      <td>In the previous educational articles, we expla...</td>\n",
       "    </tr>\n",
       "    <tr>\n",
       "      <th>79</th>\n",
       "      <td>10.1155/2020/6836123</td>\n",
       "      <td>2020.0</td>\n",
       "      <td>7.0</td>\n",
       "      <td>9.0</td>\n",
       "      <td>2020.0</td>\n",
       "      <td>NaN</td>\n",
       "      <td>Advances in medicine</td>\n",
       "      <td>Gnathic Bones and Hyperparathyroidism: A Revie...</td>\n",
       "      <td>There are 4 parathyroid glands located behind ...</td>\n",
       "      <td>Parathyroid glands secrete the parathyroid hor...</td>\n",
       "      <td>[]</td>\n",
       "      <td>Hindawi</td>\n",
       "      <td>0</td>\n",
       "      <td>There are 4 parathyroid glands located behind ...</td>\n",
       "    </tr>\n",
       "  </tbody>\n",
       "</table>\n",
       "</div>"
      ],
      "text/plain": [
       "                       doi    year  month   day  volume  issue  \\\n",
       "69    10.1155/2020/3407907  2020.0    1.0   7.0  2020.0    NaN   \n",
       "70    10.1155/2019/6815105  2019.0    7.0   1.0  2019.0    NaN   \n",
       "71  10.4103/abr.abr_173_19  2020.0    4.0  22.0     9.0    NaN   \n",
       "72  10.4103/abr.abr_169_19  2020.0    4.0  22.0     9.0    NaN   \n",
       "73      10.5709/acp-0296-6  2020.0    9.0   3.0    16.0    3.0   \n",
       "74      10.5709/acp-0295-7  2020.0    8.0  24.0    16.0    3.0   \n",
       "75    10.1155/2020/8768074  2020.0    9.0   9.0  2020.0    NaN   \n",
       "76    10.1155/2020/7341018  2020.0    8.0  26.0  2020.0    NaN   \n",
       "77  10.22114/ajem.v0i0.292  2019.0   12.0  15.0     4.0    2.0   \n",
       "78  10.22114/ajem.v0i0.344  2020.0    2.0  17.0     4.0    2.0   \n",
       "79    10.1155/2020/6836123  2020.0    7.0   9.0  2020.0    NaN   \n",
       "\n",
       "                                   journal  \\\n",
       "69              Advances in bioinformatics   \n",
       "70              Advances in bioinformatics   \n",
       "71            Advanced biomedical research   \n",
       "72            Advanced biomedical research   \n",
       "73        Advances in cognitive psychology   \n",
       "74        Advances in cognitive psychology   \n",
       "75                  Advances in hematology   \n",
       "76                  Advances in hematology   \n",
       "77  Advanced journal of emergency medicine   \n",
       "78  Advanced journal of emergency medicine   \n",
       "79                    Advances in medicine   \n",
       "\n",
       "                                                title  \\\n",
       "69  Data Analysis and Classification of Autism Spe...   \n",
       "70  Peptide-Protein Interaction Studies of Antimic...   \n",
       "71  Effects of <i>Cyperus rotundus</i> Extract on ...   \n",
       "72  Molecular Epidemiology of Anellovirus Infectio...   \n",
       "73  Competition Shadow: Anchoring to Fear Versus H...   \n",
       "74  An Investigation on How Inhibition in Cognitiv...   \n",
       "75  Assessing the Performance of Extended Half-Lif...   \n",
       "76  Alopecia and Iron Deficiency: An Interventiona...   \n",
       "77  Development and Implementation of Integrated R...   \n",
       "78  Sample Size Calculation Guide - Part 7: How to...   \n",
       "79  Gnathic Bones and Hyperparathyroidism: A Revie...   \n",
       "\n",
       "                                                 text  \\\n",
       "69  Autism spectrum disorder (ASD) is a condition ...   \n",
       "70  Middle East Respiratory Syndrome-Coronavirus (...   \n",
       "71  Alzheimer's disease (AD) is one of the most co...   \n",
       "72  Anelloviridae is a viral family which is consi...   \n",
       "73  Innovation is an innately uncertain phenomenon...   \n",
       "74  Fluid reasoning—also referred to as fluid inte...   \n",
       "75   The one-stage assay is the most common method...   \n",
       "76   The aim was to study the demographic and labo...   \n",
       "77  Road traffic injuries (RTIs) are a large and g...   \n",
       "78  In the previous educational articles, we expla...   \n",
       "79  There are 4 parathyroid glands located behind ...   \n",
       "\n",
       "                                             abstract  \\\n",
       "69  Autism spectrum disorder (ASD) is an early dev...   \n",
       "70  There is no effective therapeutic or vaccine f...   \n",
       "71                                        Background:   \n",
       "72                                        Background:   \n",
       "73  We studied the effect of two inconsistent emot...   \n",
       "74  This article reports an investigation of how i...   \n",
       "75                                         Background   \n",
       "76                                         Background   \n",
       "77  Road traffic accidents stand as one of the lea...   \n",
       "78                                                NaN   \n",
       "79  Parathyroid glands secrete the parathyroid hor...   \n",
       "\n",
       "                                             keywords  \\\n",
       "69                                                 []   \n",
       "70                                                 []   \n",
       "71  ['\\nCyperus rotundus\\n', '\\nneuronal different...   \n",
       "72  ['\\nAnellovirus\\n', '\\nviral infection\\n', '\\n...   \n",
       "73  ['fear', 'hope', 'rival estimation', 'trait an...   \n",
       "74  ['fluid reasoning', 'prepotent response inhibi...   \n",
       "75                                                 []   \n",
       "76                                                 []   \n",
       "77  ['Accidents, Traffic', 'India', 'Surveillance'...   \n",
       "78                                                 []   \n",
       "79                                                 []   \n",
       "\n",
       "                                            publisher  retraction_binary  \\\n",
       "69                                            Hindawi                  0   \n",
       "70                                            Hindawi                  0   \n",
       "71                           Wolters Kluwer - Medknow                  0   \n",
       "72                           Wolters Kluwer - Medknow                  0   \n",
       "73  University of Economics and Human Sciences in ...                  0   \n",
       "74  University of Economics and Human Sciences in ...                  0   \n",
       "75                                            Hindawi                  0   \n",
       "76                                            Hindawi                  0   \n",
       "77              Tehran University of Medical Sciences                  0   \n",
       "78              Tehran University of Medical Sciences                  0   \n",
       "79                                            Hindawi                  0   \n",
       "\n",
       "                                           clean_text  \n",
       "69  Autism spectrum disorder (ASD) is a condition ...  \n",
       "70  Middle East Respiratory Syndrome-Coronavirus (...  \n",
       "71  Alzheimer's disease (AD) is one of the most co...  \n",
       "72  Anelloviridae is a viral family which is consi...  \n",
       "73  Innovation is an innately uncertain phenomenon...  \n",
       "74  Fluid reasoning—also referred to as fluid inte...  \n",
       "75  The one-stage assay is the most common method ...  \n",
       "76  The aim was to study the demographic and labor...  \n",
       "77  Road traffic injuries (RTIs) are a large and g...  \n",
       "78  In the previous educational articles, we expla...  \n",
       "79  There are 4 parathyroid glands located behind ...  "
      ]
     },
     "execution_count": 238,
     "metadata": {},
     "output_type": "execute_result"
    }
   ],
   "source": [
    "#examples of journal articles with volume = 2020\n",
    "no_retract[69:80]"
   ]
  },
  {
   "cell_type": "markdown",
   "metadata": {},
   "source": [
    "### Issue Barplots"
   ]
  },
  {
   "cell_type": "code",
   "execution_count": 43,
   "metadata": {},
   "outputs": [
    {
     "data": {
      "text/plain": [
       "nan     507\n",
       "1.0     173\n",
       "3.0      89\n",
       "4.0      86\n",
       "2.0      84\n",
       "6.0      79\n",
       "5.0      77\n",
       "7.0      47\n",
       "8.0      45\n",
       "10.0     41\n",
       "12.0     40\n",
       "Name: issue, dtype: int64"
      ]
     },
     "execution_count": 43,
     "metadata": {},
     "output_type": "execute_result"
    }
   ],
   "source": [
    "retract['issue'].value_counts().head(11)"
   ]
  },
  {
   "cell_type": "code",
   "execution_count": 44,
   "metadata": {},
   "outputs": [
    {
     "data": {
      "image/png": "[encoded data removed]",
      "text/plain": [
       "<Figure size 432x288 with 1 Axes>"
      ]
     },
     "metadata": {
      "needs_background": "light"
     },
     "output_type": "display_data"
    }
   ],
   "source": [
    "sns.barplot(y=['1', '3', '4', '2', '6', '5', '7', '8', '10', '12', 'nan'],\n",
    "           x = [173, 89, 86, 84, 79, 77, 47, 45, 41, 40, 507], orient='h');"
   ]
  },
  {
   "cell_type": "code",
   "execution_count": 45,
   "metadata": {},
   "outputs": [
    {
     "data": {
      "text/plain": [
       "nan     1762\n",
       "1.0      633\n",
       "2.0      289\n",
       "3.0      274\n",
       "4.0      167\n",
       "5.0       90\n",
       "9.0       70\n",
       "10.0      27\n",
       "8.0       21\n",
       "6.0       19\n",
       "12.0       9\n",
       "Name: issue, dtype: int64"
      ]
     },
     "execution_count": 45,
     "metadata": {},
     "output_type": "execute_result"
    }
   ],
   "source": [
    "no_retract['issue'].value_counts().head(11)"
   ]
  },
  {
   "cell_type": "code",
   "execution_count": 47,
   "metadata": {},
   "outputs": [
    {
     "data": {
      "image/png": "[encoded data removed]",
      "text/plain": [
       "<Figure size 432x288 with 1 Axes>"
      ]
     },
     "metadata": {
      "needs_background": "light"
     },
     "output_type": "display_data"
    }
   ],
   "source": [
    "sns.barplot(y=['1', '2', '3', '4', '5', '9', '10', '8', '6', '12', 'nan'],\n",
    "           x = [633, 289, 274, 167, 90, 70, 27, 21, 19, 9, 1762], orient='h');"
   ]
  },
  {
   "cell_type": "code",
   "execution_count": null,
   "metadata": {},
   "outputs": [],
   "source": [
    "#Should normalize based on percentages for all these graphs"
   ]
  },
  {
   "cell_type": "markdown",
   "metadata": {},
   "source": [
    "### Journal Barplot"
   ]
  },
  {
   "cell_type": "code",
   "execution_count": 48,
   "metadata": {},
   "outputs": [
    {
     "data": {
      "text/plain": [
       "PloS one                                                                              229\n",
       "The Journal of biological chemistry                                                   169\n",
       "Diagnostic pathology                                                                   30\n",
       "Acta crystallographica. Section E, Structure reports online                            28\n",
       "Medicine                                                                               24\n",
       "OncoTargets and therapy                                                                23\n",
       "BioMed research international                                                          22\n",
       "The Journal of neuroscience : the official journal of the Society for Neuroscience     19\n",
       "European journal of medical research                                                   18\n",
       "Evidence-based complementary and alternative medicine : eCAM                           15\n",
       "Name: journal, dtype: int64"
      ]
     },
     "execution_count": 48,
     "metadata": {},
     "output_type": "execute_result"
    }
   ],
   "source": [
    "retract['journal'].value_counts().head(10)"
   ]
  },
  {
   "cell_type": "code",
   "execution_count": 49,
   "metadata": {},
   "outputs": [
    {
     "data": {
      "image/png": "[encoded data removed]",
      "text/plain": [
       "<Figure size 432x288 with 1 Axes>"
      ]
     },
     "metadata": {
      "needs_background": "light"
     },
     "output_type": "display_data"
    }
   ],
   "source": [
    "sns.barplot(y=['PloS one', 'The Journal of biological chemistry',\n",
    "              'Diagnostic pathology', 'Acta crystallographica. Section E, Structure reports online',\n",
    "              'Medicine', 'OncoTargets and therapy', 'BioMed research international',\n",
    "              'The Journal of neuroscience : the official journal of the Society for Neuroscience',\n",
    "              'European journal of medical research', 'Evidence-based complementary and alternative medicine : eCAM'],\n",
    "           x = [229, 169, 30, 28, 24, 23, 22, 19, 18, 15], orient='h');"
   ]
  },
  {
   "cell_type": "markdown",
   "metadata": {},
   "source": [
    "### Journal Impact Factor Analysis"
   ]
  },
  {
   "cell_type": "markdown",
   "metadata": {},
   "source": [
    "|Journal|Impact Factor|Source|Open Access|Free Access|\n",
    "|---|---|---|---|---|\n",
    "|PLOS ONE|2.740 (2019)|https://en.wikipedia.org/wiki/PLOS_One#References |Some|Immediate|\n",
    "|The Journal of biological chemistry|4.238 (2019)|https://www.jbc.org/site/misc/about.xhtml#about-metrics |Some|12 months or less|\n",
    "|Diagnostic pathology|2.528 (2-year)|https://diagnosticpathology.biomedcentral.com/ |Some|Immediate|\n",
    "|Acta crystallographica. Section E, Structure reports online|0.347 (2011)|https://journals.iucr.org/e/services/about.html |All|Immediate|\n",
    "|Medicine|2.133 (2016)|https://journals.lww.com/md-journal/pages/aboutMedicine.aspx |Some|Immediate|\n",
    "|OncoTargets and therapy|3.046 (2018)|https://en.wikipedia.org/wiki/OncoTargets_and_Therapy |All|Immediate|\n",
    "|BioMed research international|2.583 (2017)|https://en.wikipedia.org/wiki/BioMed_Research_International |All|Immediate|\n",
    "|The Journal of neuroscience : the official journal of the Society for Neuroscience|5.673 (2019)|https://www.jneurosci.org/content/about-jneurosci |Some|6 months|\n",
    "|European journal of medical research|1.414 (2016)|https://en.wikipedia.org/wiki/European_Journal_of_Medical_Research |All|Immediate|\n",
    "|Evidence-based complementary and alternative medicine : eCAM|1.813 (NA)|https://www.hindawi.com/journals/ecam/ |All|Immediate|"
   ]
  },
  {
   "cell_type": "code",
   "execution_count": 101,
   "metadata": {},
   "outputs": [
    {
     "data": {
      "text/html": [
       "<div>\n",
       "<style scoped>\n",
       "    .dataframe tbody tr th:only-of-type {\n",
       "        vertical-align: middle;\n",
       "    }\n",
       "\n",
       "    .dataframe tbody tr th {\n",
       "        vertical-align: top;\n",
       "    }\n",
       "\n",
       "    .dataframe thead th {\n",
       "        text-align: right;\n",
       "    }\n",
       "</style>\n",
       "<table border=\"1\" class=\"dataframe\">\n",
       "  <thead>\n",
       "    <tr style=\"text-align: right;\">\n",
       "      <th></th>\n",
       "      <th>Journal title</th>\n",
       "      <th>NLM TA</th>\n",
       "      <th>pISSN</th>\n",
       "      <th>eISSN</th>\n",
       "      <th>Publisher</th>\n",
       "      <th>LOCATORplus ID</th>\n",
       "      <th>Latest issue</th>\n",
       "      <th>Earliest volume</th>\n",
       "      <th>Free access</th>\n",
       "      <th>Open access</th>\n",
       "      <th>Participation level</th>\n",
       "      <th>Deposit status</th>\n",
       "      <th>Journal URL</th>\n",
       "      <th>participation_full</th>\n",
       "    </tr>\n",
       "  </thead>\n",
       "  <tbody>\n",
       "    <tr>\n",
       "      <th>0</th>\n",
       "      <td>3 Biotech</td>\n",
       "      <td>3 Biotech</td>\n",
       "      <td>2190-572X</td>\n",
       "      <td>2190-5738</td>\n",
       "      <td>Springer</td>\n",
       "      <td>101565857</td>\n",
       "      <td>v.10(9);Sep 2020</td>\n",
       "      <td>v.1;2011</td>\n",
       "      <td>12 months</td>\n",
       "      <td>Some</td>\n",
       "      <td>Full</td>\n",
       "      <td></td>\n",
       "      <td>http://www.ncbi.nlm.nih.gov/pmc/journals/1811/</td>\n",
       "      <td>1</td>\n",
       "    </tr>\n",
       "    <tr>\n",
       "      <th>1</th>\n",
       "      <td>3D Printing in Medicine</td>\n",
       "      <td>3D Print Med</td>\n",
       "      <td>NaN</td>\n",
       "      <td>2365-6271</td>\n",
       "      <td>BioMed Central</td>\n",
       "      <td>101721758</td>\n",
       "      <td>v.5;Dec 2019</td>\n",
       "      <td>v.2;2016</td>\n",
       "      <td>Immediate</td>\n",
       "      <td>All</td>\n",
       "      <td>Full</td>\n",
       "      <td></td>\n",
       "      <td>http://www.ncbi.nlm.nih.gov/pmc/journals/3516/</td>\n",
       "      <td>1</td>\n",
       "    </tr>\n",
       "    <tr>\n",
       "      <th>2</th>\n",
       "      <td>AACE Clinical Case Reports</td>\n",
       "      <td>AACE Clin Case Rep</td>\n",
       "      <td>NaN</td>\n",
       "      <td>2376-0605</td>\n",
       "      <td>American Association of Clinical Endocrinologists</td>\n",
       "      <td>101670593</td>\n",
       "      <td>v.6(5);Sep-Oct 2020</td>\n",
       "      <td>v.5;2019</td>\n",
       "      <td>Immediate</td>\n",
       "      <td>No</td>\n",
       "      <td>Full</td>\n",
       "      <td></td>\n",
       "      <td>http://www.ncbi.nlm.nih.gov/pmc/journals/3582/</td>\n",
       "      <td>1</td>\n",
       "    </tr>\n",
       "    <tr>\n",
       "      <th>3</th>\n",
       "      <td>The AAPS Journal</td>\n",
       "      <td>AAPS J</td>\n",
       "      <td>NaN</td>\n",
       "      <td>1550-7416</td>\n",
       "      <td>American Association of Pharmaceutical Scientists</td>\n",
       "      <td>101223209</td>\n",
       "      <td>v.18(3);May 2016</td>\n",
       "      <td>v.6;2004</td>\n",
       "      <td>NaN</td>\n",
       "      <td>Some</td>\n",
       "      <td>Full</td>\n",
       "      <td>No New Content</td>\n",
       "      <td>http://www.ncbi.nlm.nih.gov/pmc/journals/792/</td>\n",
       "      <td>1</td>\n",
       "    </tr>\n",
       "    <tr>\n",
       "      <th>4</th>\n",
       "      <td>AAPS PharmSci</td>\n",
       "      <td>AAPS PharmSci</td>\n",
       "      <td>NaN</td>\n",
       "      <td>1522-1059</td>\n",
       "      <td>American Association of Pharmaceutical Scientists</td>\n",
       "      <td>100897065</td>\n",
       "      <td>v.6(2);Jun 2004</td>\n",
       "      <td>v.1;1999</td>\n",
       "      <td>Immediate</td>\n",
       "      <td>No</td>\n",
       "      <td>Full</td>\n",
       "      <td>Predecessor</td>\n",
       "      <td>http://www.ncbi.nlm.nih.gov/pmc/journals/989/</td>\n",
       "      <td>1</td>\n",
       "    </tr>\n",
       "  </tbody>\n",
       "</table>\n",
       "</div>"
      ],
      "text/plain": [
       "                Journal title              NLM TA      pISSN      eISSN  \\\n",
       "0                   3 Biotech           3 Biotech  2190-572X  2190-5738   \n",
       "1     3D Printing in Medicine        3D Print Med        NaN  2365-6271   \n",
       "2  AACE Clinical Case Reports  AACE Clin Case Rep        NaN  2376-0605   \n",
       "3            The AAPS Journal              AAPS J        NaN  1550-7416   \n",
       "4               AAPS PharmSci       AAPS PharmSci        NaN  1522-1059   \n",
       "\n",
       "                                           Publisher LOCATORplus ID  \\\n",
       "0                                           Springer      101565857   \n",
       "1                                     BioMed Central      101721758   \n",
       "2  American Association of Clinical Endocrinologists      101670593   \n",
       "3  American Association of Pharmaceutical Scientists      101223209   \n",
       "4  American Association of Pharmaceutical Scientists      100897065   \n",
       "\n",
       "          Latest issue Earliest volume Free access Open access  \\\n",
       "0     v.10(9);Sep 2020        v.1;2011   12 months        Some   \n",
       "1         v.5;Dec 2019        v.2;2016   Immediate         All   \n",
       "2  v.6(5);Sep-Oct 2020        v.5;2019   Immediate          No   \n",
       "3     v.18(3);May 2016        v.6;2004         NaN        Some   \n",
       "4      v.6(2);Jun 2004        v.1;1999   Immediate          No   \n",
       "\n",
       "  Participation level    Deposit status  \\\n",
       "0               Full                      \n",
       "1               Full                      \n",
       "2               Full                      \n",
       "3               Full    No New Content    \n",
       "4               Full       Predecessor    \n",
       "\n",
       "                                      Journal URL  participation_full  \n",
       "0  http://www.ncbi.nlm.nih.gov/pmc/journals/1811/                   1  \n",
       "1  http://www.ncbi.nlm.nih.gov/pmc/journals/3516/                   1  \n",
       "2  http://www.ncbi.nlm.nih.gov/pmc/journals/3582/                   1  \n",
       "3   http://www.ncbi.nlm.nih.gov/pmc/journals/792/                   1  \n",
       "4   http://www.ncbi.nlm.nih.gov/pmc/journals/989/                   1  "
      ]
     },
     "execution_count": 101,
     "metadata": {},
     "output_type": "execute_result"
    }
   ],
   "source": [
    "journal_df = pd.read_csv('./journals_in_pmc_clean.csv')\n",
    "journal_df = journal_df.drop(columns=['Unnamed: 0'])\n",
    "journal_df.head()"
   ]
  },
  {
   "cell_type": "code",
   "execution_count": 102,
   "metadata": {},
   "outputs": [
    {
     "data": {
      "text/plain": [
       "4959    Plastic surgery international\n",
       "4960    Plastic surgery international\n",
       "4961            Pleura and peritoneum\n",
       "4962                    PLoS currents\n",
       "4963                    PLoS currents\n",
       "Name: journal, dtype: object"
      ]
     },
     "execution_count": 102,
     "metadata": {},
     "output_type": "execute_result"
    }
   ],
   "source": [
    "total['journal'].tail()"
   ]
  },
  {
   "cell_type": "code",
   "execution_count": 103,
   "metadata": {},
   "outputs": [
    {
     "data": {
      "text/html": [
       "<div>\n",
       "<style scoped>\n",
       "    .dataframe tbody tr th:only-of-type {\n",
       "        vertical-align: middle;\n",
       "    }\n",
       "\n",
       "    .dataframe tbody tr th {\n",
       "        vertical-align: top;\n",
       "    }\n",
       "\n",
       "    .dataframe thead th {\n",
       "        text-align: right;\n",
       "    }\n",
       "</style>\n",
       "<table border=\"1\" class=\"dataframe\">\n",
       "  <thead>\n",
       "    <tr style=\"text-align: right;\">\n",
       "      <th></th>\n",
       "      <th>Journal title</th>\n",
       "      <th>NLM TA</th>\n",
       "      <th>pISSN</th>\n",
       "      <th>eISSN</th>\n",
       "      <th>Publisher</th>\n",
       "      <th>LOCATORplus ID</th>\n",
       "      <th>Latest issue</th>\n",
       "      <th>Earliest volume</th>\n",
       "      <th>Free access</th>\n",
       "      <th>Open access</th>\n",
       "      <th>Participation level</th>\n",
       "      <th>Deposit status</th>\n",
       "      <th>Journal URL</th>\n",
       "      <th>participation_full</th>\n",
       "    </tr>\n",
       "  </thead>\n",
       "  <tbody>\n",
       "    <tr>\n",
       "      <th>2633</th>\n",
       "      <td>PLoS Currents</td>\n",
       "      <td>PLoS Curr</td>\n",
       "      <td>NaN</td>\n",
       "      <td>2157-3999</td>\n",
       "      <td>Public Library of Science</td>\n",
       "      <td>101515638</td>\n",
       "      <td>v.10(Muscular Dystrophy);2018</td>\n",
       "      <td>v.1;2009</td>\n",
       "      <td>Immediate</td>\n",
       "      <td>All</td>\n",
       "      <td>Full</td>\n",
       "      <td></td>\n",
       "      <td>http://www.ncbi.nlm.nih.gov/pmc/?term=%22PLoS+...</td>\n",
       "      <td>1</td>\n",
       "    </tr>\n",
       "  </tbody>\n",
       "</table>\n",
       "</div>"
      ],
      "text/plain": [
       "      Journal title     NLM TA pISSN      eISSN                  Publisher  \\\n",
       "2633  PLoS Currents  PLoS Curr   NaN  2157-3999  Public Library of Science   \n",
       "\n",
       "     LOCATORplus ID                   Latest issue Earliest volume  \\\n",
       "2633      101515638  v.10(Muscular Dystrophy);2018        v.1;2009   \n",
       "\n",
       "     Free access Open access Participation level  Deposit status  \\\n",
       "2633   Immediate         All               Full                    \n",
       "\n",
       "                                            Journal URL  participation_full  \n",
       "2633  http://www.ncbi.nlm.nih.gov/pmc/?term=%22PLoS+...                   1  "
      ]
     },
     "execution_count": 103,
     "metadata": {},
     "output_type": "execute_result"
    }
   ],
   "source": [
    "journal_df.loc[journal_df['Journal title']=='PLoS Currents']"
   ]
  },
  {
   "cell_type": "code",
   "execution_count": 104,
   "metadata": {},
   "outputs": [
    {
     "data": {
      "text/plain": [
       "471"
      ]
     },
     "execution_count": 104,
     "metadata": {},
     "output_type": "execute_result"
    }
   ],
   "source": [
    "len(journal_df[2633:])"
   ]
  },
  {
   "cell_type": "code",
   "execution_count": 248,
   "metadata": {},
   "outputs": [
    {
     "data": {
      "image/png": "[encoded data removed]",
      "text/plain": [
       "<Figure size 432x288 with 1 Axes>"
      ]
     },
     "metadata": {
      "needs_background": "light"
     },
     "output_type": "display_data"
    }
   ],
   "source": [
    "sns.countplot(y=journal_df['Free access'][:2633], orient='h');"
   ]
  },
  {
   "cell_type": "code",
   "execution_count": 250,
   "metadata": {},
   "outputs": [
    {
     "data": {
      "image/png": "[encoded data removed]",
      "text/plain": [
       "<Figure size 432x288 with 1 Axes>"
      ]
     },
     "metadata": {
      "needs_background": "light"
     },
     "output_type": "display_data"
    }
   ],
   "source": [
    "sns.countplot(y = journal_df['Open access'][:2633], orient='h');"
   ]
  },
  {
   "cell_type": "code",
   "execution_count": 107,
   "metadata": {},
   "outputs": [
    {
     "data": {
      "text/html": [
       "<div>\n",
       "<style scoped>\n",
       "    .dataframe tbody tr th:only-of-type {\n",
       "        vertical-align: middle;\n",
       "    }\n",
       "\n",
       "    .dataframe tbody tr th {\n",
       "        vertical-align: top;\n",
       "    }\n",
       "\n",
       "    .dataframe thead th {\n",
       "        text-align: right;\n",
       "    }\n",
       "</style>\n",
       "<table border=\"1\" class=\"dataframe\">\n",
       "  <thead>\n",
       "    <tr style=\"text-align: right;\">\n",
       "      <th></th>\n",
       "      <th>Journal title</th>\n",
       "      <th>NLM TA</th>\n",
       "      <th>pISSN</th>\n",
       "      <th>eISSN</th>\n",
       "      <th>Publisher</th>\n",
       "      <th>LOCATORplus ID</th>\n",
       "      <th>Latest issue</th>\n",
       "      <th>Earliest volume</th>\n",
       "      <th>Free access</th>\n",
       "      <th>Open access</th>\n",
       "      <th>Participation level</th>\n",
       "      <th>Deposit status</th>\n",
       "      <th>Journal URL</th>\n",
       "      <th>participation_full</th>\n",
       "    </tr>\n",
       "  </thead>\n",
       "  <tbody>\n",
       "    <tr>\n",
       "      <th>2637</th>\n",
       "      <td>PLoS ONE</td>\n",
       "      <td>PLoS One</td>\n",
       "      <td>NaN</td>\n",
       "      <td>1932-6203</td>\n",
       "      <td>Public Library of Science</td>\n",
       "      <td>101285081</td>\n",
       "      <td>v.15(9);2020</td>\n",
       "      <td>v.1;2006</td>\n",
       "      <td>Immediate</td>\n",
       "      <td>Some</td>\n",
       "      <td>Full</td>\n",
       "      <td></td>\n",
       "      <td>http://www.ncbi.nlm.nih.gov/pmc/journals/440/</td>\n",
       "      <td>1</td>\n",
       "    </tr>\n",
       "  </tbody>\n",
       "</table>\n",
       "</div>"
      ],
      "text/plain": [
       "     Journal title    NLM TA pISSN      eISSN                  Publisher  \\\n",
       "2637      PLoS ONE  PLoS One   NaN  1932-6203  Public Library of Science   \n",
       "\n",
       "     LOCATORplus ID  Latest issue Earliest volume Free access Open access  \\\n",
       "2637      101285081  v.15(9);2020        v.1;2006   Immediate        Some   \n",
       "\n",
       "     Participation level  Deposit status  \\\n",
       "2637               Full                    \n",
       "\n",
       "                                        Journal URL  participation_full  \n",
       "2637  http://www.ncbi.nlm.nih.gov/pmc/journals/440/                   1  "
      ]
     },
     "execution_count": 107,
     "metadata": {},
     "output_type": "execute_result"
    }
   ],
   "source": [
    "journal_df.loc[journal_df['Journal title']=='PLoS ONE']"
   ]
  },
  {
   "cell_type": "code",
   "execution_count": 111,
   "metadata": {},
   "outputs": [
    {
     "data": {
      "text/html": [
       "<div>\n",
       "<style scoped>\n",
       "    .dataframe tbody tr th:only-of-type {\n",
       "        vertical-align: middle;\n",
       "    }\n",
       "\n",
       "    .dataframe tbody tr th {\n",
       "        vertical-align: top;\n",
       "    }\n",
       "\n",
       "    .dataframe thead th {\n",
       "        text-align: right;\n",
       "    }\n",
       "</style>\n",
       "<table border=\"1\" class=\"dataframe\">\n",
       "  <thead>\n",
       "    <tr style=\"text-align: right;\">\n",
       "      <th></th>\n",
       "      <th>Journal title</th>\n",
       "      <th>NLM TA</th>\n",
       "      <th>pISSN</th>\n",
       "      <th>eISSN</th>\n",
       "      <th>Publisher</th>\n",
       "      <th>LOCATORplus ID</th>\n",
       "      <th>Latest issue</th>\n",
       "      <th>Earliest volume</th>\n",
       "      <th>Free access</th>\n",
       "      <th>Open access</th>\n",
       "      <th>Participation level</th>\n",
       "      <th>Deposit status</th>\n",
       "      <th>Journal URL</th>\n",
       "      <th>participation_full</th>\n",
       "    </tr>\n",
       "  </thead>\n",
       "  <tbody>\n",
       "    <tr>\n",
       "      <th>0</th>\n",
       "      <td>3 biotech</td>\n",
       "      <td>3 Biotech</td>\n",
       "      <td>2190-572X</td>\n",
       "      <td>2190-5738</td>\n",
       "      <td>Springer</td>\n",
       "      <td>101565857</td>\n",
       "      <td>v.10(9);Sep 2020</td>\n",
       "      <td>v.1;2011</td>\n",
       "      <td>12 months</td>\n",
       "      <td>Some</td>\n",
       "      <td>Full</td>\n",
       "      <td></td>\n",
       "      <td>http://www.ncbi.nlm.nih.gov/pmc/journals/1811/</td>\n",
       "      <td>1</td>\n",
       "    </tr>\n",
       "    <tr>\n",
       "      <th>1</th>\n",
       "      <td>3d printing in medicine</td>\n",
       "      <td>3D Print Med</td>\n",
       "      <td>NaN</td>\n",
       "      <td>2365-6271</td>\n",
       "      <td>BioMed Central</td>\n",
       "      <td>101721758</td>\n",
       "      <td>v.5;Dec 2019</td>\n",
       "      <td>v.2;2016</td>\n",
       "      <td>Immediate</td>\n",
       "      <td>All</td>\n",
       "      <td>Full</td>\n",
       "      <td></td>\n",
       "      <td>http://www.ncbi.nlm.nih.gov/pmc/journals/3516/</td>\n",
       "      <td>1</td>\n",
       "    </tr>\n",
       "    <tr>\n",
       "      <th>2</th>\n",
       "      <td>aace clinical case reports</td>\n",
       "      <td>AACE Clin Case Rep</td>\n",
       "      <td>NaN</td>\n",
       "      <td>2376-0605</td>\n",
       "      <td>American Association of Clinical Endocrinologists</td>\n",
       "      <td>101670593</td>\n",
       "      <td>v.6(5);Sep-Oct 2020</td>\n",
       "      <td>v.5;2019</td>\n",
       "      <td>Immediate</td>\n",
       "      <td>No</td>\n",
       "      <td>Full</td>\n",
       "      <td></td>\n",
       "      <td>http://www.ncbi.nlm.nih.gov/pmc/journals/3582/</td>\n",
       "      <td>1</td>\n",
       "    </tr>\n",
       "    <tr>\n",
       "      <th>3</th>\n",
       "      <td>the aaps journal</td>\n",
       "      <td>AAPS J</td>\n",
       "      <td>NaN</td>\n",
       "      <td>1550-7416</td>\n",
       "      <td>American Association of Pharmaceutical Scientists</td>\n",
       "      <td>101223209</td>\n",
       "      <td>v.18(3);May 2016</td>\n",
       "      <td>v.6;2004</td>\n",
       "      <td>NaN</td>\n",
       "      <td>Some</td>\n",
       "      <td>Full</td>\n",
       "      <td>No New Content</td>\n",
       "      <td>http://www.ncbi.nlm.nih.gov/pmc/journals/792/</td>\n",
       "      <td>1</td>\n",
       "    </tr>\n",
       "    <tr>\n",
       "      <th>4</th>\n",
       "      <td>aaps pharmsci</td>\n",
       "      <td>AAPS PharmSci</td>\n",
       "      <td>NaN</td>\n",
       "      <td>1522-1059</td>\n",
       "      <td>American Association of Pharmaceutical Scientists</td>\n",
       "      <td>100897065</td>\n",
       "      <td>v.6(2);Jun 2004</td>\n",
       "      <td>v.1;1999</td>\n",
       "      <td>Immediate</td>\n",
       "      <td>No</td>\n",
       "      <td>Full</td>\n",
       "      <td>Predecessor</td>\n",
       "      <td>http://www.ncbi.nlm.nih.gov/pmc/journals/989/</td>\n",
       "      <td>1</td>\n",
       "    </tr>\n",
       "  </tbody>\n",
       "</table>\n",
       "</div>"
      ],
      "text/plain": [
       "                Journal title              NLM TA      pISSN      eISSN  \\\n",
       "0                   3 biotech           3 Biotech  2190-572X  2190-5738   \n",
       "1     3d printing in medicine        3D Print Med        NaN  2365-6271   \n",
       "2  aace clinical case reports  AACE Clin Case Rep        NaN  2376-0605   \n",
       "3            the aaps journal              AAPS J        NaN  1550-7416   \n",
       "4               aaps pharmsci       AAPS PharmSci        NaN  1522-1059   \n",
       "\n",
       "                                           Publisher LOCATORplus ID  \\\n",
       "0                                           Springer      101565857   \n",
       "1                                     BioMed Central      101721758   \n",
       "2  American Association of Clinical Endocrinologists      101670593   \n",
       "3  American Association of Pharmaceutical Scientists      101223209   \n",
       "4  American Association of Pharmaceutical Scientists      100897065   \n",
       "\n",
       "          Latest issue Earliest volume Free access Open access  \\\n",
       "0     v.10(9);Sep 2020        v.1;2011   12 months        Some   \n",
       "1         v.5;Dec 2019        v.2;2016   Immediate         All   \n",
       "2  v.6(5);Sep-Oct 2020        v.5;2019   Immediate          No   \n",
       "3     v.18(3);May 2016        v.6;2004         NaN        Some   \n",
       "4      v.6(2);Jun 2004        v.1;1999   Immediate          No   \n",
       "\n",
       "  Participation level    Deposit status  \\\n",
       "0               Full                      \n",
       "1               Full                      \n",
       "2               Full                      \n",
       "3               Full    No New Content    \n",
       "4               Full       Predecessor    \n",
       "\n",
       "                                      Journal URL  participation_full  \n",
       "0  http://www.ncbi.nlm.nih.gov/pmc/journals/1811/                   1  \n",
       "1  http://www.ncbi.nlm.nih.gov/pmc/journals/3516/                   1  \n",
       "2  http://www.ncbi.nlm.nih.gov/pmc/journals/3582/                   1  \n",
       "3   http://www.ncbi.nlm.nih.gov/pmc/journals/792/                   1  \n",
       "4   http://www.ncbi.nlm.nih.gov/pmc/journals/989/                   1  "
      ]
     },
     "execution_count": 111,
     "metadata": {},
     "output_type": "execute_result"
    }
   ],
   "source": [
    "tokenizer = RegexpTokenizer(r'\\w+')\n",
    "ls = []\n",
    "for i in journal_df['Journal title']:\n",
    "    text = i.lower()\n",
    "    tokens = tokenizer.tokenize(text)\n",
    "    ls.append(' '.join(tokens))\n",
    "journal_df['Journal title'] = ls\n",
    "journal_df.head()"
   ]
  },
  {
   "cell_type": "code",
   "execution_count": null,
   "metadata": {},
   "outputs": [],
   "source": [
    "ls_free_access = []\n",
    "ls_open_access = []\n",
    "ls_except_count = []\n",
    "count = 0\n",
    "for i in retract['journal']:\n",
    "    try:\n",
    "        text = i.lower()\n",
    "        tokens = tokenizer.tokenize(text)\n",
    "        text_clean = ' '.join(tokens)\n",
    "        x = journal_df.loc[journal_df['Journal title'] == text_clean].index[0]\n",
    "#         ls_free_access.append(journal_df['Free access'][x])\n",
    "        ls_open_access.append(journal_df['Open access'][x])\n",
    "    except:\n",
    "#         ls_free_access.append('')\n",
    "        ls_open_access.append('')\n",
    "        print(count)\n",
    "        ls_except_count.append(count)\n",
    "    count +=1"
   ]
  },
  {
   "cell_type": "code",
   "execution_count": 128,
   "metadata": {},
   "outputs": [
    {
     "name": "stdout",
     "output_type": "stream",
     "text": [
      "[37, 45, 47, 57, 66, 67, 75, 76, 77, 78, 89, 182, 183, 184, 185, 188, 189, 199, 220, 239, 240, 241, 242, 243, 251, 252, 253, 254, 255, 256, 257, 258, 259, 260, 262, 263, 270, 275, 276, 278, 369, 387, 388, 389, 390, 391, 393, 445, 446, 447, 448, 449, 452, 453, 458, 460, 465, 466, 467, 468, 469, 470, 471, 486, 545, 546, 567, 589, 599, 600, 779, 780, 801, 803, 804, 812, 813, 814, 815, 816, 817, 826, 827, 832, 838, 839, 840, 846, 847, 848, 885, 886, 887, 888, 889, 890, 891, 892, 893, 894, 895, 896, 897, 898, 899, 900, 901, 902, 903, 945, 969, 976, 977, 978, 991, 995, 996, 1008, 1010, 1026, 1030, 1031, 1034, 1035, 1036, 1037, 1038, 1040, 1041, 1042, 1043, 1044, 1045, 1046, 1048, 1051, 1071, 1072, 1073, 1078, 1079, 1080, 1081, 1082, 1083, 1084, 1110, 1111, 1116, 1117, 1180, 1193, 1194, 1206, 1207, 1208, 1209, 1210, 1221, 1474, 1479, 1484, 1485, 1486, 1489, 1490, 1491, 1496, 1497, 1498, 1499, 1512, 1517, 1536]\n"
     ]
    }
   ],
   "source": [
    "#free access\n",
    "print(ls_except_count)"
   ]
  },
  {
   "cell_type": "code",
   "execution_count": 130,
   "metadata": {},
   "outputs": [
    {
     "name": "stdout",
     "output_type": "stream",
     "text": [
      "[37, 45, 47, 57, 66, 67, 75, 76, 77, 78, 89, 182, 183, 184, 185, 188, 189, 199, 220, 239, 240, 241, 242, 243, 251, 252, 253, 254, 255, 256, 257, 258, 259, 260, 262, 263, 270, 275, 276, 278, 369, 387, 388, 389, 390, 391, 393, 445, 446, 447, 448, 449, 452, 453, 458, 460, 465, 466, 467, 468, 469, 470, 471, 486, 545, 546, 567, 589, 599, 600, 779, 780, 801, 803, 804, 812, 813, 814, 815, 816, 817, 826, 827, 832, 838, 839, 840, 846, 847, 848, 885, 886, 887, 888, 889, 890, 891, 892, 893, 894, 895, 896, 897, 898, 899, 900, 901, 902, 903, 945, 969, 976, 977, 978, 991, 995, 996, 1008, 1010, 1026, 1030, 1031, 1034, 1035, 1036, 1037, 1038, 1040, 1041, 1042, 1043, 1044, 1045, 1046, 1048, 1051, 1071, 1072, 1073, 1078, 1079, 1080, 1081, 1082, 1083, 1084, 1110, 1111, 1116, 1117, 1180, 1193, 1194, 1206, 1207, 1208, 1209, 1210, 1221, 1474, 1479, 1484, 1485, 1486, 1489, 1490, 1491, 1496, 1497, 1498, 1499, 1512, 1517, 1536]\n"
     ]
    }
   ],
   "source": [
    "#open access\n",
    "print(ls_except_count)"
   ]
  },
  {
   "cell_type": "code",
   "execution_count": null,
   "metadata": {},
   "outputs": [],
   "source": [
    "#https://stackoverflow.com/questions/42334197/add-only-unique-values-to-a-list-in-python/42334215\n",
    "not_included = []\n",
    "for i in ls_except_count:\n",
    "    if {retract['journal'][i]:len(retract.loc[retract['journal']==retract['journal'][i]])} not in not_included:\n",
    "        not_included.append({retract['journal'][i]:len(retract.loc[retract['journal']==retract['journal'][i]])})\n",
    "print(not_included)"
   ]
  },
  {
   "cell_type": "code",
   "execution_count": 134,
   "metadata": {},
   "outputs": [
    {
     "name": "stdout",
     "output_type": "stream",
     "text": [
      "(1537, 16)\n"
     ]
    },
    {
     "data": {
      "text/plain": [
       "87"
      ]
     },
     "execution_count": 134,
     "metadata": {},
     "output_type": "execute_result"
    }
   ],
   "source": [
    "print(retract.shape)\n",
    "len(not_included)"
   ]
  },
  {
   "cell_type": "code",
   "execution_count": 233,
   "metadata": {},
   "outputs": [
    {
     "data": {
      "text/plain": [
       "{'Zhongguo fei ai za zhi = Chinese journal of lung cancer': 1}"
      ]
     },
     "execution_count": 233,
     "metadata": {},
     "output_type": "execute_result"
    }
   ],
   "source": [
    "not_included[86]"
   ]
  },
  {
   "cell_type": "code",
   "execution_count": 241,
   "metadata": {},
   "outputs": [],
   "source": [
    "#free access\n",
    "immediate = [1, 1, 1, 1, 1, 1, 3, 1, 1, 10, 1, 1, 1, 1, 1, 1, 6, 2, 1, 1, 2, 2, \n",
    "             1, 6, 1, 1, 3, 3, 1, 1, 3, 1, 2, 1, 6, 1, 2, 1, 2, 1, 1, 3, 3, 4, 1, 1, 1, 975]\n",
    "twentyfour_months = [15]\n",
    "twentyfour_months_or_less = [1]\n",
    "twelve_months_or_less = [1, 3, 1, 1, 202]\n",
    "twelve_months = [1, 1, 5, 2, 4, 1, 2, 1, 1, 3, 1, 1, 1, 5, 42]\n",
    "no_data = [4, 1, 1, 1, 1, 1, 1, 1, 1, 1, 1, 1, 2, 1, 1, 1, 1, 1, 1]\n",
    "zero_months_or_more = [1]\n",
    "six_months_or_less = [4, 46]\n",
    "six_months = [19, 7]\n",
    "one_month = [2]\n",
    "two_months_or_less = [2]\n",
    "two_months = [1]"
   ]
  },
  {
   "cell_type": "code",
   "execution_count": 251,
   "metadata": {},
   "outputs": [],
   "source": [
    "free_access_types = ['immediate', '24 months', '24 months or less', '12 months or less', \n",
    "               '12 months', 'no data', '0 months or more', '6 months or less', \n",
    "               '6 months', '1 month', '2 months or less', '2 months']\n",
    "free_access = [sum(immediate), sum(twentyfour_months), sum(twentyfour_months_or_less), sum(twelve_months_or_less), \n",
    "               sum(twelve_months), sum(no_data), sum(zero_months_or_more), sum(six_months_or_less), \n",
    "               sum(six_months), sum(one_month), sum(two_months_or_less), sum(two_months)]"
   ]
  },
  {
   "cell_type": "code",
   "execution_count": 252,
   "metadata": {},
   "outputs": [
    {
     "data": {
      "image/png": "[encoded data removed]",
      "text/plain": [
       "<Figure size 432x288 with 1 Axes>"
      ]
     },
     "metadata": {
      "needs_background": "light"
     },
     "output_type": "display_data"
    }
   ],
   "source": [
    "sns.barplot(y= free_access_types, x=free_access);"
   ]
  },
  {
   "cell_type": "code",
   "execution_count": 242,
   "metadata": {},
   "outputs": [],
   "source": [
    "#open access\n",
    "all_ = [1, 1, 1, 1, 1, 1, 1, 1, 1, 6, 1, 2, 2, 1, 6, 1, 3, 1, 1, 2, 1, 1, 2, 1, 1, 3, 3, 1, 1, 604]\n",
    "some = [1, 1, 1, 3, 1, 5, 10, 2, 1, 1, 1, 1, 4, 1, 1, 2, 1, 1, 2, 1, 3, \n",
    "        19, 3, 1, 1, 3, 1, 1, 3, 6, 1, 1, 1, 2, 5, 1, 4, 717]\n",
    "no = [4, 1, 4, 1, 1, 42]\n",
    "no_data = [1, 1, 1, 1, 1, 1, 1, 1, 1, 2, 1, 1, 1, 1, 1, 1]"
   ]
  },
  {
   "cell_type": "code",
   "execution_count": 253,
   "metadata": {},
   "outputs": [],
   "source": [
    "open_access_types = ['all', 'some', 'no', 'no data']\n",
    "open_access = [sum(all_), sum(some), sum(no), sum(no_data)]"
   ]
  },
  {
   "cell_type": "code",
   "execution_count": 254,
   "metadata": {},
   "outputs": [
    {
     "data": {
      "image/png": "[encoded data removed]",
      "text/plain": [
       "<Figure size 432x288 with 1 Axes>"
      ]
     },
     "metadata": {
      "needs_background": "light"
     },
     "output_type": "display_data"
    }
   ],
   "source": [
    "sns.barplot(y= open_access_types, x=open_access);"
   ]
  },
  {
   "cell_type": "markdown",
   "metadata": {},
   "source": [
    "### Publisher Barplots"
   ]
  },
  {
   "cell_type": "code",
   "execution_count": 34,
   "metadata": {},
   "outputs": [
    {
     "data": {
      "text/plain": [
       "Public Library of Science                 0.191129\n",
       "BioMed Central                            0.168950\n",
       "Hindawi Publishing Corporation            0.078930\n",
       "Medknow Publications & Media Pvt Ltd      0.057404\n",
       "Dove Medical Press                        0.038487\n",
       "Nature Publishing Group UK                0.032616\n",
       "Frontiers Media S.A.                      0.030007\n",
       "International Union of Crystallography    0.026745\n",
       "Nature Publishing Group                   0.020222\n",
       "John Wiley and Sons Inc.                  0.018917\n",
       "Name: publisher, dtype: float64"
      ]
     },
     "execution_count": 34,
     "metadata": {},
     "output_type": "execute_result"
    }
   ],
   "source": [
    "retract['publisher'].value_counts(normalize=True).head(10)"
   ]
  },
  {
   "cell_type": "code",
   "execution_count": 18,
   "metadata": {},
   "outputs": [
    {
     "data": {
      "image/png": "[encoded data removed]",
      "text/plain": [
       "<Figure size 432x288 with 1 Axes>"
      ]
     },
     "metadata": {
      "needs_background": "light"
     },
     "output_type": "display_data"
    }
   ],
   "source": [
    "sns.barplot(y=['Public Library of Science', 'BioMed Central', 'Hindawi Publishing Corporation', \n",
    "               'Medknow Publications & Media Pvt Ltd', 'Dove Medical Press', 'Nature Publishing Group UK',\n",
    "              'Frontiers Media S.A.', 'International Union of Crystallography', 'Nature Publishing Group',\n",
    "              'John Wiley and Sons Inc.'],\n",
    "           x = [293, 259, 121, 88, 59, 50, 46, 41, 31, 29], orient='h');"
   ]
  },
  {
   "cell_type": "code",
   "execution_count": 35,
   "metadata": {},
   "outputs": [
    {
     "data": {
      "text/plain": [
       "BioMed Central                    0.159696\n",
       "Hindawi                           0.091840\n",
       "Elsevier                          0.059082\n",
       "SAGE Publications                 0.052062\n",
       "Wolters Kluwer - Medknow          0.045335\n",
       "Dove                              0.035390\n",
       "Hindawi Publishing Corporation    0.031296\n",
       "Frontiers Media S.A.              0.025446\n",
       "John Wiley and Sons Inc.          0.022229\n",
       "American Chemical Society         0.022229\n",
       "Name: publisher, dtype: float64"
      ]
     },
     "execution_count": 35,
     "metadata": {},
     "output_type": "execute_result"
    }
   ],
   "source": [
    "no_retract['publisher'].value_counts(normalize=True).head(10)"
   ]
  },
  {
   "cell_type": "code",
   "execution_count": 19,
   "metadata": {},
   "outputs": [
    {
     "data": {
      "image/png": "[encoded data removed]",
      "text/plain": [
       "<Figure size 432x288 with 1 Axes>"
      ]
     },
     "metadata": {
      "needs_background": "light"
     },
     "output_type": "display_data"
    }
   ],
   "source": [
    "sns.barplot(y=['BioMed Central', 'Hindawi', 'Elsevier', 'SAGE Publications', 'Wolters Kluwer - Medknow',\n",
    "              'Dove', 'Hindawi Publishing Corporation', 'Frontiers Media S.A.', 'John Wiley and Sons Inc.',\n",
    "              'American Chemical Society'],\n",
    "           x = [546, 314, 202, 178, 155, 121, 107, 87, 76, 76], orient='h');"
   ]
  },
  {
   "cell_type": "code",
   "execution_count": null,
   "metadata": {},
   "outputs": [],
   "source": []
  }
 ],
 "metadata": {
  "kernelspec": {
   "display_name": "Python 3",
   "language": "python",
   "name": "python3"
  },
  "language_info": {
   "codemirror_mode": {
    "name": "ipython",
    "version": 3
   },
   "file_extension": ".py",
   "mimetype": "text/x-python",
   "name": "python",
   "nbconvert_exporter": "python",
   "pygments_lexer": "ipython3",
   "version": "3.8.3"
  }
 },
 "nbformat": 4,
 "nbformat_minor": 4
}
