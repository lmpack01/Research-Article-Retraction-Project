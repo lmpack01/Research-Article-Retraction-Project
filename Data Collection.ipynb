{
 "cells": [
  {
   "cell_type": "markdown",
   "metadata": {},
   "source": [
    "# Data Collection"
   ]
  },
  {
   "cell_type": "markdown",
   "metadata": {},
   "source": [
    "## Importing Libraries"
   ]
  },
  {
   "cell_type": "code",
   "execution_count": 2,
   "metadata": {},
   "outputs": [],
   "source": [
    "from Bio import Entrez\n",
    "import pandas as pd\n",
    "import numpy as np\n",
    "import requests\n",
    "import time\n",
    "from bs4 import BeautifulSoup"
   ]
  },
  {
   "cell_type": "markdown",
   "metadata": {},
   "source": []
  },
  {
   "cell_type": "markdown",
   "metadata": {},
   "source": [
    "## Data Collection Workflow"
   ]
  },
  {
   "cell_type": "markdown",
   "metadata": {},
   "source": []
  },
  {
   "cell_type": "markdown",
   "metadata": {},
   "source": [
    "## Accessing Journal Names"
   ]
  },
  {
   "cell_type": "code",
   "execution_count": null,
   "metadata": {},
   "outputs": [],
   "source": [
    "df = pd.read_csv('./journals_in_pmc.csv')\n",
    "df.head()"
   ]
  },
  {
   "cell_type": "code",
   "execution_count": 44,
   "metadata": {},
   "outputs": [
    {
     "data": {
      "text/plain": [
       " Full              3104\n",
       " NIH Portfolio      448\n",
       "Name: Participation level, dtype: int64"
      ]
     },
     "execution_count": 44,
     "metadata": {},
     "output_type": "execute_result"
    }
   ],
   "source": [
    "df['Participation level'].value_counts()"
   ]
  },
  {
   "cell_type": "markdown",
   "metadata": {},
   "source": []
  },
  {
   "cell_type": "code",
   "execution_count": 45,
   "metadata": {},
   "outputs": [],
   "source": [
    "df = pd.concat((df, pd.get_dummies(df['Participation level'], prefix='participation')), axis=1)"
   ]
  },
  {
   "cell_type": "code",
   "execution_count": 46,
   "metadata": {},
   "outputs": [],
   "source": [
    "df['participation_full'] = df['participation_ Full ']"
   ]
  },
  {
   "cell_type": "code",
   "execution_count": 47,
   "metadata": {},
   "outputs": [],
   "source": [
    "df = df.drop(columns=['participation_ NIH Portfolio ', 'participation_ Full '])"
   ]
  },
  {
   "cell_type": "code",
   "execution_count": 48,
   "metadata": {},
   "outputs": [
    {
     "data": {
      "text/plain": [
       "Int64Index([  17,   23,   24,   25,   26,   27,   28,   29,   30,   35,\n",
       "            ...\n",
       "            3396, 3408, 3415, 3427, 3456, 3464, 3476, 3478, 3479, 3544],\n",
       "           dtype='int64', length=448)"
      ]
     },
     "execution_count": 48,
     "metadata": {},
     "output_type": "execute_result"
    }
   ],
   "source": [
    "df.loc[df['participation_full'] == 0].index"
   ]
  },
  {
   "cell_type": "code",
   "execution_count": 49,
   "metadata": {},
   "outputs": [],
   "source": [
    "df = df.drop(df.loc[df['participation_full'] == 0].index, axis=0)"
   ]
  },
  {
   "cell_type": "code",
   "execution_count": 50,
   "metadata": {},
   "outputs": [
    {
     "name": "stdout",
     "output_type": "stream",
     "text": [
      "(3104, 14)\n"
     ]
    },
    {
     "data": {
      "text/plain": [
       "1    3104\n",
       "Name: participation_full, dtype: int64"
      ]
     },
     "execution_count": 50,
     "metadata": {},
     "output_type": "execute_result"
    }
   ],
   "source": [
    "print(df.shape)\n",
    "df['participation_full'].value_counts()"
   ]
  },
  {
   "cell_type": "code",
   "execution_count": null,
   "metadata": {},
   "outputs": [],
   "source": [
    "df.to_csv('./journals_in_pmc_clean.csv')"
   ]
  },
  {
   "cell_type": "code",
   "execution_count": 157,
   "metadata": {},
   "outputs": [
    {
     "data": {
      "text/html": [
       "<div>\n",
       "<style scoped>\n",
       "    .dataframe tbody tr th:only-of-type {\n",
       "        vertical-align: middle;\n",
       "    }\n",
       "\n",
       "    .dataframe tbody tr th {\n",
       "        vertical-align: top;\n",
       "    }\n",
       "\n",
       "    .dataframe thead th {\n",
       "        text-align: right;\n",
       "    }\n",
       "</style>\n",
       "<table border=\"1\" class=\"dataframe\">\n",
       "  <thead>\n",
       "    <tr style=\"text-align: right;\">\n",
       "      <th></th>\n",
       "      <th>Journal title</th>\n",
       "      <th>NLM TA</th>\n",
       "      <th>pISSN</th>\n",
       "      <th>eISSN</th>\n",
       "      <th>Publisher</th>\n",
       "      <th>LOCATORplus ID</th>\n",
       "      <th>Latest issue</th>\n",
       "      <th>Earliest volume</th>\n",
       "      <th>Free access</th>\n",
       "      <th>Open access</th>\n",
       "      <th>Participation level</th>\n",
       "      <th>Deposit status</th>\n",
       "      <th>Journal URL</th>\n",
       "      <th>participation_full</th>\n",
       "    </tr>\n",
       "  </thead>\n",
       "  <tbody>\n",
       "    <tr>\n",
       "      <th>0</th>\n",
       "      <td>3 Biotech</td>\n",
       "      <td>3 Biotech</td>\n",
       "      <td>2190-572X</td>\n",
       "      <td>2190-5738</td>\n",
       "      <td>Springer</td>\n",
       "      <td>101565857</td>\n",
       "      <td>v.10(9);Sep 2020</td>\n",
       "      <td>v.1;2011</td>\n",
       "      <td>12 months</td>\n",
       "      <td>Some</td>\n",
       "      <td>Full</td>\n",
       "      <td></td>\n",
       "      <td>http://www.ncbi.nlm.nih.gov/pmc/journals/1811/</td>\n",
       "      <td>1</td>\n",
       "    </tr>\n",
       "    <tr>\n",
       "      <th>1</th>\n",
       "      <td>3D Printing in Medicine</td>\n",
       "      <td>3D Print Med</td>\n",
       "      <td>NaN</td>\n",
       "      <td>2365-6271</td>\n",
       "      <td>BioMed Central</td>\n",
       "      <td>101721758</td>\n",
       "      <td>v.5;Dec 2019</td>\n",
       "      <td>v.2;2016</td>\n",
       "      <td>Immediate</td>\n",
       "      <td>All</td>\n",
       "      <td>Full</td>\n",
       "      <td></td>\n",
       "      <td>http://www.ncbi.nlm.nih.gov/pmc/journals/3516/</td>\n",
       "      <td>1</td>\n",
       "    </tr>\n",
       "    <tr>\n",
       "      <th>2</th>\n",
       "      <td>AACE Clinical Case Reports</td>\n",
       "      <td>AACE Clin Case Rep</td>\n",
       "      <td>NaN</td>\n",
       "      <td>2376-0605</td>\n",
       "      <td>American Association of Clinical Endocrinologists</td>\n",
       "      <td>101670593</td>\n",
       "      <td>v.6(5);Sep-Oct 2020</td>\n",
       "      <td>v.5;2019</td>\n",
       "      <td>Immediate</td>\n",
       "      <td>No</td>\n",
       "      <td>Full</td>\n",
       "      <td></td>\n",
       "      <td>http://www.ncbi.nlm.nih.gov/pmc/journals/3582/</td>\n",
       "      <td>1</td>\n",
       "    </tr>\n",
       "    <tr>\n",
       "      <th>3</th>\n",
       "      <td>The AAPS Journal</td>\n",
       "      <td>AAPS J</td>\n",
       "      <td>NaN</td>\n",
       "      <td>1550-7416</td>\n",
       "      <td>American Association of Pharmaceutical Scientists</td>\n",
       "      <td>101223209</td>\n",
       "      <td>v.18(3);May 2016</td>\n",
       "      <td>v.6;2004</td>\n",
       "      <td>NaN</td>\n",
       "      <td>Some</td>\n",
       "      <td>Full</td>\n",
       "      <td>No New Content</td>\n",
       "      <td>http://www.ncbi.nlm.nih.gov/pmc/journals/792/</td>\n",
       "      <td>1</td>\n",
       "    </tr>\n",
       "    <tr>\n",
       "      <th>4</th>\n",
       "      <td>AAPS PharmSci</td>\n",
       "      <td>AAPS PharmSci</td>\n",
       "      <td>NaN</td>\n",
       "      <td>1522-1059</td>\n",
       "      <td>American Association of Pharmaceutical Scientists</td>\n",
       "      <td>100897065</td>\n",
       "      <td>v.6(2);Jun 2004</td>\n",
       "      <td>v.1;1999</td>\n",
       "      <td>Immediate</td>\n",
       "      <td>No</td>\n",
       "      <td>Full</td>\n",
       "      <td>Predecessor</td>\n",
       "      <td>http://www.ncbi.nlm.nih.gov/pmc/journals/989/</td>\n",
       "      <td>1</td>\n",
       "    </tr>\n",
       "  </tbody>\n",
       "</table>\n",
       "</div>"
      ],
      "text/plain": [
       "                Journal title              NLM TA      pISSN      eISSN  \\\n",
       "0                   3 Biotech           3 Biotech  2190-572X  2190-5738   \n",
       "1     3D Printing in Medicine        3D Print Med        NaN  2365-6271   \n",
       "2  AACE Clinical Case Reports  AACE Clin Case Rep        NaN  2376-0605   \n",
       "3            The AAPS Journal              AAPS J        NaN  1550-7416   \n",
       "4               AAPS PharmSci       AAPS PharmSci        NaN  1522-1059   \n",
       "\n",
       "                                           Publisher LOCATORplus ID  \\\n",
       "0                                           Springer      101565857   \n",
       "1                                     BioMed Central      101721758   \n",
       "2  American Association of Clinical Endocrinologists      101670593   \n",
       "3  American Association of Pharmaceutical Scientists      101223209   \n",
       "4  American Association of Pharmaceutical Scientists      100897065   \n",
       "\n",
       "          Latest issue Earliest volume Free access Open access  \\\n",
       "0     v.10(9);Sep 2020        v.1;2011   12 months        Some   \n",
       "1         v.5;Dec 2019        v.2;2016   Immediate         All   \n",
       "2  v.6(5);Sep-Oct 2020        v.5;2019   Immediate          No   \n",
       "3     v.18(3);May 2016        v.6;2004         NaN        Some   \n",
       "4      v.6(2);Jun 2004        v.1;1999   Immediate          No   \n",
       "\n",
       "  Participation level    Deposit status  \\\n",
       "0               Full                      \n",
       "1               Full                      \n",
       "2               Full                      \n",
       "3               Full    No New Content    \n",
       "4               Full       Predecessor    \n",
       "\n",
       "                                      Journal URL  participation_full  \n",
       "0  http://www.ncbi.nlm.nih.gov/pmc/journals/1811/                   1  \n",
       "1  http://www.ncbi.nlm.nih.gov/pmc/journals/3516/                   1  \n",
       "2  http://www.ncbi.nlm.nih.gov/pmc/journals/3582/                   1  \n",
       "3   http://www.ncbi.nlm.nih.gov/pmc/journals/792/                   1  \n",
       "4   http://www.ncbi.nlm.nih.gov/pmc/journals/989/                   1  "
      ]
     },
     "execution_count": 157,
     "metadata": {},
     "output_type": "execute_result"
    }
   ],
   "source": [
    "df = pd.read_csv('./journals_in_pmc_clean.csv', index_col=False)\n",
    "df = df.drop(columns=['Unnamed: 0'])\n",
    "df.head()"
   ]
  },
  {
   "cell_type": "markdown",
   "metadata": {},
   "source": []
  },
  {
   "cell_type": "markdown",
   "metadata": {},
   "source": [
    "## Pulling Data from PubMed and PMC - Retractions Only"
   ]
  },
  {
   "cell_type": "markdown",
   "metadata": {},
   "source": [
    "[article](https://medium.com/@kliang933/scraping-big-data-from-public-research-repositories-e-g-pubmed-arxiv-2-488666f6f29b) "
   ]
  },
  {
   "cell_type": "markdown",
   "metadata": {},
   "source": [
    "### Pulling Data from PubMed - Retractions"
   ]
  },
  {
   "cell_type": "code",
   "execution_count": null,
   "metadata": {},
   "outputs": [],
   "source": [
    "ls_num = []\n",
    "ls_id = []\n",
    "ls_doi = []\n",
    "ls_language = []\n",
    "ls_year = []\n",
    "ls_month = []\n",
    "ls_day = []\n",
    "ls_volume = []\n",
    "ls_issue = []\n",
    "ls_journal = []\n",
    "ls_title = []\n",
    "ls_page = []\n",
    "x=0\n",
    "no_doi = 0\n",
    "\n",
    "for i in range(0,len(df['NLM TA'])):\n",
    "    Entrez.email = 'lmpack01@outlook.com'\n",
    "    handle = Entrez.esearch(db='pubmed',term='(hasretractionin) AND ('+df['NLM TA'][i]+'[Journal])', retmode='xml', retmax=1000)\n",
    "    results = Entrez.read(handle)\n",
    "    \n",
    "    ids = ' , '.join(results['IdList'])\n",
    "    print(df['NLM TA'][i],[i])\n",
    "    \n",
    "    if len(ids)==0:\n",
    "        pass\n",
    "    else:\n",
    "        Entrez.email = 'lmpack01@outlook.com'\n",
    "        handle = Entrez.efetch(db='pubmed', id = ids, retmode='xml', rettype='full')\n",
    "        results_id = Entrez.read(handle)\n",
    "        \n",
    "        x += len(results['IdList'])\n",
    "        print(x)\n",
    "        \n",
    "        for j in range(0, len(results['IdList'])):\n",
    "            ls_id.append(results['IdList'][j])\n",
    "            try:\n",
    "                doi = str(results_id['PubmedArticle'][j]['MedlineCitation']['Article']['ELocationID'][0])\n",
    "                ls_doi.append(doi)\n",
    "            except:\n",
    "                ls_doi.append(None)\n",
    "                no_doi += 1\n",
    "                print(no_doi)\n",
    "                \n",
    "            try:\n",
    "                language = str(results_id['PubmedArticle'][j]['MedlineCitation']['Article']['Language'][0])\n",
    "                ls_language.append(language)\n",
    "            except:\n",
    "                ls_language.append(None)\n",
    "                \n",
    "            try:\n",
    "                year = int(results_id['PubmedArticle'][j]['MedlineCitation']['Article']['ArticleDate'][0]['Year'])\n",
    "                ls_year.append(year)\n",
    "            except:\n",
    "                ls_year.append(None)\n",
    "            \n",
    "            try:\n",
    "                month = int(results_id['PubmedArticle'][j]['MedlineCitation']['Article']['ArticleDate'][0]['Month'])\n",
    "                ls_month.append(month)\n",
    "            except:\n",
    "                ls_month.append(None)\n",
    "                \n",
    "            try:\n",
    "                day = int(results_id['PubmedArticle'][j]['MedlineCitation']['Article']['ArticleDate'][0]['Day'])\n",
    "                ls_day.append(day)\n",
    "            except:\n",
    "                ls_day.append(None)\n",
    "                \n",
    "            try:\n",
    "                volume = int(results_id['PubmedArticle'][j]['MedlineCitation']['Article']['Journal']['JournalIssue']['Volume'])\n",
    "                ls_volume.append(volume)\n",
    "            except:\n",
    "                ls_volume.append(None)\n",
    "            \n",
    "            try:\n",
    "                issue = int(results_id['PubmedArticle'][j]['MedlineCitation']['Article']['Journal']['JournalIssue']['Issue'])\n",
    "                ls_issue.append(issue)\n",
    "            except:\n",
    "                ls_issue.append(None)\n",
    "                \n",
    "            try:\n",
    "                journal = str(results_id['PubmedArticle'][j]['MedlineCitation']['Article']['Journal']['Title'])\n",
    "                ls_journal.append(journal)\n",
    "            except:\n",
    "                ls_journal.append(None)\n",
    "                \n",
    "            try:\n",
    "                title = str(results_id['PubmedArticle'][j]['MedlineCitation']['Article']['ArticleTitle'])\n",
    "                ls_title.append(title)\n",
    "            except:\n",
    "                ls_title.append(None)\n",
    "                \n",
    "            try:\n",
    "                page = str(results_id['PubmedArticle'][j]['MedlineCitation']['Article']['Pagination']['MedlinePgn'])\n",
    "                ls_page.append(page)\n",
    "            except:\n",
    "                ls_page.append(None)\n",
    "        \n",
    "    time.sleep(5)"
   ]
  },
  {
   "cell_type": "markdown",
   "metadata": {},
   "source": []
  },
  {
   "cell_type": "code",
   "execution_count": 26,
   "metadata": {},
   "outputs": [
    {
     "data": {
      "text/plain": [
       "827"
      ]
     },
     "execution_count": 26,
     "metadata": {},
     "output_type": "execute_result"
    }
   ],
   "source": [
    "doi = pd.read_csv('./doi.csv')\n",
    "doi['0'].isnull().sum()"
   ]
  },
  {
   "cell_type": "code",
   "execution_count": null,
   "metadata": {},
   "outputs": [],
   "source": [
    "data = pd.concat([pd.Series(ls_id), pd.Series(ls_doi), pd.Series(ls_language), pd.Series(ls_year), pd.Series(ls_month), pd.Series(ls_day), pd.Series(ls_volume), pd.Series(ls_issue), pd.Series(ls_journal), pd.Series(ls_title), pd.Series(ls_page)], axis=1)\n",
    "data"
   ]
  },
  {
   "cell_type": "code",
   "execution_count": 161,
   "metadata": {},
   "outputs": [],
   "source": [
    "data.to_csv('./pubmed_data_retraction.csv')"
   ]
  },
  {
   "cell_type": "markdown",
   "metadata": {},
   "source": []
  },
  {
   "cell_type": "code",
   "execution_count": null,
   "metadata": {},
   "outputs": [],
   "source": [
    "data = pd.read_csv('./pubmed_data_retraction.csv')\n",
    "data"
   ]
  },
  {
   "cell_type": "code",
   "execution_count": null,
   "metadata": {},
   "outputs": [],
   "source": [
    "data = data.dropna(axis=0, subset=['1'])\n",
    "data"
   ]
  },
  {
   "cell_type": "code",
   "execution_count": 164,
   "metadata": {},
   "outputs": [
    {
     "data": {
      "text/plain": [
       "eng    2139\n",
       "chi       2\n",
       "spa       1\n",
       "fre       1\n",
       "Name: 2, dtype: int64"
      ]
     },
     "execution_count": 164,
     "metadata": {},
     "output_type": "execute_result"
    }
   ],
   "source": [
    "data['2'].value_counts()"
   ]
  },
  {
   "cell_type": "code",
   "execution_count": 165,
   "metadata": {},
   "outputs": [
    {
     "name": "stdout",
     "output_type": "stream",
     "text": [
      "Int64Index([2968, 2969], dtype='int64')\n",
      "Int64Index([259], dtype='int64')\n",
      "Int64Index([2243], dtype='int64')\n"
     ]
    }
   ],
   "source": [
    "print(data.loc[data['2']=='chi'].index)\n",
    "print(data.loc[data['2']=='spa'].index)\n",
    "print(data.loc[data['2']=='fre'].index)"
   ]
  },
  {
   "cell_type": "code",
   "execution_count": 166,
   "metadata": {},
   "outputs": [
    {
     "data": {
      "text/plain": [
       "eng    2139\n",
       "Name: 2, dtype: int64"
      ]
     },
     "execution_count": 166,
     "metadata": {},
     "output_type": "execute_result"
    }
   ],
   "source": [
    "data = data.drop([2968, 2969, 259, 2243], axis=0)\n",
    "data['2'].value_counts()"
   ]
  },
  {
   "cell_type": "markdown",
   "metadata": {},
   "source": []
  },
  {
   "cell_type": "code",
   "execution_count": null,
   "metadata": {},
   "outputs": [],
   "source": [
    "ls_index = []\n",
    "for i in data['1']:\n",
    "    if len(i) < 7:\n",
    "        for j in range(0,len(data.loc[data['1']==i].index)):\n",
    "            ls_index.append(data.loc[data['1']==i].index[j])\n",
    "data = data.drop(ls_index)"
   ]
  },
  {
   "cell_type": "markdown",
   "metadata": {},
   "source": []
  },
  {
   "cell_type": "code",
   "execution_count": null,
   "metadata": {},
   "outputs": [],
   "source": [
    "data = data.drop_duplicates()"
   ]
  },
  {
   "cell_type": "code",
   "execution_count": null,
   "metadata": {},
   "outputs": [],
   "source": [
    "data.to_csv('./pubmed_data_retraction_cleaned.csv')"
   ]
  },
  {
   "cell_type": "code",
   "execution_count": 2,
   "metadata": {},
   "outputs": [
    {
     "data": {
      "text/html": [
       "<div>\n",
       "<style scoped>\n",
       "    .dataframe tbody tr th:only-of-type {\n",
       "        vertical-align: middle;\n",
       "    }\n",
       "\n",
       "    .dataframe tbody tr th {\n",
       "        vertical-align: top;\n",
       "    }\n",
       "\n",
       "    .dataframe thead th {\n",
       "        text-align: right;\n",
       "    }\n",
       "</style>\n",
       "<table border=\"1\" class=\"dataframe\">\n",
       "  <thead>\n",
       "    <tr style=\"text-align: right;\">\n",
       "      <th></th>\n",
       "      <th>Unnamed: 0</th>\n",
       "      <th>Unnamed: 0.1</th>\n",
       "      <th>Unnamed: 0.1.1</th>\n",
       "      <th>0</th>\n",
       "      <th>1</th>\n",
       "      <th>2</th>\n",
       "      <th>3</th>\n",
       "      <th>4</th>\n",
       "      <th>5</th>\n",
       "      <th>6</th>\n",
       "      <th>7</th>\n",
       "      <th>8</th>\n",
       "      <th>9</th>\n",
       "      <th>10</th>\n",
       "    </tr>\n",
       "  </thead>\n",
       "  <tbody>\n",
       "    <tr>\n",
       "      <th>0</th>\n",
       "      <td>0</td>\n",
       "      <td>1</td>\n",
       "      <td>1</td>\n",
       "      <td>28667474</td>\n",
       "      <td>10.1208/s12249-017-0838-6</td>\n",
       "      <td>eng</td>\n",
       "      <td>2017.0</td>\n",
       "      <td>6.0</td>\n",
       "      <td>30.0</td>\n",
       "      <td>19.0</td>\n",
       "      <td>6.0</td>\n",
       "      <td>AAPS PharmSciTech</td>\n",
       "      <td>RETRACTED ARTICLE: Development and In Vitro-In...</td>\n",
       "      <td>2750</td>\n",
       "    </tr>\n",
       "    <tr>\n",
       "      <th>1</th>\n",
       "      <td>1</td>\n",
       "      <td>2</td>\n",
       "      <td>2</td>\n",
       "      <td>27511111</td>\n",
       "      <td>10.1208/s12249-016-0596-x</td>\n",
       "      <td>eng</td>\n",
       "      <td>2016.0</td>\n",
       "      <td>8.0</td>\n",
       "      <td>10.0</td>\n",
       "      <td>18.0</td>\n",
       "      <td>5.0</td>\n",
       "      <td>AAPS PharmSciTech</td>\n",
       "      <td>Study of the Transformations of Micro/Nano-cry...</td>\n",
       "      <td>1428-1437</td>\n",
       "    </tr>\n",
       "    <tr>\n",
       "      <th>2</th>\n",
       "      <td>2</td>\n",
       "      <td>3</td>\n",
       "      <td>3</td>\n",
       "      <td>23835739</td>\n",
       "      <td>10.1208/s12249-013-0001-y</td>\n",
       "      <td>eng</td>\n",
       "      <td>2013.0</td>\n",
       "      <td>7.0</td>\n",
       "      <td>9.0</td>\n",
       "      <td>14.0</td>\n",
       "      <td>3.0</td>\n",
       "      <td>AAPS PharmSciTech</td>\n",
       "      <td>Meloxicam taste-masked oral disintegrating tab...</td>\n",
       "      <td>1118-28</td>\n",
       "    </tr>\n",
       "    <tr>\n",
       "      <th>3</th>\n",
       "      <td>3</td>\n",
       "      <td>4</td>\n",
       "      <td>4</td>\n",
       "      <td>23800858</td>\n",
       "      <td>10.1208/s12249-013-9993-6</td>\n",
       "      <td>eng</td>\n",
       "      <td>2013.0</td>\n",
       "      <td>6.0</td>\n",
       "      <td>26.0</td>\n",
       "      <td>14.0</td>\n",
       "      <td>3.0</td>\n",
       "      <td>AAPS PharmSciTech</td>\n",
       "      <td>Design and formulation technique of a novel dr...</td>\n",
       "      <td>1045-54</td>\n",
       "    </tr>\n",
       "    <tr>\n",
       "      <th>4</th>\n",
       "      <td>4</td>\n",
       "      <td>5</td>\n",
       "      <td>5</td>\n",
       "      <td>18446488</td>\n",
       "      <td>10.1208/s12249-008-9044-x</td>\n",
       "      <td>eng</td>\n",
       "      <td>2008.0</td>\n",
       "      <td>2.0</td>\n",
       "      <td>14.0</td>\n",
       "      <td>9.0</td>\n",
       "      <td>1.0</td>\n",
       "      <td>AAPS PharmSciTech</td>\n",
       "      <td>The influence of sodium hyaluronate, L-leucine...</td>\n",
       "      <td>243-9</td>\n",
       "    </tr>\n",
       "  </tbody>\n",
       "</table>\n",
       "</div>"
      ],
      "text/plain": [
       "   Unnamed: 0  Unnamed: 0.1  Unnamed: 0.1.1         0  \\\n",
       "0           0             1               1  28667474   \n",
       "1           1             2               2  27511111   \n",
       "2           2             3               3  23835739   \n",
       "3           3             4               4  23800858   \n",
       "4           4             5               5  18446488   \n",
       "\n",
       "                           1    2       3    4     5     6    7  \\\n",
       "0  10.1208/s12249-017-0838-6  eng  2017.0  6.0  30.0  19.0  6.0   \n",
       "1  10.1208/s12249-016-0596-x  eng  2016.0  8.0  10.0  18.0  5.0   \n",
       "2  10.1208/s12249-013-0001-y  eng  2013.0  7.0   9.0  14.0  3.0   \n",
       "3  10.1208/s12249-013-9993-6  eng  2013.0  6.0  26.0  14.0  3.0   \n",
       "4  10.1208/s12249-008-9044-x  eng  2008.0  2.0  14.0   9.0  1.0   \n",
       "\n",
       "                   8                                                  9  \\\n",
       "0  AAPS PharmSciTech  RETRACTED ARTICLE: Development and In Vitro-In...   \n",
       "1  AAPS PharmSciTech  Study of the Transformations of Micro/Nano-cry...   \n",
       "2  AAPS PharmSciTech  Meloxicam taste-masked oral disintegrating tab...   \n",
       "3  AAPS PharmSciTech  Design and formulation technique of a novel dr...   \n",
       "4  AAPS PharmSciTech  The influence of sodium hyaluronate, L-leucine...   \n",
       "\n",
       "          10  \n",
       "0       2750  \n",
       "1  1428-1437  \n",
       "2    1118-28  \n",
       "3    1045-54  \n",
       "4      243-9  "
      ]
     },
     "execution_count": 2,
     "metadata": {},
     "output_type": "execute_result"
    }
   ],
   "source": [
    "data = pd.read_csv('./pubmed_data_retraction_cleaned.csv')\n",
    "data.head()"
   ]
  },
  {
   "cell_type": "markdown",
   "metadata": {},
   "source": []
  },
  {
   "cell_type": "code",
   "execution_count": 103,
   "metadata": {},
   "outputs": [
    {
     "data": {
      "text/plain": [
       "212             10.1186/1471-2121-13-8\n",
       "618           10.3389/fpsyg.2016.01298\n",
       "1877      10.1371/journal.pone.0001444\n",
       "895            10.1074/jbc.M111.260414\n",
       "1439             10.1093/neuonc/nor116\n",
       "1995        10.1038/s41598-019-38519-5\n",
       "602           10.3389/fphar.2017.00871\n",
       "511                10.7554/eLife.12248\n",
       "2108           10.4103/2229-5070.72109\n",
       "1953         10.1186/s12978-019-0732-7\n",
       "1175    10.1523/JNEUROSCI.2613-09.2009\n",
       "1428                10.1038/ncomms6446\n",
       "98             10.4103/0256-4947.83211\n",
       "1432                10.1038/ncomms1623\n",
       "44           10.1107/S160053680706254X\n",
       "599            10.3389/fonc.2013.00153\n",
       "1488               10.2147/OTT.S124118\n",
       "1            10.1208/s12249-016-0596-x\n",
       "899            10.1074/jbc.M111.247726\n",
       "2002        10.1038/s41598-017-10365-3\n",
       "111            10.1074/jbc.M111.329078\n",
       "1598      10.1371/journal.pone.0218664\n",
       "1392              10.1128/MCB.01480-09\n",
       "1340     10.1158/1535-7163.MCT-14-0672\n",
       "1384              10.1128/MCB.00114-14\n",
       "Name: 1, dtype: object"
      ]
     },
     "execution_count": 103,
     "metadata": {},
     "output_type": "execute_result"
    }
   ],
   "source": [
    "data['1'].sample(n=25,replace = False)"
   ]
  },
  {
   "cell_type": "markdown",
   "metadata": {},
   "source": []
  },
  {
   "cell_type": "markdown",
   "metadata": {},
   "source": [
    "### Pulling Data from PMC - Retractions"
   ]
  },
  {
   "cell_type": "code",
   "execution_count": null,
   "metadata": {},
   "outputs": [],
   "source": [
    "ls_total_text = []\n",
    "ls_total_keywords = []\n",
    "ls_total_abstract = []\n",
    "ls_publisher = []\n",
    "count = 2075\n",
    "no_text = 0\n",
    "\n",
    "for i in data['1'][2075:2106]:\n",
    "    Entrez.email = 'lmpack01@outlook.com'\n",
    "    handle = Entrez.esearch(db='pmc',term=i, retmode='xml')\n",
    "    results = Entrez.read(handle)\n",
    "\n",
    "    ids = ' , '.join(results['IdList'])\n",
    "    Entrez.email = 'lmpack01@outlook.com'\n",
    "    handle = Entrez.efetch(db='pmc', id = ids, retmode='xml', rettype='full')\n",
    "    text = handle.read()\n",
    "\n",
    "    soup = BeautifulSoup(text, \"lxml\")\n",
    "    print(f\"{i} [{count}]\")\n",
    "    \n",
    "    try:\n",
    "        ls_raw_text = []\n",
    "        text = str()\n",
    "        for i in range(0,len(soup.find_all(\"sec\"))):\n",
    "            for j in range(0,len(soup.find_all(\"sec\")[i].find_all(\"p\"))):\n",
    "                ls_raw_text.append(str(soup.find_all(\"sec\")[i].find_all(\"p\")[j].text))\n",
    "\n",
    "        for i in range(0,len(ls_raw_text)):\n",
    "            text += ls_raw_text[i]\n",
    "        ls_total_text.append(text)\n",
    "        \n",
    "        if text=='':\n",
    "            no_text += 1\n",
    "            print(f'No text --> {no_text}')\n",
    "    except:\n",
    "        ls_total_text.append(None)\n",
    "    \n",
    "    try:\n",
    "        ls_keywords = []\n",
    "        for i in range(0,len(soup.find_all(\"kwd\"))):\n",
    "            ls_keywords.append(soup.find_all(\"kwd\")[i].text)\n",
    "        ls_total_keywords.append(ls_keywords)\n",
    "    except:\n",
    "        ls_total_keywords.append(None)\n",
    "    \n",
    "    try:\n",
    "        ls_abstract = []\n",
    "        for i in soup.find_all(\"abstract\")[0].text.split('\\n'):\n",
    "            if i == '':\n",
    "                pass\n",
    "            else:\n",
    "                ls_abstract.append(i)\n",
    "        ls_total_abstract.append(ls_abstract[0])\n",
    "    except:\n",
    "        ls_total_abstract.append(None)\n",
    "    \n",
    "    try:      \n",
    "        ls_publisher.append(soup.find_all(\"publisher-name\")[0].text)\n",
    "    except:\n",
    "        ls_publisher.append(None)\n",
    "    \n",
    "    count +=1\n",
    "    time.sleep(3)"
   ]
  },
  {
   "cell_type": "markdown",
   "metadata": {},
   "source": []
  },
  {
   "cell_type": "code",
   "execution_count": 154,
   "metadata": {},
   "outputs": [
    {
     "name": "stdout",
     "output_type": "stream",
     "text": [
      "(31,)\n",
      "(31,)\n",
      "(31,)\n",
      "(31,)\n",
      "(31,)\n"
     ]
    }
   ],
   "source": [
    "print(pd.Series(data['1'][2075:2106]).shape)\n",
    "print(pd.Series(ls_total_text).shape)\n",
    "print(pd.Series(ls_total_keywords).shape)\n",
    "print(pd.Series(ls_total_abstract).shape)\n",
    "print(pd.Series(ls_publisher).shape)"
   ]
  },
  {
   "cell_type": "code",
   "execution_count": 155,
   "metadata": {},
   "outputs": [],
   "source": [
    "pd.Series(data['1'][2075:2106]).to_csv('./doi__2075_2106.csv')\n",
    "pd.Series(ls_total_text).to_csv('./text__2075_2106.csv')\n",
    "pd.Series(ls_total_keywords).to_csv('./keywords__2075_2106.csv')\n",
    "pd.Series(ls_total_abstract).to_csv('./abstract__2075_2106.csv')\n",
    "pd.Series(ls_publisher).to_csv('./publisher__2075_2106.csv')"
   ]
  },
  {
   "cell_type": "markdown",
   "metadata": {},
   "source": []
  },
  {
   "cell_type": "markdown",
   "metadata": {},
   "source": [
    "## Pulling Data from PubMed/PMC - No Retractions"
   ]
  },
  {
   "cell_type": "markdown",
   "metadata": {},
   "source": [
    "### Pulling Data from PubMed - No Retractions"
   ]
  },
  {
   "cell_type": "code",
   "execution_count": 59,
   "metadata": {},
   "outputs": [
    {
     "data": {
      "text/plain": [
       "31"
      ]
     },
     "execution_count": 59,
     "metadata": {},
     "output_type": "execute_result"
    }
   ],
   "source": [
    "day = ['01', '02', '03', '04', '05', '06', '07', '08', '09', '10', '11', '12', '13', '14', '15', '16',\n",
    "                 '17', '18', '19', '20', '21', '22', '23', '24', '25', '26', '27', '28', '29', '30', '31']\n",
    "len(day)"
   ]
  },
  {
   "cell_type": "code",
   "execution_count": 60,
   "metadata": {},
   "outputs": [
    {
     "name": "stdout",
     "output_type": "stream",
     "text": [
      "60\n"
     ]
    }
   ],
   "source": [
    "start_month = ['01/01', '02/01', '03/01', '04/01', '05/01', '06/01', \n",
    "               '07/01', '08/01', '09/01', '10/01', '11/01', '12/01']\n",
    "end_month = ['01/31', '02/28', '03/31', '04/30', '05/31', '06/30', \n",
    "            '07/31', '08/31', '09/30', '10/31', '11/30', '12/31']\n",
    "\n",
    "month = ['01', '02', '03', '04', '05', '06', '07', '08', '09', '10', '11', '12']\n",
    "year = ['2015', '2016', '2017', '2018', '2019']\n",
    "start_date = []\n",
    "end_date = []\n",
    "\n",
    "for i in year:\n",
    "    for j in range(0,len(month)):\n",
    "        if j == '01' or j == '03' or j == '05' or j == '07' or j == '08' or j == '10' or j == '12':\n",
    "            day_num = np.random.choice(day, 1)\n",
    "        elif j == '02':\n",
    "            day_num = np.random.choice(day[:28])\n",
    "        else:\n",
    "            day_num = np.random.choice(day[:30])\n",
    "        start_date.append(i+'/'+start_month[j])\n",
    "        end_date.append(i+'/'+month[j]+'/'+day_num)\n",
    "        \n",
    "print(len(start_date))"
   ]
  },
  {
   "cell_type": "markdown",
   "metadata": {},
   "source": []
  },
  {
   "cell_type": "code",
   "execution_count": null,
   "metadata": {},
   "outputs": [],
   "source": [
    "ls_id = []\n",
    "ls_doi = []\n",
    "ls_language = []\n",
    "ls_year = []\n",
    "ls_month = []\n",
    "ls_day = []\n",
    "ls_volume = []\n",
    "ls_issue = []\n",
    "ls_journal = []\n",
    "ls_title = []\n",
    "ls_page = []\n",
    "x=0\n",
    "no_doi = 0\n",
    "\n",
    "for i in range(0,len(start_date)):\n",
    "    Entrez.email = 'lmpack01@outlook.com'\n",
    "    handle = Entrez.esearch(db='pubmed',term='(PLoS One [Journal])', retmode='xml', retmax=167, mindate = start_date[i], maxdate = end_date[i])\n",
    "    results = Entrez.read(handle)\n",
    "    \n",
    "    ids = ' , '.join(results['IdList'])\n",
    "\n",
    "    \n",
    "    if len(ids)==0:\n",
    "        pass\n",
    "    else:\n",
    "        Entrez.email = 'lmpack01@outlook.com'\n",
    "        handle = Entrez.efetch(db='pubmed', id = ids, retmode='xml', rettype='full')\n",
    "        results_id = Entrez.read(handle)\n",
    "        \n",
    "        x += len(results['IdList'])\n",
    "        print(x)\n",
    "        \n",
    "        for j in range(0, len(results['IdList'])):\n",
    "            ls_id.append(results['IdList'][j])\n",
    "            try:\n",
    "                doi = str(results_id['PubmedArticle'][j]['MedlineCitation']['Article']['ELocationID'][0])\n",
    "                ls_doi.append(doi)\n",
    "            except:\n",
    "                ls_doi.append(None)\n",
    "                no_doi += 1\n",
    "                print(no_doi)\n",
    "                \n",
    "            try:\n",
    "                language = str(results_id['PubmedArticle'][j]['MedlineCitation']['Article']['Language'][0])\n",
    "                ls_language.append(language)\n",
    "            except:\n",
    "                ls_language.append(None)\n",
    "                \n",
    "            try:\n",
    "                year = int(results_id['PubmedArticle'][j]['MedlineCitation']['Article']['ArticleDate'][0]['Year'])\n",
    "                ls_year.append(year)\n",
    "                print(year)\n",
    "            except:\n",
    "                ls_year.append(None)\n",
    "            \n",
    "            try:\n",
    "                month = int(results_id['PubmedArticle'][j]['MedlineCitation']['Article']['ArticleDate'][0]['Month'])\n",
    "                ls_month.append(month)\n",
    "                print(month)\n",
    "            except:\n",
    "                ls_month.append(None)\n",
    "                \n",
    "            try:\n",
    "                day = int(results_id['PubmedArticle'][j]['MedlineCitation']['Article']['ArticleDate'][0]['Day'])\n",
    "                ls_day.append(day)\n",
    "                print(day)\n",
    "            except:\n",
    "                ls_day.append(None)\n",
    "                \n",
    "            try:\n",
    "                volume = int(results_id['PubmedArticle'][j]['MedlineCitation']['Article']['Journal']['JournalIssue']['Volume'])\n",
    "                ls_volume.append(volume)\n",
    "            except:\n",
    "                ls_volume.append(None)\n",
    "            \n",
    "            try:\n",
    "                issue = int(results_id['PubmedArticle'][j]['MedlineCitation']['Article']['Journal']['JournalIssue']['Issue'])\n",
    "                ls_issue.append(issue)\n",
    "            except:\n",
    "                ls_issue.append(None)\n",
    "                \n",
    "            try:\n",
    "                journal = str(results_id['PubmedArticle'][j]['MedlineCitation']['Article']['Journal']['Title'])\n",
    "                ls_journal.append(journal)\n",
    "            except:\n",
    "                ls_journal.append(None)\n",
    "                \n",
    "            try:\n",
    "                title = str(results_id['PubmedArticle'][j]['MedlineCitation']['Article']['ArticleTitle'])\n",
    "                ls_title.append(title)\n",
    "            except:\n",
    "                ls_title.append(None)\n",
    "                \n",
    "            try:\n",
    "                page = str(results_id['PubmedArticle'][j]['MedlineCitation']['Article']['Pagination']['MedlinePgn'])\n",
    "                ls_page.append(page)\n",
    "            except:\n",
    "                ls_page.append(None)\n",
    "        \n",
    "    time.sleep(5)"
   ]
  },
  {
   "cell_type": "markdown",
   "metadata": {},
   "source": []
  },
  {
   "cell_type": "code",
   "execution_count": null,
   "metadata": {},
   "outputs": [],
   "source": [
    "data_no_retract = pd.concat([pd.Series(ls_id), pd.Series(ls_doi), pd.Series(ls_language), pd.Series(ls_year), pd.Series(ls_month), pd.Series(ls_day), pd.Series(ls_volume), pd.Series(ls_issue), pd.Series(ls_journal), pd.Series(ls_title), pd.Series(ls_page)], axis=1)\n",
    "data_no_retract"
   ]
  },
  {
   "cell_type": "code",
   "execution_count": 65,
   "metadata": {},
   "outputs": [
    {
     "data": {
      "text/plain": [
       "2019    1983\n",
       "2016    1893\n",
       "2018    1890\n",
       "2015    1880\n",
       "2017    1843\n",
       "2014     124\n",
       "Name: 3, dtype: int64"
      ]
     },
     "execution_count": 65,
     "metadata": {},
     "output_type": "execute_result"
    }
   ],
   "source": [
    "data_no_retract[3].value_counts()"
   ]
  },
  {
   "cell_type": "code",
   "execution_count": 66,
   "metadata": {},
   "outputs": [
    {
     "data": {
      "text/plain": [
       "12    959\n",
       "5     930\n",
       "10    918\n",
       "7     835\n",
       "9     835\n",
       "3     823\n",
       "2     804\n",
       "1     768\n",
       "11    743\n",
       "8     724\n",
       "6     668\n",
       "4     606\n",
       "Name: 4, dtype: int64"
      ]
     },
     "execution_count": 66,
     "metadata": {},
     "output_type": "execute_result"
    }
   ],
   "source": [
    "data_no_retract[4].value_counts()"
   ]
  },
  {
   "cell_type": "code",
   "execution_count": 67,
   "metadata": {},
   "outputs": [
    {
     "data": {
      "text/plain": [
       "14    806\n",
       "12    642\n",
       "13    490\n",
       "23    477\n",
       "31    474\n",
       "15    463\n",
       "28    424\n",
       "22    421\n",
       "11    420\n",
       "6     385\n",
       "8     334\n",
       "7     324\n",
       "18    317\n",
       "24    310\n",
       "5     303\n",
       "10    301\n",
       "19    269\n",
       "1     253\n",
       "9     243\n",
       "16    238\n",
       "3     236\n",
       "25    219\n",
       "27    212\n",
       "17    199\n",
       "4     172\n",
       "2     169\n",
       "26    167\n",
       "20    156\n",
       "21     98\n",
       "29     91\n",
       "Name: 5, dtype: int64"
      ]
     },
     "execution_count": 67,
     "metadata": {},
     "output_type": "execute_result"
    }
   ],
   "source": [
    "data_no_retract[5].value_counts()"
   ]
  },
  {
   "cell_type": "markdown",
   "metadata": {},
   "source": []
  },
  {
   "cell_type": "code",
   "execution_count": 68,
   "metadata": {},
   "outputs": [],
   "source": [
    "data_no_retract.to_csv('./pubmed_data_second_no_retraction.csv')"
   ]
  },
  {
   "cell_type": "code",
   "execution_count": null,
   "metadata": {},
   "outputs": [],
   "source": [
    "data_no_retract = pd.read_csv('./pubmed_data_second_no_retraction.csv')\n",
    "data_no_retract = data_no_retract.dropna(axis=0, subset=['1'])\n",
    "data_no_retract"
   ]
  },
  {
   "cell_type": "code",
   "execution_count": 70,
   "metadata": {},
   "outputs": [
    {
     "data": {
      "text/plain": [
       "eng    9613\n",
       "Name: 2, dtype: int64"
      ]
     },
     "execution_count": 70,
     "metadata": {},
     "output_type": "execute_result"
    }
   ],
   "source": [
    "data_no_retract['2'].value_counts()"
   ]
  },
  {
   "cell_type": "code",
   "execution_count": null,
   "metadata": {},
   "outputs": [],
   "source": [
    "ls_index = []\n",
    "for i in data_no_retract['1']:\n",
    "    if len(i) < 7:\n",
    "        for j in range(0,len(data_no_retract.loc[data_no_retract['1']==i].index)):\n",
    "            ls_index.append(data_no_retract.loc[data_no_retract['1']==i].index[j])\n",
    "data_no_retract = data_no_retract.drop(ls_index)\n",
    "data_no_retract"
   ]
  },
  {
   "cell_type": "code",
   "execution_count": null,
   "metadata": {},
   "outputs": [],
   "source": [
    "data_no_retract = data_no_retract.drop_duplicates()\n",
    "data_no_retract"
   ]
  },
  {
   "cell_type": "markdown",
   "metadata": {},
   "source": []
  },
  {
   "cell_type": "markdown",
   "metadata": {},
   "source": [
    "### Pulling Data from PMC - No Retractions"
   ]
  },
  {
   "cell_type": "code",
   "execution_count": null,
   "metadata": {},
   "outputs": [],
   "source": [
    "ls_total_text = []\n",
    "ls_total_keywords = []\n",
    "ls_total_abstract = []\n",
    "ls_publisher = []\n",
    "count = 6166\n",
    "no_text = 0\n",
    "\n",
    "for i in data_no_retract['1'][6166:]:\n",
    "    Entrez.email = 'lmpack01@outlook.com'\n",
    "    handle = Entrez.esearch(db='pmc',term=i, retmode='xml')\n",
    "    results = Entrez.read(handle)\n",
    "\n",
    "    ids = ' , '.join(results['IdList'])\n",
    "    Entrez.email = 'lmpack01@outlook.com'\n",
    "    handle = Entrez.efetch(db='pmc', id = ids, retmode='xml', rettype='full')\n",
    "    text = handle.read()\n",
    "\n",
    "    soup = BeautifulSoup(text, \"lxml\")\n",
    "    print(f\"{i} [{count}]\")\n",
    "    \n",
    "    try:\n",
    "        ls_raw_text = []\n",
    "        text = str()\n",
    "        for i in range(0,len(soup.find_all(\"sec\"))):\n",
    "            for j in range(0,len(soup.find_all(\"sec\")[i].find_all(\"p\"))):\n",
    "                ls_raw_text.append(str(soup.find_all(\"sec\")[i].find_all(\"p\")[j].text))\n",
    "\n",
    "        for i in range(0,len(ls_raw_text)):\n",
    "            text += ls_raw_text[i]\n",
    "        ls_total_text.append(text)\n",
    "        \n",
    "        if text=='':\n",
    "            no_text += 1\n",
    "            print(f'No text --> {no_text}')\n",
    "    except:\n",
    "        ls_total_text.append(None)\n",
    "    \n",
    "    try:\n",
    "        ls_keywords = []\n",
    "        for i in range(0,len(soup.find_all(\"kwd\"))):\n",
    "            ls_keywords.append(soup.find_all(\"kwd\")[i].text)\n",
    "        ls_total_keywords.append(ls_keywords)\n",
    "    except:\n",
    "        ls_total_keywords.append(None)\n",
    "    \n",
    "    try:\n",
    "        ls_abstract = []\n",
    "        for i in soup.find_all(\"abstract\")[0].text.split('\\n'):\n",
    "            if i == '':\n",
    "                pass\n",
    "            else:\n",
    "                ls_abstract.append(i)\n",
    "        ls_total_abstract.append(ls_abstract[0])\n",
    "    except:\n",
    "        ls_total_abstract.append(None)\n",
    "    \n",
    "    try:      \n",
    "        ls_publisher.append(soup.find_all(\"publisher-name\")[0].text)\n",
    "    except:\n",
    "        ls_publisher.append(None)\n",
    "    \n",
    "    count +=1\n",
    "    time.sleep(3)"
   ]
  },
  {
   "cell_type": "code",
   "execution_count": 79,
   "metadata": {},
   "outputs": [],
   "source": [
    "pd.Series(data_no_retract['1'][6166:]).to_csv('./doi__no_retraction__6166_end.csv')\n",
    "pd.Series(ls_total_text).to_csv('./text__no_retraction__6166_end.csv')\n",
    "pd.Series(ls_total_keywords).to_csv('./keywords__no_retraction__6166_end.csv')\n",
    "pd.Series(ls_total_abstract).to_csv('./abstract__no_retraction__6166_end.csv')\n",
    "pd.Series(ls_publisher).to_csv('./publisher__no_retraction__6166_end.csv')"
   ]
  },
  {
   "cell_type": "markdown",
   "metadata": {},
   "source": []
  }
 ],
 "metadata": {
  "kernelspec": {
   "display_name": "Python 3",
   "language": "python",
   "name": "python3"
  },
  "language_info": {
   "codemirror_mode": {
    "name": "ipython",
    "version": 3
   },
   "file_extension": ".py",
   "mimetype": "text/x-python",
   "name": "python",
   "nbconvert_exporter": "python",
   "pygments_lexer": "ipython3",
   "version": "3.8.3"
  }
 },
 "nbformat": 4,
 "nbformat_minor": 4
}
