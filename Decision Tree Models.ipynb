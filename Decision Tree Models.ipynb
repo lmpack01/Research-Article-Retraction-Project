{
 "cells": [
  {
   "cell_type": "markdown",
   "metadata": {},
   "source": [
    "## Import Libraries"
   ]
  },
  {
   "cell_type": "code",
   "execution_count": 38,
   "metadata": {},
   "outputs": [],
   "source": [
    "import pandas as pd\n",
    "import seaborn as sns\n",
    "import matplotlib.pyplot as plt\n",
    "import numpy as np\n",
    "from sklearn.model_selection import train_test_split, GridSearchCV\n",
    "from sklearn.feature_extraction.text import CountVectorizer, TfidfVectorizer\n",
    "from sklearn.naive_bayes import MultinomialNB\n",
    "from sklearn.metrics import confusion_matrix, plot_confusion_matrix\n",
    "from nltk.corpus import stopwords\n",
    "from nltk.stem import WordNetLemmatizer\n",
    "import matplotlib.pyplot as plt\n",
    "from sklearn.tree import DecisionTreeClassifier, plot_tree, export_text\n",
    "from sklearn.ensemble import BaggingClassifier, RandomForestClassifier, AdaBoostClassifier"
   ]
  },
  {
   "cell_type": "markdown",
   "metadata": {},
   "source": [
    "## Read CSV Files"
   ]
  },
  {
   "cell_type": "code",
   "execution_count": 2,
   "metadata": {},
   "outputs": [],
   "source": [
    "no_retract = pd.read_csv('./no_retraction_data_plos_only_cleaned.csv')\n",
    "no_retract = no_retract.drop(columns=['Unnamed: 0', 'Unnamed: 0.1', 'Unnamed: 0.1.1'])\n",
    "\n",
    "retract = pd.read_csv('./retraction_data_plos_only_cleaned.csv')\n",
    "retract = retract.drop(columns=['Unnamed: 0', 'Unnamed: 0.1', 'Unnamed: 0.1.1'])"
   ]
  },
  {
   "cell_type": "code",
   "execution_count": 3,
   "metadata": {},
   "outputs": [
    {
     "data": {
      "text/html": [
       "<div>\n",
       "<style scoped>\n",
       "    .dataframe tbody tr th:only-of-type {\n",
       "        vertical-align: middle;\n",
       "    }\n",
       "\n",
       "    .dataframe tbody tr th {\n",
       "        vertical-align: top;\n",
       "    }\n",
       "\n",
       "    .dataframe thead th {\n",
       "        text-align: right;\n",
       "    }\n",
       "</style>\n",
       "<table border=\"1\" class=\"dataframe\">\n",
       "  <thead>\n",
       "    <tr style=\"text-align: right;\">\n",
       "      <th></th>\n",
       "      <th>doi</th>\n",
       "      <th>year</th>\n",
       "      <th>month</th>\n",
       "      <th>day</th>\n",
       "      <th>volume</th>\n",
       "      <th>issue</th>\n",
       "      <th>journal</th>\n",
       "      <th>title</th>\n",
       "      <th>text</th>\n",
       "      <th>abstract</th>\n",
       "      <th>keywords</th>\n",
       "      <th>retraction_binary</th>\n",
       "      <th>unpacked_keywords</th>\n",
       "      <th>clean_text</th>\n",
       "      <th>clean_text_lem</th>\n",
       "    </tr>\n",
       "  </thead>\n",
       "  <tbody>\n",
       "    <tr>\n",
       "      <th>0</th>\n",
       "      <td>10.1208/s12249-016-0596-x</td>\n",
       "      <td>2016.0</td>\n",
       "      <td>8.0</td>\n",
       "      <td>10.0</td>\n",
       "      <td>18.0</td>\n",
       "      <td>5.0</td>\n",
       "      <td>AAPS PharmSciTech</td>\n",
       "      <td>Study of the Transformations of Micro/Nano-cry...</td>\n",
       "      <td>‘Polymorphism’ generally referred as the abili...</td>\n",
       "      <td>This study elucidates the physical properties ...</td>\n",
       "      <td>['monoclinic', 'nano-sized crystals', 'orthorh...</td>\n",
       "      <td>1</td>\n",
       "      <td>['monoclinic', 'nano-sized', 'crystals', 'orth...</td>\n",
       "      <td>Polymorphism generally referred as the ability...</td>\n",
       "      <td>Polymorphism generally referred a the ability ...</td>\n",
       "    </tr>\n",
       "    <tr>\n",
       "      <th>1</th>\n",
       "      <td>10.1021/acscentsci.9b00224</td>\n",
       "      <td>2019.0</td>\n",
       "      <td>5.0</td>\n",
       "      <td>9.0</td>\n",
       "      <td>5.0</td>\n",
       "      <td>6.0</td>\n",
       "      <td>ACS central science</td>\n",
       "      <td>Targeted Protein Internalization and Degradati...</td>\n",
       "      <td>Traditional\\ndrug development efforts are focu...</td>\n",
       "      <td>Targeted</td>\n",
       "      <td>[]</td>\n",
       "      <td>1</td>\n",
       "      <td>[]</td>\n",
       "      <td>Traditional drug development efforts are focus...</td>\n",
       "      <td>Traditional drug development effort are focuse...</td>\n",
       "    </tr>\n",
       "    <tr>\n",
       "      <th>2</th>\n",
       "      <td>10.1021/acsomega.8b00488</td>\n",
       "      <td>2018.0</td>\n",
       "      <td>6.0</td>\n",
       "      <td>27.0</td>\n",
       "      <td>3.0</td>\n",
       "      <td>6.0</td>\n",
       "      <td>ACS omega</td>\n",
       "      <td>Regulating the Microstructure of Intumescent F...</td>\n",
       "      <td>Intumescent flame retardants\\nare now being us...</td>\n",
       "      <td>A compatibilizer</td>\n",
       "      <td>[]</td>\n",
       "      <td>1</td>\n",
       "      <td>[]</td>\n",
       "      <td>Intumescent flame retardants are now being use...</td>\n",
       "      <td>Intumescent flame retardant are now being used...</td>\n",
       "    </tr>\n",
       "    <tr>\n",
       "      <th>3</th>\n",
       "      <td>10.1021/acsomega.8b00153</td>\n",
       "      <td>2018.0</td>\n",
       "      <td>6.0</td>\n",
       "      <td>25.0</td>\n",
       "      <td>3.0</td>\n",
       "      <td>6.0</td>\n",
       "      <td>ACS omega</td>\n",
       "      <td>Solid-to-Solid Crystallization of Organic Thin...</td>\n",
       "      <td>Crystal growth process is basic and essential ...</td>\n",
       "      <td>The solid-to-solid crystallization processes o...</td>\n",
       "      <td>[]</td>\n",
       "      <td>1</td>\n",
       "      <td>[]</td>\n",
       "      <td>Crystal growth process is basic and essential ...</td>\n",
       "      <td>Crystal growth process is basic and essential ...</td>\n",
       "    </tr>\n",
       "    <tr>\n",
       "      <th>4</th>\n",
       "      <td>10.1107/S1600536811022574</td>\n",
       "      <td>2011.0</td>\n",
       "      <td>6.0</td>\n",
       "      <td>18.0</td>\n",
       "      <td>67.0</td>\n",
       "      <td>NaN</td>\n",
       "      <td>Acta crystallographica. Section E, Structure r...</td>\n",
       "      <td>Oxonium picrate.</td>\n",
       "      <td>For general background to organic salts of pic...</td>\n",
       "      <td>The title compound, H3O+·C6H2N3O7</td>\n",
       "      <td>[]</td>\n",
       "      <td>1</td>\n",
       "      <td>[]</td>\n",
       "      <td>For general background to organic salts of pic...</td>\n",
       "      <td>For general background to organic salt of picr...</td>\n",
       "    </tr>\n",
       "  </tbody>\n",
       "</table>\n",
       "</div>"
      ],
      "text/plain": [
       "                          doi    year  month   day  volume  issue  \\\n",
       "0   10.1208/s12249-016-0596-x  2016.0    8.0  10.0    18.0    5.0   \n",
       "1  10.1021/acscentsci.9b00224  2019.0    5.0   9.0     5.0    6.0   \n",
       "2    10.1021/acsomega.8b00488  2018.0    6.0  27.0     3.0    6.0   \n",
       "3    10.1021/acsomega.8b00153  2018.0    6.0  25.0     3.0    6.0   \n",
       "4   10.1107/S1600536811022574  2011.0    6.0  18.0    67.0    NaN   \n",
       "\n",
       "                                             journal  \\\n",
       "0                                  AAPS PharmSciTech   \n",
       "1                                ACS central science   \n",
       "2                                          ACS omega   \n",
       "3                                          ACS omega   \n",
       "4  Acta crystallographica. Section E, Structure r...   \n",
       "\n",
       "                                               title  \\\n",
       "0  Study of the Transformations of Micro/Nano-cry...   \n",
       "1  Targeted Protein Internalization and Degradati...   \n",
       "2  Regulating the Microstructure of Intumescent F...   \n",
       "3  Solid-to-Solid Crystallization of Organic Thin...   \n",
       "4                                   Oxonium picrate.   \n",
       "\n",
       "                                                text  \\\n",
       "0  ‘Polymorphism’ generally referred as the abili...   \n",
       "1  Traditional\\ndrug development efforts are focu...   \n",
       "2  Intumescent flame retardants\\nare now being us...   \n",
       "3  Crystal growth process is basic and essential ...   \n",
       "4  For general background to organic salts of pic...   \n",
       "\n",
       "                                            abstract  \\\n",
       "0  This study elucidates the physical properties ...   \n",
       "1                                           Targeted   \n",
       "2                                   A compatibilizer   \n",
       "3  The solid-to-solid crystallization processes o...   \n",
       "4                  The title compound, H3O+·C6H2N3O7   \n",
       "\n",
       "                                            keywords  retraction_binary  \\\n",
       "0  ['monoclinic', 'nano-sized crystals', 'orthorh...                  1   \n",
       "1                                                 []                  1   \n",
       "2                                                 []                  1   \n",
       "3                                                 []                  1   \n",
       "4                                                 []                  1   \n",
       "\n",
       "                                   unpacked_keywords  \\\n",
       "0  ['monoclinic', 'nano-sized', 'crystals', 'orth...   \n",
       "1                                                 []   \n",
       "2                                                 []   \n",
       "3                                                 []   \n",
       "4                                                 []   \n",
       "\n",
       "                                          clean_text  \\\n",
       "0  Polymorphism generally referred as the ability...   \n",
       "1  Traditional drug development efforts are focus...   \n",
       "2  Intumescent flame retardants are now being use...   \n",
       "3  Crystal growth process is basic and essential ...   \n",
       "4  For general background to organic salts of pic...   \n",
       "\n",
       "                                      clean_text_lem  \n",
       "0  Polymorphism generally referred a the ability ...  \n",
       "1  Traditional drug development effort are focuse...  \n",
       "2  Intumescent flame retardant are now being used...  \n",
       "3  Crystal growth process is basic and essential ...  \n",
       "4  For general background to organic salt of picr...  "
      ]
     },
     "execution_count": 3,
     "metadata": {},
     "output_type": "execute_result"
    }
   ],
   "source": [
    "total = pd.read_csv('./total_data_plos_only_cleaned.csv')\n",
    "total = total.drop(columns=['Unnamed: 0', 'Unnamed: 0.1', 'Unnamed: 0.1.1'])\n",
    "total.head()"
   ]
  },
  {
   "cell_type": "markdown",
   "metadata": {},
   "source": [
    "## Determining Best Decision Tree Model"
   ]
  },
  {
   "cell_type": "markdown",
   "metadata": {},
   "source": [
    "### Initializing Models"
   ]
  },
  {
   "cell_type": "code",
   "execution_count": 65,
   "metadata": {},
   "outputs": [],
   "source": [
    "lemmatizer = WordNetLemmatizer()\n",
    "lem_stopwords = [lemmatizer.lemmatize(i) for i in stopwords.words(\"english\")]\n",
    "\n",
    "retraction_stopwords = ['wa', 'using', 'et', 'al', 'figure', 'usepackage', 'used', 'fig', 'also', \n",
    "                        'ml', 'ha', 'two', 'one', 'may', 'based', 'table', 'however', 'data', 'mm', 'ms']\n",
    "\n",
    "lem_retraction_stopwords = [lemmatizer.lemmatize(i) for i in retraction_stopwords]\n",
    "\n",
    "#https://www.quora.com/Is-there-any-list-of-stopwords-related-to-scientific-papers\n",
    "science_stopwords = ['any','apply','applying','reapplying','given','papers','paper','about',\n",
    "                     'results','result','real','world','page','article','present','takes',\n",
    "                     'account', 'previous','work','propose','proposes','proposed','simply','simple',\n",
    "                     'demonstrate','demonstrated','demonstrates','realworld','datasets','dataset',\n",
    "                     'provide','important','research','researchers','experiments','experiment','unexpected',\n",
    "                     'discovering','using','recent','collected','solve','columns','existing','traditional',\n",
    "                     'final','consider','presented','provides','automatically','extracting','including','help',\n",
    "                     'helps','explore','illustrate','achieve','better']\n",
    "\n",
    "lem_science_stopwords = [lemmatizer.lemmatize(i) for i in science_stopwords]\n",
    "\n",
    "total_stopwords = stopwords.words(\"english\") + lem_stopwords + retraction_stopwords + lem_retraction_stopwords + science_stopwords + lem_science_stopwords"
   ]
  },
  {
   "cell_type": "code",
   "execution_count": 66,
   "metadata": {},
   "outputs": [],
   "source": [
    "X = total['clean_text_lem']\n",
    "y = total['retraction_binary']"
   ]
  },
  {
   "cell_type": "code",
   "execution_count": 67,
   "metadata": {},
   "outputs": [],
   "source": [
    "X_train, X_test, y_train, y_test = train_test_split(X,\n",
    "                                                    y,\n",
    "                                                    stratify=y,\n",
    "                                                    random_state=42)"
   ]
  },
  {
   "cell_type": "code",
   "execution_count": 8,
   "metadata": {},
   "outputs": [
    {
     "data": {
      "text/plain": [
       "0    85.54\n",
       "1    14.46\n",
       "Name: retraction_binary, dtype: float64"
      ]
     },
     "execution_count": 8,
     "metadata": {},
     "output_type": "execute_result"
    }
   ],
   "source": [
    "y_test.value_counts(normalize=True).mul(100).round(2)"
   ]
  },
  {
   "cell_type": "code",
   "execution_count": 9,
   "metadata": {},
   "outputs": [],
   "source": [
    "X = total['clean_text_lem']\n",
    "y = total['retraction_binary']"
   ]
  },
  {
   "cell_type": "code",
   "execution_count": 20,
   "metadata": {},
   "outputs": [],
   "source": [
    "def vectorizer_setup(test_size_value, vectorizer_setting, stop_words_lists, \n",
    "                     max_features_values, gram_setting, model_type):\n",
    "    \n",
    "    X_train, X_test, y_train, y_test = train_test_split(X, y, stratify=y, random_state=42, test_size = test_size_value)\n",
    "    \n",
    "    if vectorizer_setting == 'CountVectorizer':\n",
    "        vectorizer = CountVectorizer(analyzer = 'word',\n",
    "                                     tokenizer = None,\n",
    "                                     preprocessor = None,\n",
    "                                     stop_words = stop_words_lists,\n",
    "                                     max_features = max_features_values)\n",
    "    else:\n",
    "        vectorizer = TfidfVectorizer(ngram_range = gram_setting, \n",
    "                               max_features = max_features_values, \n",
    "                               stop_words = stop_words_lists)\n",
    "    \n",
    "    vectorizer.fit(X_train)\n",
    "    X_train = vectorizer.transform(X_train)\n",
    "    X_test = vectorizer.transform(X_test)\n",
    "    X_train_df = pd.DataFrame(X_train.toarray(),\n",
    "                          columns=vectorizer.get_feature_names())\n",
    "    X_test_df = pd.DataFrame(X_test.toarray(),\n",
    "                          columns=vectorizer.get_feature_names())\n",
    "    \n",
    "    if model_type == 'dtc':\n",
    "        dtc = DecisionTreeClassifier()\n",
    "        dtc.fit(X_train_df, y_train)\n",
    "\n",
    "        print(f'Score on training set: {dtc.score(X_train_df, y_train).round(3)}')\n",
    "        print(f'Score on testing set: {dtc.score(X_test_df, y_test).round(3)}')\n",
    "        \n",
    "        plot_confusion_matrix(dtc, X_test_df, y_test, cmap='Blues', values_format='d');\n",
    "        \n",
    "    elif model_type == 'dtc_max_depth':\n",
    "        dtc = DecisionTreeClassifier(max_depth = 5)\n",
    "        dtc.fit(X_train_df, y_train)\n",
    "\n",
    "        print(f'Score on training set: {dtc.score(X_train_df, y_train).round(3)}')\n",
    "        print(f'Score on testing set: {dtc.score(X_test_df, y_test).round(3)}')\n",
    "        \n",
    "        plot_confusion_matrix(dtc, X_test_df, y_test, cmap='Blues', values_format='d');\n",
    "    \n",
    "    elif model_type == 'bag':\n",
    "        base_tree = DecisionTreeClassifier()\n",
    "\n",
    "        bag = BaggingClassifier(base_estimator=base_tree,\n",
    "                                bootstrap = True,\n",
    "                                random_state=42)\n",
    "\n",
    "        bag.fit(X_train_df, y_train)\n",
    "        print(f'Score on training set: {bag.score(X_train_df, y_train)}')\n",
    "        print(f'Score on testing set: {bag.score(X_test_df, y_test)}')\n",
    "\n",
    "        plot_confusion_matrix(bag, X_test_df, y_test, cmap='Blues', values_format='d');\n",
    "        \n",
    "    elif model_type == 'rfc':\n",
    "        rfc = RandomForestClassifier(random_state = 42)\n",
    "\n",
    "        rfc.fit(X_train_df, y_train)\n",
    "        print(f'Score on training set: {rfc.score(X_train_df, y_train)}')\n",
    "        print(f'Score on testing set: {rfc.score(X_test_df, y_test)}')\n",
    "\n",
    "        plot_confusion_matrix(rfc, X_test_df, y_test, cmap='Blues', values_format='d');\n",
    "        \n",
    "    else:\n",
    "        base_tree = DecisionTreeClassifier()\n",
    "\n",
    "        ada = AdaBoostClassifier(base_estimator=base_tree,\n",
    "                         random_state=42)\n",
    "\n",
    "        ada.fit(X_train_df, y_train)\n",
    "        print(f'Score on training set: {ada.score(X_train_df, y_train)}')\n",
    "        print(f'Score on testing set: {ada.score(X_test_df, y_test)}')\n",
    "\n",
    "        plot_confusion_matrix(ada, X_test_df, y_test, cmap='Blues', values_format='d');\n",
    "    \n",
    "    return "
   ]
  },
  {
   "cell_type": "markdown",
   "metadata": {},
   "source": [
    "### Decision Tree"
   ]
  },
  {
   "cell_type": "code",
   "execution_count": 22,
   "metadata": {},
   "outputs": [
    {
     "name": "stdout",
     "output_type": "stream",
     "text": [
      "Score on training set: 1.0\n",
      "Score on testing set: 0.908\n"
     ]
    },
    {
     "data": {
      "image/png": "[encoded data removed]",
      "text/plain": [
       "<Figure size 432x288 with 2 Axes>"
      ]
     },
     "metadata": {
      "needs_background": "light"
     },
     "output_type": "display_data"
    }
   ],
   "source": [
    "vectorizer_setup(0.25, 'CountVectorizer', total_stopwords, 20000, None, 'dtc')"
   ]
  },
  {
   "cell_type": "code",
   "execution_count": 23,
   "metadata": {},
   "outputs": [
    {
     "name": "stdout",
     "output_type": "stream",
     "text": [
      "Score on training set: 1.0\n",
      "Score on testing set: 0.893\n"
     ]
    },
    {
     "data": {
      "image/png": "[encoded data removed]",
      "text/plain": [
       "<Figure size 432x288 with 2 Axes>"
      ]
     },
     "metadata": {
      "needs_background": "light"
     },
     "output_type": "display_data"
    }
   ],
   "source": [
    "vectorizer_setup(0.25, 'TfidfVectorizer', total_stopwords, 5000, (1,2), 'dtc')"
   ]
  },
  {
   "cell_type": "code",
   "execution_count": 24,
   "metadata": {},
   "outputs": [
    {
     "name": "stdout",
     "output_type": "stream",
     "text": [
      "Score on training set: 0.938\n",
      "Score on testing set: 0.922\n"
     ]
    },
    {
     "data": {
      "image/png": "[encoded data removed]",
      "text/plain": [
       "<Figure size 432x288 with 2 Axes>"
      ]
     },
     "metadata": {
      "needs_background": "light"
     },
     "output_type": "display_data"
    }
   ],
   "source": [
    "vectorizer_setup(0.25, 'CountVectorizer', total_stopwords, 20000, None, 'dtc_max_depth')"
   ]
  },
  {
   "cell_type": "code",
   "execution_count": 25,
   "metadata": {},
   "outputs": [
    {
     "name": "stdout",
     "output_type": "stream",
     "text": [
      "Score on training set: 0.915\n",
      "Score on testing set: 0.898\n"
     ]
    },
    {
     "data": {
      "image/png": "[encoded data removed]",
      "text/plain": [
       "<Figure size 432x288 with 2 Axes>"
      ]
     },
     "metadata": {
      "needs_background": "light"
     },
     "output_type": "display_data"
    }
   ],
   "source": [
    "vectorizer_setup(0.25, 'TfidfVectorizer', total_stopwords, 5000, (1,2), 'dtc_max_depth')"
   ]
  },
  {
   "cell_type": "code",
   "execution_count": 26,
   "metadata": {},
   "outputs": [
    {
     "name": "stdout",
     "output_type": "stream",
     "text": [
      "Score on training set: 0.938\n",
      "Score on testing set: 0.922\n"
     ]
    },
    {
     "data": {
      "image/png": "[encoded data removed]",
      "text/plain": [
       "<Figure size 432x288 with 2 Axes>"
      ]
     },
     "metadata": {
      "needs_background": "light"
     },
     "output_type": "display_data"
    }
   ],
   "source": [
    "vectorizer_setup(0.3, 'CountVectorizer', total_stopwords, 20000, None, 'dtc_max_depth')"
   ]
  },
  {
   "cell_type": "code",
   "execution_count": 27,
   "metadata": {},
   "outputs": [
    {
     "name": "stdout",
     "output_type": "stream",
     "text": [
      "Score on training set: 0.915\n",
      "Score on testing set: 0.903\n"
     ]
    },
    {
     "data": {
      "image/png": "[encoded data removed]",
      "text/plain": [
       "<Figure size 432x288 with 2 Axes>"
      ]
     },
     "metadata": {
      "needs_background": "light"
     },
     "output_type": "display_data"
    }
   ],
   "source": [
    "vectorizer_setup(0.3, 'TfidfVectorizer', total_stopwords, 5000, (1,2), 'dtc_max_depth')"
   ]
  },
  {
   "cell_type": "markdown",
   "metadata": {},
   "source": [
    "### Bagging"
   ]
  },
  {
   "cell_type": "code",
   "execution_count": 28,
   "metadata": {},
   "outputs": [
    {
     "name": "stdout",
     "output_type": "stream",
     "text": [
      "Score on training set: 0.9922149673530889\n",
      "Score on testing set: 0.9344632768361582\n"
     ]
    },
    {
     "data": {
      "image/png": "[encoded data removed]",
      "text/plain": [
       "<Figure size 432x288 with 2 Axes>"
      ]
     },
     "metadata": {
      "needs_background": "light"
     },
     "output_type": "display_data"
    }
   ],
   "source": [
    "vectorizer_setup(0.25, 'CountVectorizer', total_stopwords, 20000, None, 'bag')"
   ]
  },
  {
   "cell_type": "code",
   "execution_count": 29,
   "metadata": {},
   "outputs": [
    {
     "name": "stdout",
     "output_type": "stream",
     "text": [
      "Score on training set: 0.9938473129080864\n",
      "Score on testing set: 0.9318267419962335\n"
     ]
    },
    {
     "data": {
      "image/png": "[encoded data removed]",
      "text/plain": [
       "<Figure size 432x288 with 2 Axes>"
      ]
     },
     "metadata": {
      "needs_background": "light"
     },
     "output_type": "display_data"
    }
   ],
   "source": [
    "vectorizer_setup(0.25, 'TfidfVectorizer', total_stopwords, 5000, (1,2), 'bag')"
   ]
  },
  {
   "cell_type": "markdown",
   "metadata": {},
   "source": [
    "### Random Forest"
   ]
  },
  {
   "cell_type": "code",
   "execution_count": 30,
   "metadata": {},
   "outputs": [
    {
     "name": "stdout",
     "output_type": "stream",
     "text": [
      "Score on training set: 1.0\n",
      "Score on testing set: 0.8990583804143126\n"
     ]
    },
    {
     "data": {
      "image/png": "[encoded data removed]",
      "text/plain": [
       "<Figure size 432x288 with 2 Axes>"
      ]
     },
     "metadata": {
      "needs_background": "light"
     },
     "output_type": "display_data"
    }
   ],
   "source": [
    "vectorizer_setup(0.25, 'CountVectorizer', total_stopwords, 20000, None, 'rfc')"
   ]
  },
  {
   "cell_type": "code",
   "execution_count": 31,
   "metadata": {},
   "outputs": [
    {
     "name": "stdout",
     "output_type": "stream",
     "text": [
      "Score on training set: 0.9998744349573079\n",
      "Score on testing set: 0.9096045197740112\n"
     ]
    },
    {
     "data": {
      "image/png": "[encoded data removed]",
      "text/plain": [
       "<Figure size 432x288 with 2 Axes>"
      ]
     },
     "metadata": {
      "needs_background": "light"
     },
     "output_type": "display_data"
    }
   ],
   "source": [
    "vectorizer_setup(0.25, 'TfidfVectorizer', total_stopwords, 5000, (1,2), 'rfc')"
   ]
  },
  {
   "cell_type": "markdown",
   "metadata": {},
   "source": [
    "### AdaBoost"
   ]
  },
  {
   "cell_type": "code",
   "execution_count": 32,
   "metadata": {},
   "outputs": [
    {
     "name": "stdout",
     "output_type": "stream",
     "text": [
      "Score on training set: 1.0\n",
      "Score on testing set: 0.903954802259887\n"
     ]
    },
    {
     "data": {
      "image/png": "[encoded data removed]",
      "text/plain": [
       "<Figure size 432x288 with 2 Axes>"
      ]
     },
     "metadata": {
      "needs_background": "light"
     },
     "output_type": "display_data"
    }
   ],
   "source": [
    "vectorizer_setup(0.25, 'CountVectorizer', total_stopwords, 20000, None, 'ada')"
   ]
  },
  {
   "cell_type": "markdown",
   "metadata": {},
   "source": [
    "## Further Exploring Chosen Decision Tree Model"
   ]
  },
  {
   "cell_type": "markdown",
   "metadata": {},
   "source": [
    "### Most Common Bigrams"
   ]
  },
  {
   "cell_type": "code",
   "execution_count": 33,
   "metadata": {},
   "outputs": [],
   "source": [
    "tvec = TfidfVectorizer(ngram_range=(2, 2), max_features=5000, \n",
    "                       stop_words = total_stopwords)\n",
    "\n",
    "X_train_df = pd.DataFrame(tvec.fit_transform(X_train).toarray(),\n",
    "                  columns=tvec.get_feature_names())\n",
    "X_test_df = pd.DataFrame(tvec.transform(X_test).toarray(),\n",
    "                  columns=tvec.get_feature_names())"
   ]
  },
  {
   "cell_type": "markdown",
   "metadata": {},
   "source": [
    "#### Retractions"
   ]
  },
  {
   "cell_type": "code",
   "execution_count": 35,
   "metadata": {},
   "outputs": [],
   "source": [
    "tvec.fit(retract['clean_text_lem'])\n",
    "vect = tvec.transform(retract['clean_text_lem'])\n",
    "vect_retract = pd.DataFrame(vect.toarray(), columns = tvec.get_feature_names())"
   ]
  },
  {
   "cell_type": "code",
   "execution_count": 36,
   "metadata": {},
   "outputs": [
    {
     "data": {
      "text/html": [
       "<div>\n",
       "<style scoped>\n",
       "    .dataframe tbody tr th:only-of-type {\n",
       "        vertical-align: middle;\n",
       "    }\n",
       "\n",
       "    .dataframe tbody tr th {\n",
       "        vertical-align: top;\n",
       "    }\n",
       "\n",
       "    .dataframe thead th {\n",
       "        text-align: right;\n",
       "    }\n",
       "</style>\n",
       "<table border=\"1\" class=\"dataframe\">\n",
       "  <thead>\n",
       "    <tr style=\"text-align: right;\">\n",
       "      <th></th>\n",
       "      <th>10x chromium</th>\n",
       "      <th>10x genomics</th>\n",
       "      <th>10x scrna</th>\n",
       "      <th>126a 3p</th>\n",
       "      <th>12pt minimal</th>\n",
       "      <th>13c nmr</th>\n",
       "      <th>16s rrna</th>\n",
       "      <th>1a cell</th>\n",
       "      <th>1a cu2</th>\n",
       "      <th>1h 1h</th>\n",
       "      <th>...</th>\n",
       "      <th>μl 1x</th>\n",
       "      <th>μl dmem</th>\n",
       "      <th>μm min</th>\n",
       "      <th>μm pb</th>\n",
       "      <th>μm scr7</th>\n",
       "      <th>μm w9</th>\n",
       "      <th>μm μm</th>\n",
       "      <th>νmax cm</th>\n",
       "      <th>χ2 test</th>\n",
       "      <th>ψh ψh</th>\n",
       "    </tr>\n",
       "  </thead>\n",
       "  <tbody>\n",
       "    <tr>\n",
       "      <th>1533</th>\n",
       "      <td>0.000000</td>\n",
       "      <td>0.000000</td>\n",
       "      <td>0.000000</td>\n",
       "      <td>0.000000</td>\n",
       "      <td>0.000000</td>\n",
       "      <td>0.000000</td>\n",
       "      <td>0.000000</td>\n",
       "      <td>0.000000</td>\n",
       "      <td>0.000000</td>\n",
       "      <td>0.000000</td>\n",
       "      <td>...</td>\n",
       "      <td>0.000000</td>\n",
       "      <td>0.000000</td>\n",
       "      <td>0.00000</td>\n",
       "      <td>0.000000</td>\n",
       "      <td>0.000000</td>\n",
       "      <td>0.000000</td>\n",
       "      <td>0.000000</td>\n",
       "      <td>0.000000</td>\n",
       "      <td>0.058206</td>\n",
       "      <td>0.000000</td>\n",
       "    </tr>\n",
       "    <tr>\n",
       "      <th>1534</th>\n",
       "      <td>0.000000</td>\n",
       "      <td>0.000000</td>\n",
       "      <td>0.000000</td>\n",
       "      <td>0.000000</td>\n",
       "      <td>0.000000</td>\n",
       "      <td>0.000000</td>\n",
       "      <td>0.000000</td>\n",
       "      <td>0.000000</td>\n",
       "      <td>0.000000</td>\n",
       "      <td>0.000000</td>\n",
       "      <td>...</td>\n",
       "      <td>0.000000</td>\n",
       "      <td>0.000000</td>\n",
       "      <td>0.00000</td>\n",
       "      <td>0.000000</td>\n",
       "      <td>0.000000</td>\n",
       "      <td>0.000000</td>\n",
       "      <td>0.000000</td>\n",
       "      <td>0.000000</td>\n",
       "      <td>0.000000</td>\n",
       "      <td>0.000000</td>\n",
       "    </tr>\n",
       "    <tr>\n",
       "      <th>1535</th>\n",
       "      <td>0.000000</td>\n",
       "      <td>0.000000</td>\n",
       "      <td>0.000000</td>\n",
       "      <td>0.000000</td>\n",
       "      <td>0.050547</td>\n",
       "      <td>0.000000</td>\n",
       "      <td>0.000000</td>\n",
       "      <td>0.000000</td>\n",
       "      <td>0.000000</td>\n",
       "      <td>0.000000</td>\n",
       "      <td>...</td>\n",
       "      <td>0.000000</td>\n",
       "      <td>0.000000</td>\n",
       "      <td>0.00000</td>\n",
       "      <td>0.000000</td>\n",
       "      <td>0.000000</td>\n",
       "      <td>0.000000</td>\n",
       "      <td>0.000000</td>\n",
       "      <td>0.000000</td>\n",
       "      <td>0.000000</td>\n",
       "      <td>0.000000</td>\n",
       "    </tr>\n",
       "    <tr>\n",
       "      <th>1536</th>\n",
       "      <td>0.000000</td>\n",
       "      <td>0.000000</td>\n",
       "      <td>0.000000</td>\n",
       "      <td>0.000000</td>\n",
       "      <td>0.000000</td>\n",
       "      <td>0.000000</td>\n",
       "      <td>0.000000</td>\n",
       "      <td>0.000000</td>\n",
       "      <td>0.000000</td>\n",
       "      <td>0.000000</td>\n",
       "      <td>...</td>\n",
       "      <td>0.000000</td>\n",
       "      <td>0.000000</td>\n",
       "      <td>0.00000</td>\n",
       "      <td>0.000000</td>\n",
       "      <td>0.000000</td>\n",
       "      <td>0.000000</td>\n",
       "      <td>0.000000</td>\n",
       "      <td>0.000000</td>\n",
       "      <td>0.000000</td>\n",
       "      <td>0.000000</td>\n",
       "    </tr>\n",
       "    <tr>\n",
       "      <th>1537</th>\n",
       "      <td>0.161599</td>\n",
       "      <td>0.233421</td>\n",
       "      <td>0.287287</td>\n",
       "      <td>0.642817</td>\n",
       "      <td>4.689118</td>\n",
       "      <td>2.138577</td>\n",
       "      <td>2.900592</td>\n",
       "      <td>0.491354</td>\n",
       "      <td>0.386392</td>\n",
       "      <td>0.519539</td>\n",
       "      <td>...</td>\n",
       "      <td>0.170187</td>\n",
       "      <td>0.425449</td>\n",
       "      <td>1.05716</td>\n",
       "      <td>0.231807</td>\n",
       "      <td>0.179555</td>\n",
       "      <td>0.636523</td>\n",
       "      <td>3.353947</td>\n",
       "      <td>0.235546</td>\n",
       "      <td>2.074697</td>\n",
       "      <td>0.323198</td>\n",
       "    </tr>\n",
       "  </tbody>\n",
       "</table>\n",
       "<p>5 rows × 5000 columns</p>\n",
       "</div>"
      ],
      "text/plain": [
       "      10x chromium  10x genomics  10x scrna   126a 3p  12pt minimal   13c nmr  \\\n",
       "1533      0.000000      0.000000   0.000000  0.000000      0.000000  0.000000   \n",
       "1534      0.000000      0.000000   0.000000  0.000000      0.000000  0.000000   \n",
       "1535      0.000000      0.000000   0.000000  0.000000      0.050547  0.000000   \n",
       "1536      0.000000      0.000000   0.000000  0.000000      0.000000  0.000000   \n",
       "1537      0.161599      0.233421   0.287287  0.642817      4.689118  2.138577   \n",
       "\n",
       "      16s rrna   1a cell    1a cu2     1h 1h  ...     μl 1x   μl dmem  \\\n",
       "1533  0.000000  0.000000  0.000000  0.000000  ...  0.000000  0.000000   \n",
       "1534  0.000000  0.000000  0.000000  0.000000  ...  0.000000  0.000000   \n",
       "1535  0.000000  0.000000  0.000000  0.000000  ...  0.000000  0.000000   \n",
       "1536  0.000000  0.000000  0.000000  0.000000  ...  0.000000  0.000000   \n",
       "1537  2.900592  0.491354  0.386392  0.519539  ...  0.170187  0.425449   \n",
       "\n",
       "       μm min     μm pb   μm scr7     μm w9     μm μm   νmax cm   χ2 test  \\\n",
       "1533  0.00000  0.000000  0.000000  0.000000  0.000000  0.000000  0.058206   \n",
       "1534  0.00000  0.000000  0.000000  0.000000  0.000000  0.000000  0.000000   \n",
       "1535  0.00000  0.000000  0.000000  0.000000  0.000000  0.000000  0.000000   \n",
       "1536  0.00000  0.000000  0.000000  0.000000  0.000000  0.000000  0.000000   \n",
       "1537  1.05716  0.231807  0.179555  0.636523  3.353947  0.235546  2.074697   \n",
       "\n",
       "         ψh ψh  \n",
       "1533  0.000000  \n",
       "1534  0.000000  \n",
       "1535  0.000000  \n",
       "1536  0.000000  \n",
       "1537  0.323198  \n",
       "\n",
       "[5 rows x 5000 columns]"
      ]
     },
     "execution_count": 36,
     "metadata": {},
     "output_type": "execute_result"
    }
   ],
   "source": [
    "ls = []\n",
    "for i in vect_retract.columns:\n",
    "    word_sum = vect_retract[i].sum()\n",
    "    ls.append(word_sum) #create a list of the total number of times each word was used\n",
    "\n",
    "#The script below was adapted from https://www.kite.com/python/answers/how-to-append-a-list-as-a-row-to-a-pandas-dataframe-in-python\n",
    "sum_row = pd.Series(ls, index = vect_retract.columns) #the list was turned into a series\n",
    "vect_retract = vect_retract.append(sum_row, ignore_index = True) #the series was added to the end of the dataframe as a new row\n",
    "vect_retract.tail()"
   ]
  },
  {
   "cell_type": "code",
   "execution_count": 37,
   "metadata": {},
   "outputs": [
    {
     "data": {
      "text/plain": [
       "cell line                    31.509112\n",
       "control group                29.071377\n",
       "significant difference       26.456188\n",
       "mg kg                        24.097655\n",
       "cancer cell                  23.828528\n",
       "breast cancer                21.376787\n",
       "wild type                    21.330044\n",
       "statistically significant    20.840092\n",
       "western blot                 20.085729\n",
       "year old                     20.011517\n",
       "meta analysis                19.324355\n",
       "nf κb                        18.698282\n",
       "long term                    17.231212\n",
       "expression level             16.885402\n",
       "cell cycle                   16.137679\n",
       "blood pressure               15.634200\n",
       "compared control             15.515948\n",
       "room temperature             15.285657\n",
       "gene expression              15.018492\n",
       "amino acid                   14.820755\n",
       "additional file              14.552867\n",
       "risk factor                  14.454372\n",
       "standard deviation           14.195035\n",
       "cell proliferation           13.580018\n",
       "significantly higher         13.391417\n",
       "Name: 1537, dtype: float64"
      ]
     },
     "execution_count": 37,
     "metadata": {},
     "output_type": "execute_result"
    }
   ],
   "source": [
    "vect_retract.iloc[1537, :].sort_values(ascending=False).head(25)"
   ]
  },
  {
   "cell_type": "markdown",
   "metadata": {},
   "source": [
    "#### No Retractions"
   ]
  },
  {
   "cell_type": "code",
   "execution_count": 39,
   "metadata": {},
   "outputs": [],
   "source": [
    "tvec.fit(no_retract['clean_text_lem'])\n",
    "vect = tvec.transform(no_retract['clean_text_lem'])\n",
    "vect_no_retract = pd.DataFrame(vect.toarray(), columns = tvec.get_feature_names())"
   ]
  },
  {
   "cell_type": "code",
   "execution_count": 40,
   "metadata": {},
   "outputs": [
    {
     "data": {
      "text/html": [
       "<div>\n",
       "<style scoped>\n",
       "    .dataframe tbody tr th:only-of-type {\n",
       "        vertical-align: middle;\n",
       "    }\n",
       "\n",
       "    .dataframe tbody tr th {\n",
       "        vertical-align: top;\n",
       "    }\n",
       "\n",
       "    .dataframe thead th {\n",
       "        text-align: right;\n",
       "    }\n",
       "</style>\n",
       "<table border=\"1\" class=\"dataframe\">\n",
       "  <thead>\n",
       "    <tr style=\"text-align: right;\">\n",
       "      <th></th>\n",
       "      <th>13c nmr</th>\n",
       "      <th>16s rrna</th>\n",
       "      <th>18f fdg</th>\n",
       "      <th>18s rrna</th>\n",
       "      <th>1a 1b</th>\n",
       "      <th>1b 1c</th>\n",
       "      <th>1c 1d</th>\n",
       "      <th>1h arh</th>\n",
       "      <th>1h nmr</th>\n",
       "      <th>1x pbs</th>\n",
       "      <th>...</th>\n",
       "      <th>μl pbs</th>\n",
       "      <th>μl reaction</th>\n",
       "      <th>μl sample</th>\n",
       "      <th>μl well</th>\n",
       "      <th>μl μl</th>\n",
       "      <th>μm respectively</th>\n",
       "      <th>μm thick</th>\n",
       "      <th>μm μm</th>\n",
       "      <th>χ2 df</th>\n",
       "      <th>χ2 test</th>\n",
       "    </tr>\n",
       "  </thead>\n",
       "  <tbody>\n",
       "    <tr>\n",
       "      <th>9078</th>\n",
       "      <td>0.00000</td>\n",
       "      <td>0.000000</td>\n",
       "      <td>0.000000</td>\n",
       "      <td>0.000000</td>\n",
       "      <td>0.00000</td>\n",
       "      <td>0.000000</td>\n",
       "      <td>0.000000</td>\n",
       "      <td>0.000000</td>\n",
       "      <td>0.000000</td>\n",
       "      <td>0.000000</td>\n",
       "      <td>...</td>\n",
       "      <td>0.000000</td>\n",
       "      <td>0.000000</td>\n",
       "      <td>0.00000</td>\n",
       "      <td>0.000000</td>\n",
       "      <td>0.000000</td>\n",
       "      <td>0.000000</td>\n",
       "      <td>0.000000</td>\n",
       "      <td>0.000000</td>\n",
       "      <td>0.000000</td>\n",
       "      <td>0.000000</td>\n",
       "    </tr>\n",
       "    <tr>\n",
       "      <th>9079</th>\n",
       "      <td>0.00000</td>\n",
       "      <td>0.000000</td>\n",
       "      <td>0.000000</td>\n",
       "      <td>0.000000</td>\n",
       "      <td>0.00000</td>\n",
       "      <td>0.000000</td>\n",
       "      <td>0.000000</td>\n",
       "      <td>0.000000</td>\n",
       "      <td>0.000000</td>\n",
       "      <td>0.000000</td>\n",
       "      <td>...</td>\n",
       "      <td>0.000000</td>\n",
       "      <td>0.000000</td>\n",
       "      <td>0.00000</td>\n",
       "      <td>0.000000</td>\n",
       "      <td>0.000000</td>\n",
       "      <td>0.000000</td>\n",
       "      <td>0.000000</td>\n",
       "      <td>0.000000</td>\n",
       "      <td>0.000000</td>\n",
       "      <td>0.000000</td>\n",
       "    </tr>\n",
       "    <tr>\n",
       "      <th>9080</th>\n",
       "      <td>0.00000</td>\n",
       "      <td>0.000000</td>\n",
       "      <td>0.000000</td>\n",
       "      <td>0.000000</td>\n",
       "      <td>0.00000</td>\n",
       "      <td>0.000000</td>\n",
       "      <td>0.000000</td>\n",
       "      <td>0.000000</td>\n",
       "      <td>0.000000</td>\n",
       "      <td>0.000000</td>\n",
       "      <td>...</td>\n",
       "      <td>0.000000</td>\n",
       "      <td>0.000000</td>\n",
       "      <td>0.00000</td>\n",
       "      <td>0.000000</td>\n",
       "      <td>0.000000</td>\n",
       "      <td>0.000000</td>\n",
       "      <td>0.000000</td>\n",
       "      <td>0.000000</td>\n",
       "      <td>0.000000</td>\n",
       "      <td>0.000000</td>\n",
       "    </tr>\n",
       "    <tr>\n",
       "      <th>9081</th>\n",
       "      <td>0.00000</td>\n",
       "      <td>0.000000</td>\n",
       "      <td>0.000000</td>\n",
       "      <td>0.000000</td>\n",
       "      <td>0.00000</td>\n",
       "      <td>0.000000</td>\n",
       "      <td>0.000000</td>\n",
       "      <td>0.000000</td>\n",
       "      <td>0.000000</td>\n",
       "      <td>0.000000</td>\n",
       "      <td>...</td>\n",
       "      <td>0.000000</td>\n",
       "      <td>0.000000</td>\n",
       "      <td>0.00000</td>\n",
       "      <td>0.000000</td>\n",
       "      <td>0.000000</td>\n",
       "      <td>0.000000</td>\n",
       "      <td>0.000000</td>\n",
       "      <td>0.000000</td>\n",
       "      <td>0.000000</td>\n",
       "      <td>0.000000</td>\n",
       "    </tr>\n",
       "    <tr>\n",
       "      <th>9082</th>\n",
       "      <td>4.25743</td>\n",
       "      <td>30.501089</td>\n",
       "      <td>7.681026</td>\n",
       "      <td>7.081566</td>\n",
       "      <td>15.98676</td>\n",
       "      <td>9.428966</td>\n",
       "      <td>9.249353</td>\n",
       "      <td>0.362868</td>\n",
       "      <td>8.501771</td>\n",
       "      <td>5.850962</td>\n",
       "      <td>...</td>\n",
       "      <td>7.423554</td>\n",
       "      <td>10.382723</td>\n",
       "      <td>8.37116</td>\n",
       "      <td>8.135361</td>\n",
       "      <td>7.308911</td>\n",
       "      <td>7.247525</td>\n",
       "      <td>9.190321</td>\n",
       "      <td>31.611839</td>\n",
       "      <td>13.276746</td>\n",
       "      <td>15.011524</td>\n",
       "    </tr>\n",
       "  </tbody>\n",
       "</table>\n",
       "<p>5 rows × 5000 columns</p>\n",
       "</div>"
      ],
      "text/plain": [
       "      13c nmr   16s rrna   18f fdg  18s rrna     1a 1b     1b 1c     1c 1d  \\\n",
       "9078  0.00000   0.000000  0.000000  0.000000   0.00000  0.000000  0.000000   \n",
       "9079  0.00000   0.000000  0.000000  0.000000   0.00000  0.000000  0.000000   \n",
       "9080  0.00000   0.000000  0.000000  0.000000   0.00000  0.000000  0.000000   \n",
       "9081  0.00000   0.000000  0.000000  0.000000   0.00000  0.000000  0.000000   \n",
       "9082  4.25743  30.501089  7.681026  7.081566  15.98676  9.428966  9.249353   \n",
       "\n",
       "        1h arh    1h nmr    1x pbs  ...    μl pbs  μl reaction  μl sample  \\\n",
       "9078  0.000000  0.000000  0.000000  ...  0.000000     0.000000    0.00000   \n",
       "9079  0.000000  0.000000  0.000000  ...  0.000000     0.000000    0.00000   \n",
       "9080  0.000000  0.000000  0.000000  ...  0.000000     0.000000    0.00000   \n",
       "9081  0.000000  0.000000  0.000000  ...  0.000000     0.000000    0.00000   \n",
       "9082  0.362868  8.501771  5.850962  ...  7.423554    10.382723    8.37116   \n",
       "\n",
       "       μl well     μl μl  μm respectively  μm thick      μm μm      χ2 df  \\\n",
       "9078  0.000000  0.000000         0.000000  0.000000   0.000000   0.000000   \n",
       "9079  0.000000  0.000000         0.000000  0.000000   0.000000   0.000000   \n",
       "9080  0.000000  0.000000         0.000000  0.000000   0.000000   0.000000   \n",
       "9081  0.000000  0.000000         0.000000  0.000000   0.000000   0.000000   \n",
       "9082  8.135361  7.308911         7.247525  9.190321  31.611839  13.276746   \n",
       "\n",
       "        χ2 test  \n",
       "9078   0.000000  \n",
       "9079   0.000000  \n",
       "9080   0.000000  \n",
       "9081   0.000000  \n",
       "9082  15.011524  \n",
       "\n",
       "[5 rows x 5000 columns]"
      ]
     },
     "execution_count": 40,
     "metadata": {},
     "output_type": "execute_result"
    }
   ],
   "source": [
    "ls = []\n",
    "for i in vect_no_retract.columns:\n",
    "    word_sum = vect_no_retract[i].sum()\n",
    "    ls.append(word_sum) #create a list of the total number of times each word was used\n",
    "\n",
    "#The script below was adapted from https://www.kite.com/python/answers/how-to-append-a-list-as-a-row-to-a-pandas-dataframe-in-python\n",
    "sum_row = pd.Series(ls, index = vect_no_retract.columns) #the list was turned into a series\n",
    "vect_no_retract = vect_no_retract.append(sum_row, ignore_index = True) #the series was added to the end of the dataframe as a new row\n",
    "vect_no_retract.tail()"
   ]
  },
  {
   "cell_type": "code",
   "execution_count": 41,
   "metadata": {},
   "outputs": [
    {
     "data": {
      "text/plain": [
       "additional file              161.384336\n",
       "click additional             161.285763\n",
       "significant difference       154.234613\n",
       "amino acid                   124.152065\n",
       "wild type                    118.845781\n",
       "control group                114.117008\n",
       "gene expression              107.418578\n",
       "standard deviation           104.181972\n",
       "statistically significant    103.825676\n",
       "cell line                    100.624951\n",
       "risk factor                   95.061570\n",
       "time point                    92.247410\n",
       "confidence interval           87.066016\n",
       "analysis performed            85.510281\n",
       "mg kg                         84.804689\n",
       "significantly higher          82.055180\n",
       "sample size                   79.774721\n",
       "expression level              77.962911\n",
       "logistic regression           74.807535\n",
       "male female                   73.838470\n",
       "s1 file                       73.295150\n",
       "previously described          72.642214\n",
       "meta analysis                 72.617060\n",
       "pdf click                     72.568815\n",
       "year old                      72.457221\n",
       "Name: 9082, dtype: float64"
      ]
     },
     "execution_count": 41,
     "metadata": {},
     "output_type": "execute_result"
    }
   ],
   "source": [
    "vect_no_retract.iloc[9082, :].sort_values(ascending=False).head(25)"
   ]
  },
  {
   "cell_type": "markdown",
   "metadata": {},
   "source": [
    "### Most Common Single Words"
   ]
  },
  {
   "cell_type": "code",
   "execution_count": 68,
   "metadata": {},
   "outputs": [],
   "source": [
    "vectorizer = CountVectorizer(analyzer = 'word',\n",
    "                            tokenizer = None,\n",
    "                            preprocessor = None,\n",
    "                            stop_words = total_stopwords,\n",
    "                            max_features = 20000)\n",
    "\n",
    "vectorizer.fit(X_train)\n",
    "\n",
    "X_train = vectorizer.transform(X_train)\n",
    "X_test = vectorizer.transform(X_test)\n",
    "\n",
    "X_train_df = pd.DataFrame(X_train.toarray(),\n",
    "                          columns=vectorizer.get_feature_names())\n",
    "X_test_df = pd.DataFrame(X_test.toarray(),\n",
    "                          columns=vectorizer.get_feature_names())"
   ]
  },
  {
   "cell_type": "markdown",
   "metadata": {},
   "source": [
    "#### Retractions"
   ]
  },
  {
   "cell_type": "code",
   "execution_count": 69,
   "metadata": {},
   "outputs": [],
   "source": [
    "vectorizer.fit(retract['clean_text_lem'])\n",
    "vect = vectorizer.transform(retract['clean_text_lem'])\n",
    "vect_retract = pd.DataFrame(vect.toarray(), columns = vectorizer.get_feature_names())"
   ]
  },
  {
   "cell_type": "code",
   "execution_count": 70,
   "metadata": {},
   "outputs": [
    {
     "data": {
      "text/html": [
       "<div>\n",
       "<style scoped>\n",
       "    .dataframe tbody tr th:only-of-type {\n",
       "        vertical-align: middle;\n",
       "    }\n",
       "\n",
       "    .dataframe tbody tr th {\n",
       "        vertical-align: top;\n",
       "    }\n",
       "\n",
       "    .dataframe thead th {\n",
       "        text-align: right;\n",
       "    }\n",
       "</style>\n",
       "<table border=\"1\" class=\"dataframe\">\n",
       "  <thead>\n",
       "    <tr style=\"text-align: right;\">\n",
       "      <th></th>\n",
       "      <th>000x</th>\n",
       "      <th>011figure</th>\n",
       "      <th>012a</th>\n",
       "      <th>013figure</th>\n",
       "      <th>01the</th>\n",
       "      <th>01to</th>\n",
       "      <th>0a</th>\n",
       "      <th>0d0</th>\n",
       "      <th>0d8</th>\n",
       "      <th>103rkocolon0</th>\n",
       "      <th>...</th>\n",
       "      <th>χ2</th>\n",
       "      <th>χn</th>\n",
       "      <th>χγ</th>\n",
       "      <th>χζ</th>\n",
       "      <th>ψb</th>\n",
       "      <th>ψh</th>\n",
       "      <th>ψp</th>\n",
       "      <th>ωu2</th>\n",
       "      <th>ϵ0</th>\n",
       "      <th>ϵqph</th>\n",
       "    </tr>\n",
       "  </thead>\n",
       "  <tbody>\n",
       "    <tr>\n",
       "      <th>1533</th>\n",
       "      <td>0</td>\n",
       "      <td>0</td>\n",
       "      <td>0</td>\n",
       "      <td>0</td>\n",
       "      <td>0</td>\n",
       "      <td>0</td>\n",
       "      <td>0</td>\n",
       "      <td>0</td>\n",
       "      <td>0</td>\n",
       "      <td>0</td>\n",
       "      <td>...</td>\n",
       "      <td>2</td>\n",
       "      <td>0</td>\n",
       "      <td>0</td>\n",
       "      <td>0</td>\n",
       "      <td>0</td>\n",
       "      <td>0</td>\n",
       "      <td>0</td>\n",
       "      <td>0</td>\n",
       "      <td>0</td>\n",
       "      <td>0</td>\n",
       "    </tr>\n",
       "    <tr>\n",
       "      <th>1534</th>\n",
       "      <td>0</td>\n",
       "      <td>0</td>\n",
       "      <td>0</td>\n",
       "      <td>0</td>\n",
       "      <td>0</td>\n",
       "      <td>0</td>\n",
       "      <td>0</td>\n",
       "      <td>0</td>\n",
       "      <td>0</td>\n",
       "      <td>0</td>\n",
       "      <td>...</td>\n",
       "      <td>0</td>\n",
       "      <td>0</td>\n",
       "      <td>0</td>\n",
       "      <td>0</td>\n",
       "      <td>0</td>\n",
       "      <td>0</td>\n",
       "      <td>0</td>\n",
       "      <td>0</td>\n",
       "      <td>0</td>\n",
       "      <td>0</td>\n",
       "    </tr>\n",
       "    <tr>\n",
       "      <th>1535</th>\n",
       "      <td>0</td>\n",
       "      <td>0</td>\n",
       "      <td>0</td>\n",
       "      <td>0</td>\n",
       "      <td>0</td>\n",
       "      <td>0</td>\n",
       "      <td>0</td>\n",
       "      <td>0</td>\n",
       "      <td>0</td>\n",
       "      <td>0</td>\n",
       "      <td>...</td>\n",
       "      <td>0</td>\n",
       "      <td>0</td>\n",
       "      <td>0</td>\n",
       "      <td>0</td>\n",
       "      <td>0</td>\n",
       "      <td>0</td>\n",
       "      <td>0</td>\n",
       "      <td>0</td>\n",
       "      <td>0</td>\n",
       "      <td>0</td>\n",
       "    </tr>\n",
       "    <tr>\n",
       "      <th>1536</th>\n",
       "      <td>0</td>\n",
       "      <td>0</td>\n",
       "      <td>0</td>\n",
       "      <td>0</td>\n",
       "      <td>0</td>\n",
       "      <td>0</td>\n",
       "      <td>0</td>\n",
       "      <td>0</td>\n",
       "      <td>0</td>\n",
       "      <td>0</td>\n",
       "      <td>...</td>\n",
       "      <td>8</td>\n",
       "      <td>0</td>\n",
       "      <td>0</td>\n",
       "      <td>0</td>\n",
       "      <td>0</td>\n",
       "      <td>0</td>\n",
       "      <td>0</td>\n",
       "      <td>0</td>\n",
       "      <td>0</td>\n",
       "      <td>0</td>\n",
       "    </tr>\n",
       "    <tr>\n",
       "      <th>1537</th>\n",
       "      <td>42</td>\n",
       "      <td>34</td>\n",
       "      <td>42</td>\n",
       "      <td>32</td>\n",
       "      <td>32</td>\n",
       "      <td>42</td>\n",
       "      <td>40</td>\n",
       "      <td>108</td>\n",
       "      <td>34</td>\n",
       "      <td>30</td>\n",
       "      <td>...</td>\n",
       "      <td>836</td>\n",
       "      <td>112</td>\n",
       "      <td>112</td>\n",
       "      <td>112</td>\n",
       "      <td>196</td>\n",
       "      <td>1176</td>\n",
       "      <td>420</td>\n",
       "      <td>54</td>\n",
       "      <td>198</td>\n",
       "      <td>56</td>\n",
       "    </tr>\n",
       "  </tbody>\n",
       "</table>\n",
       "<p>5 rows × 20000 columns</p>\n",
       "</div>"
      ],
      "text/plain": [
       "      000x  011figure  012a  013figure  01the  01to  0a  0d0  0d8  \\\n",
       "1533     0          0     0          0      0     0   0    0    0   \n",
       "1534     0          0     0          0      0     0   0    0    0   \n",
       "1535     0          0     0          0      0     0   0    0    0   \n",
       "1536     0          0     0          0      0     0   0    0    0   \n",
       "1537    42         34    42         32     32    42  40  108   34   \n",
       "\n",
       "      103rkocolon0  ...   χ2   χn   χγ   χζ   ψb    ψh   ψp  ωu2   ϵ0  ϵqph  \n",
       "1533             0  ...    2    0    0    0    0     0    0    0    0     0  \n",
       "1534             0  ...    0    0    0    0    0     0    0    0    0     0  \n",
       "1535             0  ...    0    0    0    0    0     0    0    0    0     0  \n",
       "1536             0  ...    8    0    0    0    0     0    0    0    0     0  \n",
       "1537            30  ...  836  112  112  112  196  1176  420   54  198    56  \n",
       "\n",
       "[5 rows x 20000 columns]"
      ]
     },
     "execution_count": 70,
     "metadata": {},
     "output_type": "execute_result"
    }
   ],
   "source": [
    "ls = []\n",
    "for i in vect_retract.columns:\n",
    "    word_sum = vect_retract[i].sum()\n",
    "    ls.append(word_sum) #create a list of the total number of times each word was used\n",
    "\n",
    "#The script below was adapted from https://www.kite.com/python/answers/how-to-append-a-list-as-a-row-to-a-pandas-dataframe-in-python\n",
    "sum_row = pd.Series(ls, index = vect_retract.columns) #the list was turned into a series\n",
    "vect_retract = vect_retract.append(sum_row, ignore_index = True) #the series was added to the end of the dataframe as a new row\n",
    "vect_retract.tail()"
   ]
  },
  {
   "cell_type": "code",
   "execution_count": 71,
   "metadata": {},
   "outputs": [
    {
     "data": {
      "text/plain": [
       "cell             128810\n",
       "study             42884\n",
       "group             40348\n",
       "level             39027\n",
       "patient           37508\n",
       "expression        35759\n",
       "control           35270\n",
       "protein           31496\n",
       "analysis          27986\n",
       "gene              26404\n",
       "time              26017\n",
       "treatment         24966\n",
       "effect            24135\n",
       "antibody          21716\n",
       "vitamin           20472\n",
       "mouse             19963\n",
       "sample            19096\n",
       "compared          18733\n",
       "different         17579\n",
       "significant       17245\n",
       "value             17214\n",
       "concentration     17061\n",
       "model             17035\n",
       "well              17003\n",
       "day               16819\n",
       "high              16804\n",
       "disease           16737\n",
       "performed         16691\n",
       "shown             16551\n",
       "significantly     16392\n",
       "response          16061\n",
       "activity          15977\n",
       "mean              15827\n",
       "cancer            15551\n",
       "three             15214\n",
       "treated           15194\n",
       "test              15174\n",
       "showed            15075\n",
       "tissue            14903\n",
       "number            14850\n",
       "hiv               14562\n",
       "increased         14379\n",
       "serum             14277\n",
       "type              14254\n",
       "line              14187\n",
       "tumor             13889\n",
       "human             13668\n",
       "observed          13391\n",
       "assay             13260\n",
       "dna               13196\n",
       "Name: 1537, dtype: int64"
      ]
     },
     "execution_count": 71,
     "metadata": {},
     "output_type": "execute_result"
    }
   ],
   "source": [
    "vect_retract.iloc[1537, :].sort_values(ascending=False).head(50)"
   ]
  },
  {
   "cell_type": "markdown",
   "metadata": {},
   "source": [
    "#### No Retractions"
   ]
  },
  {
   "cell_type": "code",
   "execution_count": 72,
   "metadata": {},
   "outputs": [],
   "source": [
    "vectorizer.fit(no_retract['clean_text_lem'])\n",
    "vect = vectorizer.transform(no_retract['clean_text_lem'])\n",
    "vect_no_retract = pd.DataFrame(vect.toarray(), columns = vectorizer.get_feature_names())"
   ]
  },
  {
   "cell_type": "code",
   "execution_count": 73,
   "metadata": {},
   "outputs": [
    {
     "data": {
      "text/html": [
       "<div>\n",
       "<style scoped>\n",
       "    .dataframe tbody tr th:only-of-type {\n",
       "        vertical-align: middle;\n",
       "    }\n",
       "\n",
       "    .dataframe tbody tr th {\n",
       "        vertical-align: top;\n",
       "    }\n",
       "\n",
       "    .dataframe thead th {\n",
       "        text-align: right;\n",
       "    }\n",
       "</style>\n",
       "<table border=\"1\" class=\"dataframe\">\n",
       "  <thead>\n",
       "    <tr style=\"text-align: right;\">\n",
       "      <th></th>\n",
       "      <th>000g</th>\n",
       "      <th>0h</th>\n",
       "      <th>0m</th>\n",
       "      <th>0mm</th>\n",
       "      <th>0t</th>\n",
       "      <th>0δnls</th>\n",
       "      <th>10</th>\n",
       "      <th>1000g</th>\n",
       "      <th>100g</th>\n",
       "      <th>100mg</th>\n",
       "      <th>...</th>\n",
       "      <th>σ1r</th>\n",
       "      <th>σ2</th>\n",
       "      <th>σi</th>\n",
       "      <th>τ1</th>\n",
       "      <th>τ2</th>\n",
       "      <th>φi</th>\n",
       "      <th>χ2</th>\n",
       "      <th>ϕ1</th>\n",
       "      <th>ϕ2</th>\n",
       "      <th>ϕi</th>\n",
       "    </tr>\n",
       "  </thead>\n",
       "  <tbody>\n",
       "    <tr>\n",
       "      <th>9078</th>\n",
       "      <td>0</td>\n",
       "      <td>0</td>\n",
       "      <td>0</td>\n",
       "      <td>0</td>\n",
       "      <td>0</td>\n",
       "      <td>0</td>\n",
       "      <td>0</td>\n",
       "      <td>0</td>\n",
       "      <td>0</td>\n",
       "      <td>0</td>\n",
       "      <td>...</td>\n",
       "      <td>0</td>\n",
       "      <td>0</td>\n",
       "      <td>0</td>\n",
       "      <td>0</td>\n",
       "      <td>0</td>\n",
       "      <td>0</td>\n",
       "      <td>0</td>\n",
       "      <td>0</td>\n",
       "      <td>0</td>\n",
       "      <td>0</td>\n",
       "    </tr>\n",
       "    <tr>\n",
       "      <th>9079</th>\n",
       "      <td>0</td>\n",
       "      <td>0</td>\n",
       "      <td>0</td>\n",
       "      <td>0</td>\n",
       "      <td>0</td>\n",
       "      <td>0</td>\n",
       "      <td>0</td>\n",
       "      <td>0</td>\n",
       "      <td>0</td>\n",
       "      <td>0</td>\n",
       "      <td>...</td>\n",
       "      <td>0</td>\n",
       "      <td>0</td>\n",
       "      <td>0</td>\n",
       "      <td>0</td>\n",
       "      <td>0</td>\n",
       "      <td>0</td>\n",
       "      <td>0</td>\n",
       "      <td>0</td>\n",
       "      <td>0</td>\n",
       "      <td>0</td>\n",
       "    </tr>\n",
       "    <tr>\n",
       "      <th>9080</th>\n",
       "      <td>0</td>\n",
       "      <td>0</td>\n",
       "      <td>0</td>\n",
       "      <td>0</td>\n",
       "      <td>0</td>\n",
       "      <td>0</td>\n",
       "      <td>0</td>\n",
       "      <td>0</td>\n",
       "      <td>0</td>\n",
       "      <td>0</td>\n",
       "      <td>...</td>\n",
       "      <td>0</td>\n",
       "      <td>0</td>\n",
       "      <td>0</td>\n",
       "      <td>0</td>\n",
       "      <td>0</td>\n",
       "      <td>0</td>\n",
       "      <td>0</td>\n",
       "      <td>0</td>\n",
       "      <td>0</td>\n",
       "      <td>0</td>\n",
       "    </tr>\n",
       "    <tr>\n",
       "      <th>9081</th>\n",
       "      <td>0</td>\n",
       "      <td>0</td>\n",
       "      <td>0</td>\n",
       "      <td>0</td>\n",
       "      <td>0</td>\n",
       "      <td>0</td>\n",
       "      <td>0</td>\n",
       "      <td>0</td>\n",
       "      <td>0</td>\n",
       "      <td>0</td>\n",
       "      <td>...</td>\n",
       "      <td>0</td>\n",
       "      <td>0</td>\n",
       "      <td>0</td>\n",
       "      <td>0</td>\n",
       "      <td>0</td>\n",
       "      <td>0</td>\n",
       "      <td>0</td>\n",
       "      <td>0</td>\n",
       "      <td>0</td>\n",
       "      <td>0</td>\n",
       "    </tr>\n",
       "    <tr>\n",
       "      <th>9082</th>\n",
       "      <td>290</td>\n",
       "      <td>143</td>\n",
       "      <td>138</td>\n",
       "      <td>161</td>\n",
       "      <td>154</td>\n",
       "      <td>256</td>\n",
       "      <td>186</td>\n",
       "      <td>171</td>\n",
       "      <td>297</td>\n",
       "      <td>200</td>\n",
       "      <td>...</td>\n",
       "      <td>197</td>\n",
       "      <td>414</td>\n",
       "      <td>250</td>\n",
       "      <td>243</td>\n",
       "      <td>286</td>\n",
       "      <td>187</td>\n",
       "      <td>3942</td>\n",
       "      <td>237</td>\n",
       "      <td>185</td>\n",
       "      <td>230</td>\n",
       "    </tr>\n",
       "  </tbody>\n",
       "</table>\n",
       "<p>5 rows × 20000 columns</p>\n",
       "</div>"
      ],
      "text/plain": [
       "      000g   0h   0m  0mm   0t  0δnls   10  1000g  100g  100mg  ...  σ1r   σ2  \\\n",
       "9078     0    0    0    0    0      0    0      0     0      0  ...    0    0   \n",
       "9079     0    0    0    0    0      0    0      0     0      0  ...    0    0   \n",
       "9080     0    0    0    0    0      0    0      0     0      0  ...    0    0   \n",
       "9081     0    0    0    0    0      0    0      0     0      0  ...    0    0   \n",
       "9082   290  143  138  161  154    256  186    171   297    200  ...  197  414   \n",
       "\n",
       "       σi   τ1   τ2   φi    χ2   ϕ1   ϕ2   ϕi  \n",
       "9078    0    0    0    0     0    0    0    0  \n",
       "9079    0    0    0    0     0    0    0    0  \n",
       "9080    0    0    0    0     0    0    0    0  \n",
       "9081    0    0    0    0     0    0    0    0  \n",
       "9082  250  243  286  187  3942  237  185  230  \n",
       "\n",
       "[5 rows x 20000 columns]"
      ]
     },
     "execution_count": 73,
     "metadata": {},
     "output_type": "execute_result"
    }
   ],
   "source": [
    "ls = []\n",
    "for i in vect_no_retract.columns:\n",
    "    word_sum = vect_no_retract[i].sum()\n",
    "    ls.append(word_sum) #create a list of the total number of times each word was used\n",
    "\n",
    "#The script below was adapted from https://www.kite.com/python/answers/how-to-append-a-list-as-a-row-to-a-pandas-dataframe-in-python\n",
    "sum_row = pd.Series(ls, index = vect_no_retract.columns) #the list was turned into a series\n",
    "vect_no_retract = vect_no_retract.append(sum_row, ignore_index = True) #the series was added to the end of the dataframe as a new row\n",
    "vect_no_retract.tail()"
   ]
  },
  {
   "cell_type": "code",
   "execution_count": 76,
   "metadata": {},
   "outputs": [
    {
     "data": {
      "text/plain": [
       "cell             268720\n",
       "study            260731\n",
       "group            168998\n",
       "analysis         161676\n",
       "patient          147706\n",
       "time             144462\n",
       "level            142394\n",
       "value            127528\n",
       "model            127451\n",
       "sample           119364\n",
       "gene             117356\n",
       "effect           117060\n",
       "number           112058\n",
       "control          108510\n",
       "protein          105820\n",
       "different        100419\n",
       "test             100106\n",
       "significant       98786\n",
       "expression        95808\n",
       "difference        91182\n",
       "mean              89702\n",
       "compared          85366\n",
       "treatment         83195\n",
       "high              82474\n",
       "day               81410\n",
       "three             80504\n",
       "mouse             78121\n",
       "performed         73236\n",
       "higher            72547\n",
       "found             72346\n",
       "year              72083\n",
       "shown             72014\n",
       "total             71693\n",
       "rate              70206\n",
       "observed          70175\n",
       "condition         69433\n",
       "non               68626\n",
       "type              68105\n",
       "first             67409\n",
       "change            67199\n",
       "well              66928\n",
       "method            66857\n",
       "age               66439\n",
       "significantly     66349\n",
       "factor            65465\n",
       "activity          64489\n",
       "specie            63085\n",
       "participant       62744\n",
       "individual        62608\n",
       "response          62056\n",
       "Name: 9082, dtype: int64"
      ]
     },
     "execution_count": 76,
     "metadata": {},
     "output_type": "execute_result"
    }
   ],
   "source": [
    "vect_no_retract.iloc[9082, :].sort_values(ascending=False).head(50)"
   ]
  },
  {
   "cell_type": "markdown",
   "metadata": {},
   "source": [
    "### Chosen Decision Tree Model"
   ]
  },
  {
   "cell_type": "code",
   "execution_count": 9,
   "metadata": {},
   "outputs": [],
   "source": [
    "dtc = DecisionTreeClassifier()\n",
    "model = dtc.fit(X_train_df, y_train)"
   ]
  },
  {
   "cell_type": "code",
   "execution_count": 20,
   "metadata": {},
   "outputs": [
    {
     "name": "stdout",
     "output_type": "stream",
     "text": [
      "|--- declare <= 0.50\n",
      "|   |--- µg <= 0.50\n",
      "|   |   |--- click <= 0.50\n",
      "|   |   |   |--- analysis <= 1.50\n",
      "|   |   |   |   |--- number <= 3.50\n",
      "|   |   |   |   |   |--- show <= 2.50\n",
      "|   |   |   |   |   |   |--- please <= 0.50\n",
      "|   |   |   |   |   |   |   |--- rate <= 8.50\n",
      "|   |   |   |   |   |   |   |   |--- province <= 0.50\n",
      "|   |   |   |   |   |   |   |   |   |--- dynamic <= 0.50\n",
      "|   |   |   |   |   |   |   |   |   |   |--- interpreted <= 0.50\n",
      "|   |   |   |   |   |   |   |   |   |   |   |--- truncated branch of depth 3\n",
      "|   |   |   |   |   |   |   |   |   |   |--- interpreted >  0.50\n",
      "|   |   |   |   |   |   |   |   |   |   |   |--- truncated branch of depth 2\n",
      "|   |   |   |   |   |   |   |   |   |--- dynamic >  0.50\n",
      "|   |   |   |   |   |   |   |   |   |   |--- improved <= 0.50\n",
      "|   |   |   |   |   |   |   |   |   |   |   |--- class: 0\n",
      "|   |   |   |   |   |   |   |   |   |   |--- improved >  0.50\n",
      "|   |   |   |   |   |   |   |   |   |   |   |--- class: 1\n",
      "|   |   |   |   |   |   |   |   |--- province >  0.50\n",
      "|   |   |   |   |   |   |   |   |   |--- convalescent <= 0.50\n",
      "|   |   |   |   |   |   |   |   |   |   |--- class: 0\n",
      "|   |   |   |   |   |   |   |   |   |--- convalescent >  0.50\n",
      "|   |   |   |   |   |   |   |   |   |   |--- class: 1\n",
      "|   |   |   |   |   |   |   |--- rate >  8.50\n",
      "|   |   |   |   |   |   |   |   |--- class: 0\n",
      "|   |   |   |   |   |   |--- please >  0.50\n",
      "|   |   |   |   |   |   |   |--- class: 0\n",
      "|   |   |   |   |   |--- show >  2.50\n",
      "|   |   |   |   |   |   |--- although <= 0.50\n",
      "|   |   |   |   |   |   |   |--- maximum <= 0.50\n",
      "|   |   |   |   |   |   |   |   |--- sharply <= 0.50\n",
      "|   |   |   |   |   |   |   |   |   |--- class: 1\n",
      "|   |   |   |   |   |   |   |   |--- sharply >  0.50\n",
      "|   |   |   |   |   |   |   |   |   |--- class: 0\n",
      "|   |   |   |   |   |   |   |--- maximum >  0.50\n",
      "|   |   |   |   |   |   |   |   |--- class: 0\n",
      "|   |   |   |   |   |   |--- although >  0.50\n",
      "|   |   |   |   |   |   |   |--- good <= 0.50\n",
      "|   |   |   |   |   |   |   |   |--- class: 0\n",
      "|   |   |   |   |   |   |   |--- good >  0.50\n",
      "|   |   |   |   |   |   |   |   |--- representative <= 0.50\n",
      "|   |   |   |   |   |   |   |   |   |--- class: 1\n",
      "|   |   |   |   |   |   |   |   |--- representative >  0.50\n",
      "|   |   |   |   |   |   |   |   |   |--- class: 0\n",
      "|   |   |   |   |--- number >  3.50\n",
      "|   |   |   |   |   |--- pain <= 0.50\n",
      "|   |   |   |   |   |   |--- unsuccessful <= 0.50\n",
      "|   |   |   |   |   |   |   |--- exercise <= 0.50\n",
      "|   |   |   |   |   |   |   |   |--- partition <= 1.00\n",
      "|   |   |   |   |   |   |   |   |   |--- confirmation <= 1.50\n",
      "|   |   |   |   |   |   |   |   |   |   |--- tga <= 3.00\n",
      "|   |   |   |   |   |   |   |   |   |   |   |--- truncated branch of depth 2\n",
      "|   |   |   |   |   |   |   |   |   |   |--- tga >  3.00\n",
      "|   |   |   |   |   |   |   |   |   |   |   |--- class: 1\n",
      "|   |   |   |   |   |   |   |   |   |--- confirmation >  1.50\n",
      "|   |   |   |   |   |   |   |   |   |   |--- class: 1\n",
      "|   |   |   |   |   |   |   |   |--- partition >  1.00\n",
      "|   |   |   |   |   |   |   |   |   |--- addition <= 8.50\n",
      "|   |   |   |   |   |   |   |   |   |   |--- class: 1\n",
      "|   |   |   |   |   |   |   |   |   |--- addition >  8.50\n",
      "|   |   |   |   |   |   |   |   |   |   |--- class: 0\n",
      "|   |   |   |   |   |   |   |--- exercise >  0.50\n",
      "|   |   |   |   |   |   |   |   |--- body <= 2.00\n",
      "|   |   |   |   |   |   |   |   |   |--- class: 0\n",
      "|   |   |   |   |   |   |   |   |--- body >  2.00\n",
      "|   |   |   |   |   |   |   |   |   |--- class: 1\n",
      "|   |   |   |   |   |   |--- unsuccessful >  0.50\n",
      "|   |   |   |   |   |   |   |--- class: 1\n",
      "|   |   |   |   |   |--- pain >  0.50\n",
      "|   |   |   |   |   |   |--- class: 1\n",
      "|   |   |   |--- analysis >  1.50\n",
      "|   |   |   |   |--- figures <= 0.50\n",
      "|   |   |   |   |   |--- cancer <= 12.50\n",
      "|   |   |   |   |   |   |--- non <= 0.50\n",
      "|   |   |   |   |   |   |   |--- statistically <= 4.50\n",
      "|   |   |   |   |   |   |   |   |--- cite <= 0.50\n",
      "|   |   |   |   |   |   |   |   |   |--- three <= 1.50\n",
      "|   |   |   |   |   |   |   |   |   |   |--- previously <= 0.50\n",
      "|   |   |   |   |   |   |   |   |   |   |   |--- truncated branch of depth 6\n",
      "|   |   |   |   |   |   |   |   |   |   |--- previously >  0.50\n",
      "|   |   |   |   |   |   |   |   |   |   |   |--- truncated branch of depth 4\n",
      "|   |   |   |   |   |   |   |   |   |--- three >  1.50\n",
      "|   |   |   |   |   |   |   |   |   |   |--- fibroblast <= 5.00\n",
      "|   |   |   |   |   |   |   |   |   |   |   |--- truncated branch of depth 14\n",
      "|   |   |   |   |   |   |   |   |   |   |--- fibroblast >  5.00\n",
      "|   |   |   |   |   |   |   |   |   |   |   |--- class: 1\n",
      "|   |   |   |   |   |   |   |   |--- cite >  0.50\n",
      "|   |   |   |   |   |   |   |   |   |--- class: 1\n",
      "|   |   |   |   |   |   |   |--- statistically >  4.50\n",
      "|   |   |   |   |   |   |   |   |--- proportion <= 0.50\n",
      "|   |   |   |   |   |   |   |   |   |--- contribute <= 1.50\n",
      "|   |   |   |   |   |   |   |   |   |   |--- retrospective <= 3.50\n",
      "|   |   |   |   |   |   |   |   |   |   |   |--- truncated branch of depth 2\n",
      "|   |   |   |   |   |   |   |   |   |   |--- retrospective >  3.50\n",
      "|   |   |   |   |   |   |   |   |   |   |   |--- class: 0\n",
      "|   |   |   |   |   |   |   |   |   |--- contribute >  1.50\n",
      "|   |   |   |   |   |   |   |   |   |   |--- class: 0\n",
      "|   |   |   |   |   |   |   |   |--- proportion >  0.50\n",
      "|   |   |   |   |   |   |   |   |   |--- unpublished <= 0.50\n",
      "|   |   |   |   |   |   |   |   |   |   |--- class: 0\n",
      "|   |   |   |   |   |   |   |   |   |--- unpublished >  0.50\n",
      "|   |   |   |   |   |   |   |   |   |   |--- class: 1\n",
      "|   |   |   |   |   |   |--- non >  0.50\n",
      "|   |   |   |   |   |   |   |--- supplementary <= 3.50\n",
      "|   |   |   |   |   |   |   |   |--- µm <= 1.00\n",
      "|   |   |   |   |   |   |   |   |   |--- amsfonts <= 0.50\n",
      "|   |   |   |   |   |   |   |   |   |   |--- set <= 0.50\n",
      "|   |   |   |   |   |   |   |   |   |   |   |--- truncated branch of depth 35\n",
      "|   |   |   |   |   |   |   |   |   |   |--- set >  0.50\n",
      "|   |   |   |   |   |   |   |   |   |   |   |--- truncated branch of depth 19\n",
      "|   |   |   |   |   |   |   |   |   |--- amsfonts >  0.50\n",
      "|   |   |   |   |   |   |   |   |   |   |--- class: 1\n",
      "|   |   |   |   |   |   |   |   |--- µm >  1.00\n",
      "|   |   |   |   |   |   |   |   |   |--- indeed <= 0.50\n",
      "|   |   |   |   |   |   |   |   |   |   |--- class: 1\n",
      "|   |   |   |   |   |   |   |   |   |--- indeed >  0.50\n",
      "|   |   |   |   |   |   |   |   |   |   |--- class: 0\n",
      "|   |   |   |   |   |   |   |--- supplementary >  3.50\n",
      "|   |   |   |   |   |   |   |   |--- difference <= 7.50\n",
      "|   |   |   |   |   |   |   |   |   |--- class: 1\n",
      "|   |   |   |   |   |   |   |   |--- difference >  7.50\n",
      "|   |   |   |   |   |   |   |   |   |--- hdl <= 0.50\n",
      "|   |   |   |   |   |   |   |   |   |   |--- class: 0\n",
      "|   |   |   |   |   |   |   |   |   |--- hdl >  0.50\n",
      "|   |   |   |   |   |   |   |   |   |   |--- class: 1\n",
      "|   |   |   |   |   |--- cancer >  12.50\n",
      "|   |   |   |   |   |   |--- downregulated <= 0.50\n",
      "|   |   |   |   |   |   |   |--- previously <= 0.50\n",
      "|   |   |   |   |   |   |   |   |--- number <= 9.50\n",
      "|   |   |   |   |   |   |   |   |   |--- dissection <= 0.50\n",
      "|   |   |   |   |   |   |   |   |   |   |--- performance <= 2.50\n",
      "|   |   |   |   |   |   |   |   |   |   |   |--- truncated branch of depth 3\n",
      "|   |   |   |   |   |   |   |   |   |   |--- performance >  2.50\n",
      "|   |   |   |   |   |   |   |   |   |   |   |--- class: 0\n",
      "|   |   |   |   |   |   |   |   |   |--- dissection >  0.50\n",
      "|   |   |   |   |   |   |   |   |   |   |--- class: 0\n",
      "|   |   |   |   |   |   |   |   |--- number >  9.50\n",
      "|   |   |   |   |   |   |   |   |   |--- stem <= 5.50\n",
      "|   |   |   |   |   |   |   |   |   |   |--- class: 0\n",
      "|   |   |   |   |   |   |   |   |   |--- stem >  5.50\n",
      "|   |   |   |   |   |   |   |   |   |   |--- class: 1\n",
      "|   |   |   |   |   |   |   |--- previously >  0.50\n",
      "|   |   |   |   |   |   |   |   |--- transfection <= 17.50\n",
      "|   |   |   |   |   |   |   |   |   |--- australia <= 0.50\n",
      "|   |   |   |   |   |   |   |   |   |   |--- diego <= 1.00\n",
      "|   |   |   |   |   |   |   |   |   |   |   |--- truncated branch of depth 3\n",
      "|   |   |   |   |   |   |   |   |   |   |--- diego >  1.00\n",
      "|   |   |   |   |   |   |   |   |   |   |   |--- truncated branch of depth 2\n",
      "|   |   |   |   |   |   |   |   |   |--- australia >  0.50\n",
      "|   |   |   |   |   |   |   |   |   |   |--- class: 1\n",
      "|   |   |   |   |   |   |   |   |--- transfection >  17.50\n",
      "|   |   |   |   |   |   |   |   |   |--- lightcycler <= 1.00\n",
      "|   |   |   |   |   |   |   |   |   |   |--- class: 1\n",
      "|   |   |   |   |   |   |   |   |   |--- lightcycler >  1.00\n",
      "|   |   |   |   |   |   |   |   |   |   |--- class: 0\n",
      "|   |   |   |   |   |   |--- downregulated >  0.50\n",
      "|   |   |   |   |   |   |   |--- similarly <= 2.50\n",
      "|   |   |   |   |   |   |   |   |--- ii <= 4.50\n",
      "|   |   |   |   |   |   |   |   |   |--- aggression <= 0.50\n",
      "|   |   |   |   |   |   |   |   |   |   |--- class: 1\n",
      "|   |   |   |   |   |   |   |   |   |--- aggression >  0.50\n",
      "|   |   |   |   |   |   |   |   |   |   |--- class: 0\n",
      "|   |   |   |   |   |   |   |   |--- ii >  4.50\n",
      "|   |   |   |   |   |   |   |   |   |--- class: 0\n",
      "|   |   |   |   |   |   |   |--- similarly >  2.50\n",
      "|   |   |   |   |   |   |   |   |--- class: 0\n",
      "|   |   |   |   |--- figures >  0.50\n",
      "|   |   |   |   |   |--- regarding <= 4.50\n",
      "|   |   |   |   |   |   |--- field <= 9.50\n",
      "|   |   |   |   |   |   |   |--- average <= 16.50\n",
      "|   |   |   |   |   |   |   |   |--- translocate <= 0.50\n",
      "|   |   |   |   |   |   |   |   |   |--- class: 1\n",
      "|   |   |   |   |   |   |   |   |--- translocate >  0.50\n",
      "|   |   |   |   |   |   |   |   |   |--- class: 0\n",
      "|   |   |   |   |   |   |   |--- average >  16.50\n",
      "|   |   |   |   |   |   |   |   |--- class: 0\n",
      "|   |   |   |   |   |   |--- field >  9.50\n",
      "|   |   |   |   |   |   |   |--- class: 0\n",
      "|   |   |   |   |   |--- regarding >  4.50\n",
      "|   |   |   |   |   |   |--- class: 0\n",
      "|   |   |--- click >  0.50\n",
      "|   |   |   |--- figures <= 6.50\n",
      "|   |   |   |   |--- µm <= 7.00\n",
      "|   |   |   |   |   |--- adriamycin <= 4.50\n",
      "|   |   |   |   |   |   |--- olt <= 5.00\n",
      "|   |   |   |   |   |   |   |--- biochemistry <= 7.50\n",
      "|   |   |   |   |   |   |   |   |--- malat1 <= 2.00\n",
      "|   |   |   |   |   |   |   |   |   |--- emf <= 4.00\n",
      "|   |   |   |   |   |   |   |   |   |   |--- plasma <= 123.50\n",
      "|   |   |   |   |   |   |   |   |   |   |   |--- truncated branch of depth 65\n",
      "|   |   |   |   |   |   |   |   |   |   |--- plasma >  123.50\n",
      "|   |   |   |   |   |   |   |   |   |   |   |--- truncated branch of depth 2\n",
      "|   |   |   |   |   |   |   |   |   |--- emf >  4.00\n",
      "|   |   |   |   |   |   |   |   |   |   |--- predator <= 1.50\n",
      "|   |   |   |   |   |   |   |   |   |   |   |--- class: 1\n",
      "|   |   |   |   |   |   |   |   |   |   |--- predator >  1.50\n",
      "|   |   |   |   |   |   |   |   |   |   |   |--- class: 0\n",
      "|   |   |   |   |   |   |   |   |--- malat1 >  2.00\n",
      "|   |   |   |   |   |   |   |   |   |--- class: 1\n",
      "|   |   |   |   |   |   |   |--- biochemistry >  7.50\n",
      "|   |   |   |   |   |   |   |   |--- class: 1\n",
      "|   |   |   |   |   |   |--- olt >  5.00\n",
      "|   |   |   |   |   |   |   |--- class: 1\n",
      "|   |   |   |   |   |--- adriamycin >  4.50\n",
      "|   |   |   |   |   |   |--- class: 1\n",
      "|   |   |   |   |--- µm >  7.00\n",
      "|   |   |   |   |   |--- total <= 9.50\n",
      "|   |   |   |   |   |   |--- class: 1\n",
      "|   |   |   |   |   |--- total >  9.50\n",
      "|   |   |   |   |   |   |--- class: 0\n",
      "|   |   |   |--- figures >  6.50\n",
      "|   |   |   |   |--- skeleton <= 2.00\n",
      "|   |   |   |   |   |--- class: 1\n",
      "|   |   |   |   |--- skeleton >  2.00\n",
      "|   |   |   |   |   |--- class: 0\n",
      "|   |--- µg >  0.50\n",
      "|   |   |--- wall <= 2.50\n",
      "|   |   |   |--- solved <= 0.50\n",
      "|   |   |   |   |--- vaccination <= 2.50\n",
      "|   |   |   |   |   |--- class: 1\n",
      "|   |   |   |   |--- vaccination >  2.50\n",
      "|   |   |   |   |   |--- class: 0\n",
      "|   |   |   |--- solved >  0.50\n",
      "|   |   |   |   |--- class: 0\n",
      "|   |   |--- wall >  2.50\n",
      "|   |   |   |--- kit <= 4.00\n",
      "|   |   |   |   |--- health <= 6.00\n",
      "|   |   |   |   |   |--- class: 0\n",
      "|   |   |   |   |--- health >  6.00\n",
      "|   |   |   |   |   |--- class: 1\n",
      "|   |   |   |--- kit >  4.00\n",
      "|   |   |   |   |--- class: 1\n",
      "|--- declare >  0.50\n",
      "|   |--- author <= 0.50\n",
      "|   |   |--- ciliated <= 0.50\n",
      "|   |   |   |--- class: 0\n",
      "|   |   |--- ciliated >  0.50\n",
      "|   |   |   |--- class: 1\n",
      "|   |--- author >  0.50\n",
      "|   |   |--- docx <= 0.50\n",
      "|   |   |   |--- polygenic <= 0.50\n",
      "|   |   |   |   |--- financial <= 6.00\n",
      "|   |   |   |   |   |--- interobserver <= 1.00\n",
      "|   |   |   |   |   |   |--- regressed <= 1.50\n",
      "|   |   |   |   |   |   |   |--- egger <= 4.50\n",
      "|   |   |   |   |   |   |   |   |--- class: 1\n",
      "|   |   |   |   |   |   |   |--- egger >  4.50\n",
      "|   |   |   |   |   |   |   |   |--- class: 0\n",
      "|   |   |   |   |   |   |--- regressed >  1.50\n",
      "|   |   |   |   |   |   |   |--- class: 0\n",
      "|   |   |   |   |   |--- interobserver >  1.00\n",
      "|   |   |   |   |   |   |--- class: 0\n",
      "|   |   |   |   |--- financial >  6.00\n",
      "|   |   |   |   |   |--- class: 0\n",
      "|   |   |   |--- polygenic >  0.50\n",
      "|   |   |   |   |--- class: 0\n",
      "|   |   |--- docx >  0.50\n",
      "|   |   |   |--- kb <= 2.00\n",
      "|   |   |   |   |--- class: 0\n",
      "|   |   |   |--- kb >  2.00\n",
      "|   |   |   |   |--- class: 1\n",
      "\n"
     ]
    }
   ],
   "source": [
    "print(export_text(dtc, list(X_train_df.columns)));"
   ]
  },
  {
   "cell_type": "code",
   "execution_count": 12,
   "metadata": {},
   "outputs": [
    {
     "name": "stdout",
     "output_type": "stream",
     "text": [
      "265\n",
      "265\n"
     ]
    }
   ],
   "source": [
    "ls_features = []\n",
    "ls_index = []\n",
    "count = 0\n",
    "for i in model.feature_importances_:\n",
    "    if i != 0:\n",
    "        ls_features.append(i)\n",
    "        ls_index.append(count)\n",
    "    count += 1\n",
    "print(len(ls_features))\n",
    "print(len(ls_index))"
   ]
  },
  {
   "cell_type": "code",
   "execution_count": 14,
   "metadata": {},
   "outputs": [],
   "source": [
    "features = pd.DataFrame(ls_features, columns=['importance'])\n",
    "features['index'] = ls_index"
   ]
  },
  {
   "cell_type": "code",
   "execution_count": 17,
   "metadata": {},
   "outputs": [],
   "source": [
    "features['word'] = X_train_df.columns[[ls_index]]"
   ]
  },
  {
   "cell_type": "code",
   "execution_count": 28,
   "metadata": {},
   "outputs": [
    {
     "data": {
      "text/plain": [
       "55     0.217296\n",
       "261    0.128258\n",
       "40     0.083325\n",
       "13     0.043033\n",
       "86     0.035313\n",
       "152    0.023676\n",
       "21     0.020191\n",
       "32     0.012620\n",
       "174    0.009791\n",
       "147    0.009322\n",
       "Name: importance, dtype: float64"
      ]
     },
     "execution_count": 28,
     "metadata": {},
     "output_type": "execute_result"
    }
   ],
   "source": [
    "features['importance'].sort_values(ascending = False).head(10)"
   ]
  },
  {
   "cell_type": "code",
   "execution_count": 31,
   "metadata": {},
   "outputs": [
    {
     "data": {
      "text/plain": [
       "55      declare\n",
       "261          µg\n",
       "40        click\n",
       "13     analysis\n",
       "86      figures\n",
       "152      number\n",
       "21       author\n",
       "32       cancer\n",
       "174      please\n",
       "147         non\n",
       "Name: word, dtype: object"
      ]
     },
     "execution_count": 31,
     "metadata": {},
     "output_type": "execute_result"
    }
   ],
   "source": [
    "features.iloc[[55, 261, 40, 13, 86, 152, 21, 32, 174, 147], 2]"
   ]
  }
 ],
 "metadata": {
  "kernelspec": {
   "display_name": "Python 3",
   "language": "python",
   "name": "python3"
  },
  "language_info": {
   "codemirror_mode": {
    "name": "ipython",
    "version": 3
   },
   "file_extension": ".py",
   "mimetype": "text/x-python",
   "name": "python",
   "nbconvert_exporter": "python",
   "pygments_lexer": "ipython3",
   "version": "3.8.3"
  }
 },
 "nbformat": 4,
 "nbformat_minor": 4
}
